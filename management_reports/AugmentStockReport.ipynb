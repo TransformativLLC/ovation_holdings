{
 "cells": [
  {
   "cell_type": "code",
   "id": "initial_id",
   "metadata": {
    "collapsed": true,
    "ExecuteTime": {
     "end_time": "2025-04-25T00:48:19.249199Z",
     "start_time": "2025-04-25T00:48:19.247141Z"
    }
   },
   "source": [
    "# Azure Data Lake libraries\n",
    "import azure_data_lake_interface as adl\n",
    "\n",
    "# Helper function libraries\n",
    "from helper_functions import load_config"
   ],
   "outputs": [],
   "execution_count": 15
  },
  {
   "metadata": {
    "ExecuteTime": {
     "end_time": "2025-04-25T00:48:21.155042Z",
     "start_time": "2025-04-25T00:48:21.151018Z"
    }
   },
   "cell_type": "code",
   "source": [
    "# attach to the data lake\n",
    "config = load_config(\"config/datalake_config.json\", flush_cache=True)\n",
    "service_client = adl.get_azure_service_client(config[\"blob_url\"])\n",
    "\n",
    "container_name = \"consolidated\"\n",
    "file_system_client = adl.get_azure_file_system_client(service_client, container_name)"
   ],
   "id": "280fed998d959481",
   "outputs": [],
   "execution_count": 16
  },
  {
   "metadata": {
    "ExecuteTime": {
     "end_time": "2025-04-25T00:48:44.381532Z",
     "start_time": "2025-04-25T00:48:22.105280Z"
    }
   },
   "cell_type": "code",
   "source": [
    "# get stock report, item master, and invoice line df (for sales prices)\n",
    "source_folder = \"cleaned/netsuite\"\n",
    "filename = \"grouped_monthly_stock_reports_2022-01-2025-03_cleaned.parquet\"\n",
    "grouped_items = adl.get_parquet_file_from_data_lake(file_system_client, source_folder, filename)\n",
    "\n",
    "source_folder = \"enhanced/netsuite\"\n",
    "items = adl.get_parquet_file_from_data_lake(file_system_client, source_folder, \"item_enhanced.parquet\")\n",
    "invoice_line_items = adl.get_parquet_file_from_data_lake(file_system_client, source_folder, \"CustInvcItemLineItems_enhanced.parquet\")"
   ],
   "id": "cdd5e9a60b7a777b",
   "outputs": [],
   "execution_count": 17
  },
  {
   "metadata": {
    "ExecuteTime": {
     "end_time": "2025-04-25T00:48:45.266262Z",
     "start_time": "2025-04-25T00:48:45.224482Z"
    }
   },
   "cell_type": "code",
   "source": [
    "# there are duplicate item names for a few records. dropping them as they aren't pertinent.\n",
    "# need to drop them to augment data in grouped_items.\n",
    "duplicate_items = items[items.duplicated(subset='item_name', keep=False)]\n",
    "items = items.drop_duplicates(subset='item_name', keep='first')"
   ],
   "id": "9a7b9cefad23d467",
   "outputs": [],
   "execution_count": 18
  },
  {
   "metadata": {
    "ExecuteTime": {
     "end_time": "2025-04-25T00:48:46.523477Z",
     "start_time": "2025-04-25T00:48:45.980303Z"
    }
   },
   "cell_type": "code",
   "source": [
    "# Add manufacturer and level categories from df to grouped_items\n",
    "# Match on grouped_items Item index with df item_name\n",
    "for category in [f'level_{i}_category' for i in range(1, 7)]:\n",
    "    grouped_items[category] = grouped_items.index.get_level_values('Item').map(items.set_index('item_name')[category])\n",
    "\n",
    "grouped_items['manufacturer'] = grouped_items.index.get_level_values('Item').map(\n",
    "    items.set_index('item_name')['manufacturer'])"
   ],
   "id": "7086b241ac1f8d8e",
   "outputs": [],
   "execution_count": 19
  },
  {
   "metadata": {
    "ExecuteTime": {
     "end_time": "2025-04-25T00:48:47.327152Z",
     "start_time": "2025-04-25T00:48:47.170888Z"
    }
   },
   "cell_type": "code",
   "source": [
    "# group the invoice line df to calculate average sales price for each month\n",
    "invoice_line_items['Month'] = invoice_line_items['created_date'].dt.to_period('M')\n",
    "grouped_line_items = invoice_line_items.groupby(['Month', 'item_name']).agg(\n",
    "    total_quantity=('quantity', 'sum'),\n",
    "    total_sales=('total_amount', 'sum'),\n",
    "    num_invoice_lines=('created_date', 'size')\n",
    ").assign(\n",
    "    total_quantity=lambda df: df['total_quantity'] * -1,\n",
    "    avg_unit_price=lambda df: df['total_sales'] / df['total_quantity']\n",
    ").rename_axis(index={'item_name': 'Item'})"
   ],
   "id": "9e8cddef15146ead",
   "outputs": [],
   "execution_count": 20
  },
  {
   "metadata": {
    "ExecuteTime": {
     "end_time": "2025-04-25T00:48:51.208221Z",
     "start_time": "2025-04-25T00:48:51.074636Z"
    }
   },
   "cell_type": "code",
   "source": [
    "# add sales info to cost info in grouped_items\n",
    "grouped_items = grouped_items.join(\n",
    "    grouped_line_items[['total_quantity', 'total_sales', 'num_invoice_lines', 'avg_unit_price']])"
   ],
   "id": "170e1a4a7d131965",
   "outputs": [],
   "execution_count": 21
  },
  {
   "metadata": {
    "ExecuteTime": {
     "end_time": "2025-04-25T00:48:52.415341Z",
     "start_time": "2025-04-25T00:48:52.402081Z"
    }
   },
   "cell_type": "code",
   "source": [
    "# calculate unit costs and margins\n",
    "grouped_items['avg_unit_cost'] = round(grouped_items['Value of Outputs'] / grouped_items['Total Output Quantity'], 2)\n",
    "grouped_items['gross_unit_margin'] = round(grouped_items['avg_unit_price'] - grouped_items['avg_unit_cost'], 2)\n",
    "grouped_items['gross_unit_margin_pct'] = round((grouped_items['gross_unit_margin'] / grouped_items['avg_unit_price']) * 100, 2)"
   ],
   "id": "e9047108a5f2ed3",
   "outputs": [],
   "execution_count": 22
  },
  {
   "metadata": {
    "ExecuteTime": {
     "end_time": "2025-04-25T00:48:56.295938Z",
     "start_time": "2025-04-25T00:48:56.081348Z"
    }
   },
   "cell_type": "code",
   "source": [
    "# replace nulls values in strings with 'Not Specified'\n",
    "string_cols = ['Description', 'level_1_category', 'level_2_category', 'level_3_category', 'level_4_category',\n",
    "               'level_5_category', 'level_6_category', 'manufacturer']\n",
    "\n",
    "grouped_items[string_cols] = grouped_items[string_cols].fillna('Not Specified')\n",
    "\n",
    "# replace NaNs that should be 0\n",
    "zero_cols = ['total_quantity', 'total_sales', 'num_invoice_lines']\n",
    "grouped_items[zero_cols] = grouped_items[zero_cols].fillna(0.0)"
   ],
   "id": "105f1e3d9f44ce34",
   "outputs": [],
   "execution_count": 23
  },
  {
   "metadata": {
    "ExecuteTime": {
     "end_time": "2025-04-25T00:49:04.686321Z",
     "start_time": "2025-04-25T00:49:03.924146Z"
    }
   },
   "cell_type": "code",
   "source": [
    "# forward-fill NaNs on a oer-item basis (next row in the table is for another item, so have to extract the series for the item one at a time)\n",
    "#\n",
    "# Why it works\n",
    "# groupby(level=\"Item\") splits the DataFrame into sub-DataFrames, one per item.\n",
    "#\n",
    "# .ffill() on each sub-DataFrame carries the last non-NaN for that item forward through its chronological rows.\n",
    "#\n",
    "# The vectorized assignment back to grouped_items[cols_to_fill] merges all those per-item results into the master frame.\n",
    "\n",
    "fill_cols = ['avg_unit_price', 'avg_unit_cost', 'gross_unit_margin', 'gross_unit_margin_pct']\n",
    "\n",
    "filled = (\n",
    "    grouped_items\n",
    "      .groupby(level=\"Item\")[fill_cols]\n",
    "      .ffill()\n",
    ")\n",
    "\n",
    "# put the filled values back into original\n",
    "grouped_items.loc[:, fill_cols] = filled"
   ],
   "id": "d3336601a9755255",
   "outputs": [],
   "execution_count": 24
  },
  {
   "metadata": {
    "ExecuteTime": {
     "end_time": "2025-04-25T00:49:14.563956Z",
     "start_time": "2025-04-25T00:49:10.604321Z"
    }
   },
   "cell_type": "code",
   "source": [
    "# save in the data lake and preserve Month, Item multi-index\n",
    "adl.save_df_as_parquet_in_data_lake(grouped_items, file_system_client, source_folder, 'unit_margin_analysis.parquet', preserve_index=True)"
   ],
   "id": "6db37e0434afa5c2",
   "outputs": [],
   "execution_count": 25
  },
  {
   "metadata": {
    "ExecuteTime": {
     "end_time": "2025-04-25T01:56:39.588944Z",
     "start_time": "2025-04-25T01:56:39.498Z"
    }
   },
   "cell_type": "code",
   "source": [
    "# filter grouped_items: select top 100 df by sales\n",
    "item_sales_totals = grouped_items.groupby('Item').agg({\n",
    "    'total_quantity': 'sum',\n",
    "    'total_sales': 'sum',\n",
    "    'Description': 'first'\n",
    "})\n",
    "item_sales_totals = item_sales_totals.nlargest(100, 'total_sales')\n",
    "item_sales_totals.reset_index(inplace=True)\n",
    "\n",
    "top_100_items = grouped_items[grouped_items.index.get_level_values('Item').isin(item_sales_totals['Item'])]"
   ],
   "id": "5d6188f13b56e0b4",
   "outputs": [],
   "execution_count": 36
  },
  {
   "metadata": {
    "ExecuteTime": {
     "end_time": "2025-04-25T01:57:41.845536Z",
     "start_time": "2025-04-25T01:57:41.683529Z"
    }
   },
   "cell_type": "code",
   "source": "item_sales_totals.to_excel('top100_items.xlsx', index=False)",
   "id": "ca304c8d4c67be22",
   "outputs": [],
   "execution_count": 38
  },
  {
   "metadata": {
    "ExecuteTime": {
     "end_time": "2025-04-25T02:02:01.739360Z",
     "start_time": "2025-04-25T02:01:59.980913Z"
    }
   },
   "cell_type": "code",
   "source": [
    "# save in the data lake and preserve Month, Item multi-index\n",
    "adl.save_df_as_parquet_in_data_lake(top_100_items, file_system_client, source_folder, 'top_100_items.parquet', preserve_index=True)"
   ],
   "id": "2ce6d975dd37ee26",
   "outputs": [],
   "execution_count": 42
  },
  {
   "metadata": {},
   "cell_type": "code",
   "outputs": [],
   "execution_count": null,
   "source": "",
   "id": "497dd12311bbf5f8"
  }
 ],
 "metadata": {
  "kernelspec": {
   "display_name": "Python 3",
   "language": "python",
   "name": "python3"
  },
  "language_info": {
   "codemirror_mode": {
    "name": "ipython",
    "version": 2
   },
   "file_extension": ".py",
   "mimetype": "text/x-python",
   "name": "python",
   "nbconvert_exporter": "python",
   "pygments_lexer": "ipython2",
   "version": "2.7.6"
  }
 },
 "nbformat": 4,
 "nbformat_minor": 5
}
