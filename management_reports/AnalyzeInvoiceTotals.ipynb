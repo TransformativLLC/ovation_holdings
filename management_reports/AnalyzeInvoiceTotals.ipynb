{
 "cells": [
  {
   "cell_type": "code",
   "id": "initial_id",
   "metadata": {
    "collapsed": true,
    "ExecuteTime": {
     "end_time": "2025-01-23T02:49:02.231053Z",
     "start_time": "2025-01-23T02:49:01.537286Z"
    }
   },
   "source": [
    "# Azure Data Lake libraries\n",
    "import azure_data_lake_interface as adl\n",
    "\n",
    "# Data analysis libraries\n",
    "import pandas as pd\n",
    "import sales_orders as so\n",
    "\n",
    "# Helper function libraries\n",
    "from helper_functions import load_config"
   ],
   "outputs": [],
   "execution_count": 1
  },
  {
   "metadata": {
    "ExecuteTime": {
     "end_time": "2025-01-23T02:49:02.244557Z",
     "start_time": "2025-01-23T02:49:02.240813Z"
    }
   },
   "cell_type": "code",
   "source": [
    "# attach to the data lake\n",
    "config = load_config(\"config/datalake_config.json\", flush_cache=True)\n",
    "service_client = adl.get_azure_service_client(config[\"blob_url\"])\n",
    "file_system_client = adl.get_azure_file_system_client(service_client, \"consolidated\")"
   ],
   "id": "280fed998d959481",
   "outputs": [],
   "execution_count": 2
  },
  {
   "metadata": {
    "ExecuteTime": {
     "end_time": "2025-01-22T00:13:06.329531Z",
     "start_time": "2025-01-22T00:13:01.998064Z"
    }
   },
   "cell_type": "code",
   "source": "items = adl.get_parquet_file_from_data_lake(file_system_client, \"raw/netsuite\", \"item_raw.parquet\")",
   "id": "f9acee0d1f277542",
   "outputs": [],
   "execution_count": 3
  },
  {
   "metadata": {
    "ExecuteTime": {
     "end_time": "2025-01-22T00:14:28.950411Z",
     "start_time": "2025-01-22T00:14:27.495914Z"
    }
   },
   "cell_type": "code",
   "source": "items.to_csv(\"data/item_master_records.csv\", index=False)",
   "id": "8d90fb7877ff1b74",
   "outputs": [],
   "execution_count": 6
  },
  {
   "metadata": {
    "ExecuteTime": {
     "end_time": "2025-01-23T02:49:21.968742Z",
     "start_time": "2025-01-23T02:49:17.376473Z"
    }
   },
   "cell_type": "code",
   "source": [
    "# get invoice data\n",
    "invoices = adl.get_parquet_file_from_data_lake(file_system_client, \"raw/netsuite\", \"transaction/CustInvc_raw.parquet\")"
   ],
   "id": "61d69fad3abbbede",
   "outputs": [],
   "execution_count": 3
  },
  {
   "metadata": {
    "ExecuteTime": {
     "end_time": "2025-01-10T17:12:03.584676Z",
     "start_time": "2025-01-10T17:12:03.508558Z"
    }
   },
   "cell_type": "code",
   "source": [
    "# get local customer data\n",
    "customers = pd.read_csv(\"data/active_customers.csv\")\n",
    "\n",
    "# change customer_id to string\n",
    "customers[\"customer_id\"] = customers[\"customer_id\"].astype(str)"
   ],
   "id": "6e036990738e795e",
   "outputs": [],
   "execution_count": 4
  },
  {
   "metadata": {
    "ExecuteTime": {
     "end_time": "2025-01-10T17:12:04.488249Z",
     "start_time": "2025-01-10T17:12:04.307923Z"
    }
   },
   "cell_type": "code",
   "source": [
    "# change created_date to datetime and coerce all dates to datetime\n",
    "invoices[\"created_date\"] = pd.to_datetime(invoices[\"created_date\"], errors=\"coerce\")\n",
    "\n",
    "# change strings to numeric\n",
    "invoices[\"net_amount\"] = pd.to_numeric(invoices[\"net_amount\"], errors=\"coerce\")\n",
    "invoices[\"estimated_gross_profit\"] = pd.to_numeric(invoices[\"estimated_gross_profit\"], errors=\"coerce\")\n",
    "invoices[\"estimated_gross_profit_percent\"] = pd.to_numeric(invoices[\"estimated_gross_profit_percent\"], errors=\"coerce\")"
   ],
   "id": "e01a4d260530db76",
   "outputs": [],
   "execution_count": 5
  },
  {
   "metadata": {
    "ExecuteTime": {
     "end_time": "2025-01-10T17:12:05.414098Z",
     "start_time": "2025-01-10T17:12:05.402315Z"
    }
   },
   "cell_type": "code",
   "source": [
    "# Replace null values with replacement_value\n",
    "invoices[\"location\"] = invoices[\"location\"].replace(\"null\", \"Not Specified\")"
   ],
   "id": "84e50c45e26e8793",
   "outputs": [],
   "execution_count": 6
  },
  {
   "metadata": {
    "ExecuteTime": {
     "end_time": "2025-01-10T17:12:06.800098Z",
     "start_time": "2025-01-10T17:12:06.716995Z"
    }
   },
   "cell_type": "code",
   "source": [
    "# remove all rows outside the date range\n",
    "start_date = \"2022-01-01\"\n",
    "end_date = \"2024-12-31\"\n",
    "\n",
    "invoices = invoices[(invoices[\"created_date\"] >= start_date) & (invoices[\"created_date\"] <= end_date)]"
   ],
   "id": "5358776fcfe4b7c1",
   "outputs": [],
   "execution_count": 7
  },
  {
   "metadata": {
    "ExecuteTime": {
     "end_time": "2025-01-10T17:12:08.403063Z",
     "start_time": "2025-01-10T17:12:08.397250Z"
    }
   },
   "cell_type": "code",
   "source": "invoices[\"net_amount\"].sum()",
   "id": "a91f80feec4dc9dc",
   "outputs": [
    {
     "data": {
      "text/plain": [
       "np.float64(634462087.21)"
      ]
     },
     "execution_count": 8,
     "metadata": {},
     "output_type": "execute_result"
    }
   ],
   "execution_count": 8
  },
  {
   "metadata": {
    "ExecuteTime": {
     "end_time": "2025-01-10T17:12:11.675512Z",
     "start_time": "2025-01-10T17:12:11.519713Z"
    }
   },
   "cell_type": "code",
   "source": [
    "# add customer information to invoice_line_items\n",
    "augmented_invoices = invoices.merge(customers[[\"customer_id\", \"subsidiary_name\", \"end_market\", \"sales_rep\"]], on=\"customer_id\", how=\"left\")"
   ],
   "id": "a9d3d0e53f906057",
   "outputs": [],
   "execution_count": 9
  },
  {
   "metadata": {
    "ExecuteTime": {
     "end_time": "2025-01-10T17:12:14.133763Z",
     "start_time": "2025-01-10T17:12:14.122722Z"
    }
   },
   "cell_type": "code",
   "source": "augmented_invoices[\"subsidiary_name\"].value_counts()",
   "id": "6845b26d882ff7bc",
   "outputs": [
    {
     "data": {
      "text/plain": [
       "subsidiary_name\n",
       "Allied Valve              84012\n",
       "Allied Instrumentation    40609\n",
       "Valve Sales Inc.          19319\n",
       "Automation Service        16104\n",
       "Name: count, dtype: int64"
      ]
     },
     "execution_count": 10,
     "metadata": {},
     "output_type": "execute_result"
    }
   ],
   "execution_count": 10
  },
  {
   "metadata": {
    "ExecuteTime": {
     "end_time": "2025-01-10T17:12:35.054591Z",
     "start_time": "2025-01-10T17:12:35.051650Z"
    }
   },
   "cell_type": "code",
   "source": [
    "drop_list = ['links', 'actual_ship_date', 'ai_order_type', 'amount_paid',\n",
    "       'amount_unpaid', 'billing_address', 'close_date', 'commission_only',\n",
    "       'company_email', 'created_by',\n",
    "       'custom_form', 'date_started', 'days_open',\n",
    "       'deliver_by_date', 'due_date', 'employee', 'end_date',\n",
    "       'entity_status', 'expected_close_date',\n",
    "       'finance_charge', 'freshdesk_ticket_number', 'id', 'inbound_source',\n",
    "       'job_type', 'last_modified_by', 'lastmodifieddate', 'lead_source',\n",
    "       'mainline', 'memo', 'nexus', 'posting_period',\n",
    "       'prepared_for_contact', 'prepared_for_contact_email', 'promised_date',\n",
    "       'reversal', 'ship_date', 'shipping_address', 'start_date', 'status', 'total_cost_estimate',\n",
    "        'tran_date', 'transaction_number','type', 'voided', 'custbody_nx_customer']"
   ],
   "id": "6a3afe693ccb8e3b",
   "outputs": [],
   "execution_count": 14
  },
  {
   "metadata": {
    "ExecuteTime": {
     "end_time": "2025-01-10T17:12:36.058642Z",
     "start_time": "2025-01-10T17:12:36.024441Z"
    }
   },
   "cell_type": "code",
   "source": [
    "# drop all columns in drop list\n",
    "augmented_invoices.drop(drop_list, axis=1, inplace=True)"
   ],
   "id": "415b049b91d96d05",
   "outputs": [],
   "execution_count": 15
  },
  {
   "metadata": {
    "ExecuteTime": {
     "end_time": "2025-01-10T17:15:36.346347Z",
     "start_time": "2025-01-10T17:15:36.314996Z"
    }
   },
   "cell_type": "code",
   "source": [
    "# sort augmented_invoices by net amount largest to smallest\n",
    "augmented_invoices.sort_values(by=\"net_amount\", ascending=False, inplace=True)"
   ],
   "id": "b6ab330d9210bf75",
   "outputs": [],
   "execution_count": 17
  },
  {
   "metadata": {
    "ExecuteTime": {
     "end_time": "2025-01-10T17:15:37.834557Z",
     "start_time": "2025-01-10T17:15:37.823483Z"
    }
   },
   "cell_type": "code",
   "source": "augmented_invoices",
   "id": "f2be4615b51e4953",
   "outputs": [
    {
     "data": {
      "text/plain": [
       "                               company_name created_date customer_id  \\\n",
       "154993                      Ovation Holding   2024-12-02      450508   \n",
       "137465         Alfred Conhagen - Kenner, LA   2024-09-03      407641   \n",
       "124753                Worley Group (Jacobs)   2024-06-25       10101   \n",
       "97400               WorleyParsons - Ontario   2024-01-30       51522   \n",
       "153397          Worley Canada Services Ltd.   2024-11-22      439412   \n",
       "...                                     ...          ...         ...   \n",
       "138505    Atlas/Diversified - Deerfield, OH   2024-09-11      339496   \n",
       "93067         North East Pipe & Supply Inc.   2023-12-29      339609   \n",
       "24798   Schneider Electric Systems USA, Inc   2022-10-05       62163   \n",
       "36173                    SABIC - Ottawa, IL   2023-01-04        8979   \n",
       "45801             Napa Auto Parts -  Denver   2023-03-17      287023   \n",
       "\n",
       "               entered_by  estimated_gross_profit  \\\n",
       "154993     Amanda Johnson               834746.32   \n",
       "137465     Amanda Johnson               714126.38   \n",
       "124753       April Norris               174774.04   \n",
       "97400        Stacie Comia               227762.40   \n",
       "153397       April Norris               221554.97   \n",
       "...                   ...                     ...   \n",
       "138505       Lorna Pepper                  -83.22   \n",
       "93067        Lorna Pepper                  -90.93   \n",
       "24798   ASIS  Integration                    0.00   \n",
       "36173       Matt Buettner                    0.00   \n",
       "45801        Stacie Comia                 -115.20   \n",
       "\n",
       "        estimated_gross_profit_percent        location  net_amount  tranid  \\\n",
       "154993                        1.000000       Corporate   834746.32  486194   \n",
       "137465                        1.000000       Corporate   714126.38  468525   \n",
       "124753                        0.255892          Fenton   685568.00  455720   \n",
       "97400                         0.357354  Joliet-AV Shop   637358.00  427938   \n",
       "153397                        0.354880          Fenton   628332.22  484585   \n",
       "...                                ...             ...         ...     ...   \n",
       "138505                        0.000000            Kent        0.00  469592   \n",
       "93067                         0.000000            Kent        0.00  423585   \n",
       "24798                         0.000000       St. Louis        0.00  354734   \n",
       "36173                         0.000000  Riverdale Shop        0.00  366212   \n",
       "45801                         0.000000  Joliet-AV Shop        0.00  375913   \n",
       "\n",
       "               subsidiary_name             end_market     sales_rep  \n",
       "154993            Allied Valve   Reseller/Distributer  Not Assigned  \n",
       "137465            Allied Valve           Upstream O&G  Distribution  \n",
       "124753            Allied Valve  Professional Services  Distribution  \n",
       "97400             Allied Valve  Professional Services  Distribution  \n",
       "153397  Allied Instrumentation       Midstream Liquid      Multiple  \n",
       "...                        ...                    ...           ...  \n",
       "138505        Valve Sales Inc.           Upstream O&G  Wray Kilgore  \n",
       "93067         Valve Sales Inc.   Reseller/Distributer  Joel Jenkins  \n",
       "24798       Automation Service          Manufacturing  Not Assigned  \n",
       "36173             Allied Valve     Chemical/Petrochem  Todd L White  \n",
       "45801             Allied Valve   Reseller/Distributer  Distribution  \n",
       "\n",
       "[160069 rows x 12 columns]"
      ],
      "text/html": [
       "<div>\n",
       "<style scoped>\n",
       "    .dataframe tbody tr th:only-of-type {\n",
       "        vertical-align: middle;\n",
       "    }\n",
       "\n",
       "    .dataframe tbody tr th {\n",
       "        vertical-align: top;\n",
       "    }\n",
       "\n",
       "    .dataframe thead th {\n",
       "        text-align: right;\n",
       "    }\n",
       "</style>\n",
       "<table border=\"1\" class=\"dataframe\">\n",
       "  <thead>\n",
       "    <tr style=\"text-align: right;\">\n",
       "      <th></th>\n",
       "      <th>company_name</th>\n",
       "      <th>created_date</th>\n",
       "      <th>customer_id</th>\n",
       "      <th>entered_by</th>\n",
       "      <th>estimated_gross_profit</th>\n",
       "      <th>estimated_gross_profit_percent</th>\n",
       "      <th>location</th>\n",
       "      <th>net_amount</th>\n",
       "      <th>tranid</th>\n",
       "      <th>subsidiary_name</th>\n",
       "      <th>end_market</th>\n",
       "      <th>sales_rep</th>\n",
       "    </tr>\n",
       "  </thead>\n",
       "  <tbody>\n",
       "    <tr>\n",
       "      <th>154993</th>\n",
       "      <td>Ovation Holding</td>\n",
       "      <td>2024-12-02</td>\n",
       "      <td>450508</td>\n",
       "      <td>Amanda Johnson</td>\n",
       "      <td>834746.32</td>\n",
       "      <td>1.000000</td>\n",
       "      <td>Corporate</td>\n",
       "      <td>834746.32</td>\n",
       "      <td>486194</td>\n",
       "      <td>Allied Valve</td>\n",
       "      <td>Reseller/Distributer</td>\n",
       "      <td>Not Assigned</td>\n",
       "    </tr>\n",
       "    <tr>\n",
       "      <th>137465</th>\n",
       "      <td>Alfred Conhagen - Kenner, LA</td>\n",
       "      <td>2024-09-03</td>\n",
       "      <td>407641</td>\n",
       "      <td>Amanda Johnson</td>\n",
       "      <td>714126.38</td>\n",
       "      <td>1.000000</td>\n",
       "      <td>Corporate</td>\n",
       "      <td>714126.38</td>\n",
       "      <td>468525</td>\n",
       "      <td>Allied Valve</td>\n",
       "      <td>Upstream O&amp;G</td>\n",
       "      <td>Distribution</td>\n",
       "    </tr>\n",
       "    <tr>\n",
       "      <th>124753</th>\n",
       "      <td>Worley Group (Jacobs)</td>\n",
       "      <td>2024-06-25</td>\n",
       "      <td>10101</td>\n",
       "      <td>April Norris</td>\n",
       "      <td>174774.04</td>\n",
       "      <td>0.255892</td>\n",
       "      <td>Fenton</td>\n",
       "      <td>685568.00</td>\n",
       "      <td>455720</td>\n",
       "      <td>Allied Valve</td>\n",
       "      <td>Professional Services</td>\n",
       "      <td>Distribution</td>\n",
       "    </tr>\n",
       "    <tr>\n",
       "      <th>97400</th>\n",
       "      <td>WorleyParsons - Ontario</td>\n",
       "      <td>2024-01-30</td>\n",
       "      <td>51522</td>\n",
       "      <td>Stacie Comia</td>\n",
       "      <td>227762.40</td>\n",
       "      <td>0.357354</td>\n",
       "      <td>Joliet-AV Shop</td>\n",
       "      <td>637358.00</td>\n",
       "      <td>427938</td>\n",
       "      <td>Allied Valve</td>\n",
       "      <td>Professional Services</td>\n",
       "      <td>Distribution</td>\n",
       "    </tr>\n",
       "    <tr>\n",
       "      <th>153397</th>\n",
       "      <td>Worley Canada Services Ltd.</td>\n",
       "      <td>2024-11-22</td>\n",
       "      <td>439412</td>\n",
       "      <td>April Norris</td>\n",
       "      <td>221554.97</td>\n",
       "      <td>0.354880</td>\n",
       "      <td>Fenton</td>\n",
       "      <td>628332.22</td>\n",
       "      <td>484585</td>\n",
       "      <td>Allied Instrumentation</td>\n",
       "      <td>Midstream Liquid</td>\n",
       "      <td>Multiple</td>\n",
       "    </tr>\n",
       "    <tr>\n",
       "      <th>...</th>\n",
       "      <td>...</td>\n",
       "      <td>...</td>\n",
       "      <td>...</td>\n",
       "      <td>...</td>\n",
       "      <td>...</td>\n",
       "      <td>...</td>\n",
       "      <td>...</td>\n",
       "      <td>...</td>\n",
       "      <td>...</td>\n",
       "      <td>...</td>\n",
       "      <td>...</td>\n",
       "      <td>...</td>\n",
       "    </tr>\n",
       "    <tr>\n",
       "      <th>138505</th>\n",
       "      <td>Atlas/Diversified - Deerfield, OH</td>\n",
       "      <td>2024-09-11</td>\n",
       "      <td>339496</td>\n",
       "      <td>Lorna Pepper</td>\n",
       "      <td>-83.22</td>\n",
       "      <td>0.000000</td>\n",
       "      <td>Kent</td>\n",
       "      <td>0.00</td>\n",
       "      <td>469592</td>\n",
       "      <td>Valve Sales Inc.</td>\n",
       "      <td>Upstream O&amp;G</td>\n",
       "      <td>Wray Kilgore</td>\n",
       "    </tr>\n",
       "    <tr>\n",
       "      <th>93067</th>\n",
       "      <td>North East Pipe &amp; Supply Inc.</td>\n",
       "      <td>2023-12-29</td>\n",
       "      <td>339609</td>\n",
       "      <td>Lorna Pepper</td>\n",
       "      <td>-90.93</td>\n",
       "      <td>0.000000</td>\n",
       "      <td>Kent</td>\n",
       "      <td>0.00</td>\n",
       "      <td>423585</td>\n",
       "      <td>Valve Sales Inc.</td>\n",
       "      <td>Reseller/Distributer</td>\n",
       "      <td>Joel Jenkins</td>\n",
       "    </tr>\n",
       "    <tr>\n",
       "      <th>24798</th>\n",
       "      <td>Schneider Electric Systems USA, Inc</td>\n",
       "      <td>2022-10-05</td>\n",
       "      <td>62163</td>\n",
       "      <td>ASIS  Integration</td>\n",
       "      <td>0.00</td>\n",
       "      <td>0.000000</td>\n",
       "      <td>St. Louis</td>\n",
       "      <td>0.00</td>\n",
       "      <td>354734</td>\n",
       "      <td>Automation Service</td>\n",
       "      <td>Manufacturing</td>\n",
       "      <td>Not Assigned</td>\n",
       "    </tr>\n",
       "    <tr>\n",
       "      <th>36173</th>\n",
       "      <td>SABIC - Ottawa, IL</td>\n",
       "      <td>2023-01-04</td>\n",
       "      <td>8979</td>\n",
       "      <td>Matt Buettner</td>\n",
       "      <td>0.00</td>\n",
       "      <td>0.000000</td>\n",
       "      <td>Riverdale Shop</td>\n",
       "      <td>0.00</td>\n",
       "      <td>366212</td>\n",
       "      <td>Allied Valve</td>\n",
       "      <td>Chemical/Petrochem</td>\n",
       "      <td>Todd L White</td>\n",
       "    </tr>\n",
       "    <tr>\n",
       "      <th>45801</th>\n",
       "      <td>Napa Auto Parts -  Denver</td>\n",
       "      <td>2023-03-17</td>\n",
       "      <td>287023</td>\n",
       "      <td>Stacie Comia</td>\n",
       "      <td>-115.20</td>\n",
       "      <td>0.000000</td>\n",
       "      <td>Joliet-AV Shop</td>\n",
       "      <td>0.00</td>\n",
       "      <td>375913</td>\n",
       "      <td>Allied Valve</td>\n",
       "      <td>Reseller/Distributer</td>\n",
       "      <td>Distribution</td>\n",
       "    </tr>\n",
       "  </tbody>\n",
       "</table>\n",
       "<p>160069 rows × 12 columns</p>\n",
       "</div>"
      ]
     },
     "execution_count": 18,
     "metadata": {},
     "output_type": "execute_result"
    }
   ],
   "execution_count": 18
  },
  {
   "metadata": {
    "ExecuteTime": {
     "end_time": "2025-01-10T17:16:07.372669Z",
     "start_time": "2025-01-10T17:16:05.107398Z"
    }
   },
   "cell_type": "code",
   "source": [
    "# save locally and in the data lake\n",
    "augmented_invoices.to_csv(\"data/invoice_totals.csv\", index=False)\n",
    "adl.save_df_as_parquet_in_data_lake(augmented_invoices, file_system_client, \"enhanced/netsuite\", \"invoice_totals.parquet\")"
   ],
   "id": "7d4f5b7241cca5ea",
   "outputs": [],
   "execution_count": 19
  },
  {
   "metadata": {
    "ExecuteTime": {
     "end_time": "2025-01-10T17:23:59.853216Z",
     "start_time": "2025-01-10T17:23:59.438835Z"
    }
   },
   "cell_type": "code",
   "source": [
    "import matplotlib.pyplot as plt\n",
    "\n",
    "# Define bins and labels\n",
    "bins = [0, 10000, 25000, 50000, 75000, 100000, float('inf')]\n",
    "labels = ['0-10K', '10-25K', '25-50K', '50-75K', '75-100K', '100K+']\n",
    "\n",
    "# Add bins to the DataFrame\n",
    "augmented_invoices['amount_range'] = pd.cut(augmented_invoices['net_amount'], bins=bins, labels=labels, right=False)\n",
    "\n",
    "# Extract the year from created_date\n",
    "augmented_invoices['year'] = augmented_invoices['created_date'].dt.year\n",
    "\n",
    "# List of years to filter\n",
    "years = [2022, 2023, 2024]\n",
    "\n",
    "# Plot histograms for each year\n",
    "plt.figure(figsize=(15, 10))\n",
    "\n",
    "for i, year in enumerate(years, 1):\n",
    "    plt.subplot(2, 2, i)\n",
    "\n",
    "    # Filter data for the current year\n",
    "    year_data = augmented_invoices[augmented_invoices['year'] == year]\n",
    "\n",
    "    # Plot histogram\n",
    "    year_data['amount_range'].value_counts(sort=False).plot(kind='bar', color='skyblue', edgecolor='black')\n",
    "\n",
    "    # Customize the plot\n",
    "    plt.title(f'Net Amount Distribution in {year}', fontsize=14)\n",
    "    plt.xlabel('Net Amount Ranges', fontsize=12)\n",
    "    plt.ylabel('Frequency', fontsize=12)\n",
    "    plt.xticks(rotation=45)\n",
    "    plt.grid(axis='y', linestyle='--', alpha=0.7)\n",
    "\n",
    "# Adjust layout and show the plot\n",
    "plt.tight_layout()\n",
    "plt.show()"
   ],
   "id": "f9105f3c7514a862",
   "outputs": [
    {
     "data": {
      "text/plain": [
       "<Figure size 1500x1000 with 3 Axes>"
      ],
      "image/png": "[encoded data removed]"
     },
     "metadata": {},
     "output_type": "display_data"
    }
   ],
   "execution_count": 23
  },
  {
   "metadata": {
    "ExecuteTime": {
     "end_time": "2025-01-10T17:25:06.969368Z",
     "start_time": "2025-01-10T17:25:06.950475Z"
    }
   },
   "cell_type": "code",
   "source": [
    "# Group by year and amount_range, count the frequency\n",
    "distribution_table = augmented_invoices.groupby(['year', 'amount_range']).size().unstack(fill_value=0).reset_index()\n",
    "\n",
    "# Rename columns for clarity\n",
    "distribution_table.columns.name = None\n",
    "distribution_table.columns = ['Year'] + list(distribution_table.columns[1:])  # Renaming only Net Amount Ranges\n",
    "\n",
    "# Display the table\n",
    "distribution_table"
   ],
   "id": "b8c091ee908f93b8",
   "outputs": [
    {
     "name": "stderr",
     "output_type": "stream",
     "text": [
      "/var/folders/qb/xbnd03px51d29s05_x737l140000gn/T/ipykernel_30524/3807548463.py:2: FutureWarning: The default of observed=False is deprecated and will be changed to True in a future version of pandas. Pass observed=False to retain current behavior or observed=True to adopt the future default and silence this warning.\n",
      "  distribution_table = augmented_invoices.groupby(['year', 'amount_range']).size().unstack(fill_value=0).reset_index()\n"
     ]
    },
    {
     "data": {
      "text/plain": [
       "   Year  0-10K  10-25K  25-50K  50-75K  75-100K  100K+\n",
       "0  2022  32348    2702     623     154       62     48\n",
       "1  2023  52346    3618     866     205       83     80\n",
       "2  2024  60762    4657    1065     236       96    118"
      ],
      "text/html": [
       "<div>\n",
       "<style scoped>\n",
       "    .dataframe tbody tr th:only-of-type {\n",
       "        vertical-align: middle;\n",
       "    }\n",
       "\n",
       "    .dataframe tbody tr th {\n",
       "        vertical-align: top;\n",
       "    }\n",
       "\n",
       "    .dataframe thead th {\n",
       "        text-align: right;\n",
       "    }\n",
       "</style>\n",
       "<table border=\"1\" class=\"dataframe\">\n",
       "  <thead>\n",
       "    <tr style=\"text-align: right;\">\n",
       "      <th></th>\n",
       "      <th>Year</th>\n",
       "      <th>0-10K</th>\n",
       "      <th>10-25K</th>\n",
       "      <th>25-50K</th>\n",
       "      <th>50-75K</th>\n",
       "      <th>75-100K</th>\n",
       "      <th>100K+</th>\n",
       "    </tr>\n",
       "  </thead>\n",
       "  <tbody>\n",
       "    <tr>\n",
       "      <th>0</th>\n",
       "      <td>2022</td>\n",
       "      <td>32348</td>\n",
       "      <td>2702</td>\n",
       "      <td>623</td>\n",
       "      <td>154</td>\n",
       "      <td>62</td>\n",
       "      <td>48</td>\n",
       "    </tr>\n",
       "    <tr>\n",
       "      <th>1</th>\n",
       "      <td>2023</td>\n",
       "      <td>52346</td>\n",
       "      <td>3618</td>\n",
       "      <td>866</td>\n",
       "      <td>205</td>\n",
       "      <td>83</td>\n",
       "      <td>80</td>\n",
       "    </tr>\n",
       "    <tr>\n",
       "      <th>2</th>\n",
       "      <td>2024</td>\n",
       "      <td>60762</td>\n",
       "      <td>4657</td>\n",
       "      <td>1065</td>\n",
       "      <td>236</td>\n",
       "      <td>96</td>\n",
       "      <td>118</td>\n",
       "    </tr>\n",
       "  </tbody>\n",
       "</table>\n",
       "</div>"
      ]
     },
     "execution_count": 24,
     "metadata": {},
     "output_type": "execute_result"
    }
   ],
   "execution_count": 24
  },
  {
   "metadata": {},
   "cell_type": "code",
   "outputs": [],
   "execution_count": null,
   "source": "",
   "id": "95e7b6f82d709f7b"
  }
 ],
 "metadata": {
  "kernelspec": {
   "display_name": "Python 3",
   "language": "python",
   "name": "python3"
  },
  "language_info": {
   "codemirror_mode": {
    "name": "ipython",
    "version": 2
   },
   "file_extension": ".py",
   "mimetype": "text/x-python",
   "name": "python",
   "nbconvert_exporter": "python",
   "pygments_lexer": "ipython2",
   "version": "2.7.6"
  }
 },
 "nbformat": 4,
 "nbformat_minor": 5
}
