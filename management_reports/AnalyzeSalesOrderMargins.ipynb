{
 "cells": [
  {
   "metadata": {
    "ExecuteTime": {
     "end_time": "2024-12-17T17:56:46.940368Z",
     "start_time": "2024-12-17T17:56:46.920605Z"
    }
   },
   "cell_type": "code",
   "source": [
    "# suppress warnings\n",
    "import warnings\n",
    "warnings.filterwarnings(\"ignore\")\n",
    "\n",
    "# autoload modules\n",
    "%load_ext autoreload\n",
    "%autoreload 2"
   ],
   "id": "4d0b83862800aa34",
   "outputs": [],
   "execution_count": 1
  },
  {
   "metadata": {
    "collapsed": true,
    "ExecuteTime": {
     "end_time": "2024-12-17T17:56:51.690579Z",
     "start_time": "2024-12-17T17:56:50.605529Z"
    }
   },
   "cell_type": "code",
   "source": [
    "# Data analysis libraries\n",
    "import pandas as pd\n",
    "import margin_analysis as ma"
   ],
   "id": "initial_id",
   "outputs": [],
   "execution_count": 2
  },
  {
   "metadata": {
    "ExecuteTime": {
     "end_time": "2024-12-17T17:56:52.931165Z",
     "start_time": "2024-12-17T17:56:52.828500Z"
    }
   },
   "cell_type": "code",
   "source": [
    "# get customer and related data\n",
    "customers = pd.read_csv(\"data/active_customers.csv\")\n",
    "\n",
    "# change customer_id to string\n",
    "customers[\"customer_id\"] = customers[\"customer_id\"].astype(str)"
   ],
   "id": "6e036990738e795e",
   "outputs": [],
   "execution_count": 3
  },
  {
   "metadata": {
    "ExecuteTime": {
     "end_time": "2024-12-17T17:57:00.233933Z",
     "start_time": "2024-12-17T17:56:58.404744Z"
    }
   },
   "cell_type": "code",
   "source": [
    "augmented_line_items = pd.read_csv(\"data/augmented_line_items.csv\")\n",
    "augmented_line_items[\"created_date\"] = pd.to_datetime(augmented_line_items[\"created_date\"], errors=\"coerce\")\n",
    "len(augmented_line_items)"
   ],
   "id": "b939d976cf3c8c6e",
   "outputs": [
    {
     "data": {
      "text/plain": [
       "411008"
      ]
     },
     "execution_count": 4,
     "metadata": {},
     "output_type": "execute_result"
    }
   ],
   "execution_count": 4
  },
  {
   "metadata": {
    "ExecuteTime": {
     "end_time": "2024-12-17T17:57:04.197937Z",
     "start_time": "2024-12-17T17:57:04.029505Z"
    }
   },
   "cell_type": "code",
   "source": "line_itmes_for_analysis = augmented_line_items.copy()",
   "id": "4cb76acef77cc7d2",
   "outputs": [],
   "execution_count": 5
  },
  {
   "metadata": {
    "ExecuteTime": {
     "end_time": "2024-12-17T17:57:10.051284Z",
     "start_time": "2024-12-17T17:57:09.975093Z"
    }
   },
   "cell_type": "code",
   "source": "line_itmes_for_analysis[\"total_amount\"].sum()",
   "id": "a1ddcab065943d9a",
   "outputs": [
    {
     "data": {
      "text/plain": [
       "np.float64(671916686.6898111)"
      ]
     },
     "execution_count": 6,
     "metadata": {},
     "output_type": "execute_result"
    }
   ],
   "execution_count": 6
  },
  {
   "metadata": {
    "ExecuteTime": {
     "end_time": "2024-12-17T17:58:40.259228Z",
     "start_time": "2024-12-17T17:58:40.113760Z"
    }
   },
   "cell_type": "code",
   "source": [
    "grouping_columns = [\"subsidiary_name\", \"location\", \"sku\", \"item_name\", \"display_name\", \"item_type\", \"manufacturer\"]\n",
    "missing_counts = line_itmes_for_analysis[grouping_columns].isna().sum()\n",
    "missing_counts"
   ],
   "id": "53d4f1573e83584e",
   "outputs": [
    {
     "data": {
      "text/plain": [
       "subsidiary_name         0\n",
       "location                0\n",
       "sku                     0\n",
       "item_name               0\n",
       "display_name       193862\n",
       "item_type               0\n",
       "manufacturer            0\n",
       "dtype: int64"
      ]
     },
     "execution_count": 7,
     "metadata": {},
     "output_type": "execute_result"
    }
   ],
   "execution_count": 7
  },
  {
   "metadata": {
    "ExecuteTime": {
     "end_time": "2024-12-17T17:58:51.567781Z",
     "start_time": "2024-12-17T17:58:51.378138Z"
    }
   },
   "cell_type": "code",
   "source": "line_itmes_for_analysis[grouping_columns] = line_itmes_for_analysis[grouping_columns].fillna(\"Not Assigned\")",
   "id": "e6d951d650f95a95",
   "outputs": [],
   "execution_count": 8
  },
  {
   "metadata": {
    "ExecuteTime": {
     "end_time": "2024-12-17T17:58:55.685202Z",
     "start_time": "2024-12-17T17:58:55.233832Z"
    }
   },
   "cell_type": "code",
   "source": [
    "grouping_columns=[\"sku\", \"item_name\", \"display_name\", \"item_type\", \"manufacturer\"]\n",
    "total_booked_sales_by_sku = ma.calculate_total_booked_sales(line_itmes_for_analysis, grouping_columns=grouping_columns)\n",
    "total_booked_sales_by_sku[\"total_booked_sales\"].sum()"
   ],
   "id": "547d99d1de36c195",
   "outputs": [
    {
     "data": {
      "text/plain": [
       "np.float64(671916686.6898112)"
      ]
     },
     "execution_count": 9,
     "metadata": {},
     "output_type": "execute_result"
    }
   ],
   "execution_count": 9
  },
  {
   "metadata": {
    "ExecuteTime": {
     "end_time": "2024-12-17T17:59:05.756720Z",
     "start_time": "2024-12-17T17:59:05.657089Z"
    }
   },
   "cell_type": "code",
   "source": [
    "# remove rows with zero quantity\n",
    "line_itmes_for_analysis = line_itmes_for_analysis[line_itmes_for_analysis[\"quantity\"] != 0]\n",
    "line_itmes_for_analysis[\"total_amount\"].sum()"
   ],
   "id": "8e94bd0d1cee0fa",
   "outputs": [
    {
     "data": {
      "text/plain": [
       "np.float64(671916686.6898115)"
      ]
     },
     "execution_count": 10,
     "metadata": {},
     "output_type": "execute_result"
    }
   ],
   "execution_count": 10
  },
  {
   "metadata": {
    "ExecuteTime": {
     "end_time": "2024-12-17T17:59:10.283829Z",
     "start_time": "2024-12-17T17:59:10.179938Z"
    }
   },
   "cell_type": "code",
   "source": [
    "# remove rows with both zero total_amount and zero total_cost\n",
    "line_itmes_for_analysis = line_itmes_for_analysis[~((line_itmes_for_analysis[\"total_amount\"] == 0) & (line_itmes_for_analysis[\"total_cost\"] == 0))]\n",
    "line_itmes_for_analysis[\"total_amount\"].sum()"
   ],
   "id": "4c2f874e04689a3",
   "outputs": [
    {
     "data": {
      "text/plain": [
       "np.float64(671916686.6898112)"
      ]
     },
     "execution_count": 11,
     "metadata": {},
     "output_type": "execute_result"
    }
   ],
   "execution_count": 11
  },
  {
   "metadata": {
    "ExecuteTime": {
     "end_time": "2024-12-17T17:59:21.364990Z",
     "start_time": "2024-12-17T17:59:21.276229Z"
    }
   },
   "cell_type": "code",
   "source": [
    "# remove rows with gross profit percent less than -100%\n",
    "line_itmes_for_analysis = line_itmes_for_analysis[line_itmes_for_analysis[\"gross_profit_percent\"] >= -1.5]\n",
    "line_itmes_for_analysis[\"total_amount\"].sum()"
   ],
   "id": "8ea742d33d23f67c",
   "outputs": [
    {
     "data": {
      "text/plain": [
       "np.float64(671713982.3398114)"
      ]
     },
     "execution_count": 12,
     "metadata": {},
     "output_type": "execute_result"
    }
   ],
   "execution_count": 12
  },
  {
   "metadata": {
    "ExecuteTime": {
     "end_time": "2024-12-17T18:00:02.320551Z",
     "start_time": "2024-12-17T18:00:01.957300Z"
    }
   },
   "cell_type": "code",
   "source": [
    "grouping_columns = [\"subsidiary_name\", \"location\", \"sku\", \"item_name\", \"display_name\", \"item_type\", \"manufacturer\"]\n",
    "top_booked_material_skus = ma.calculate_total_booked_sales(line_itmes_for_analysis, grouping_columns)\n",
    "top_booked_material_skus[\"total_booked_sales\"].sum()"
   ],
   "id": "535755087c27584b",
   "outputs": [
    {
     "data": {
      "text/plain": [
       "np.float64(671713982.3398113)"
      ]
     },
     "execution_count": 13,
     "metadata": {},
     "output_type": "execute_result"
    }
   ],
   "execution_count": 13
  },
  {
   "metadata": {
    "ExecuteTime": {
     "end_time": "2024-12-17T18:00:13.548468Z",
     "start_time": "2024-12-17T18:00:13.499644Z"
    }
   },
   "cell_type": "code",
   "source": [
    "top_skus_by_subsidiary = top_booked_material_skus.groupby(\"subsidiary_name\").apply(lambda x: x.nlargest(5000, \"total_booked_sales\"), include_groups=True).reset_index(drop=True)\n",
    "top_skus_by_subsidiary[\"total_booked_sales\"].sum()"
   ],
   "id": "6bd380a5ebf74412",
   "outputs": [
    {
     "data": {
      "text/plain": [
       "np.float64(554187130.3450187)"
      ]
     },
     "execution_count": 14,
     "metadata": {},
     "output_type": "execute_result"
    }
   ],
   "execution_count": 14
  },
  {
   "metadata": {
    "ExecuteTime": {
     "end_time": "2024-12-17T18:01:41.957234Z",
     "start_time": "2024-12-17T18:01:41.932025Z"
    }
   },
   "cell_type": "code",
   "source": [
    "# print formatted % of top_booked_material_skus included in top_skus_by_subsidiary\n",
    "print(f\"{top_skus_by_subsidiary['total_booked_sales'].sum() / top_booked_material_skus['total_booked_sales'].sum():.2%}\")"
   ],
   "id": "47bdbbf4cbc73546",
   "outputs": [
    {
     "name": "stdout",
     "output_type": "stream",
     "text": [
      "82.50%\n"
     ]
    }
   ],
   "execution_count": 16
  },
  {
   "metadata": {
    "ExecuteTime": {
     "end_time": "2024-12-17T18:01:59.122783Z",
     "start_time": "2024-12-17T18:01:58.407465Z"
    }
   },
   "cell_type": "code",
   "source": [
    "# calculate monthy sales by sku by subsidiary\n",
    "grouping_columns = [\"created_date\", \"subsidiary_name\", \"location\", \"company_name\", \"end_market\", \"sku\", \"item_name\", \"display_name\", \"item_type\", \"manufacturer\"]\n",
    "monthly_booked_sales_by_sku_by_subsidiary = ma.calculate_total_booked_sales(line_itmes_for_analysis, grouping_columns)\n",
    "monthly_booked_sales_by_sku_by_subsidiary[\"total_booked_sales\"].sum()"
   ],
   "id": "b7684ff3c05e55f6",
   "outputs": [
    {
     "data": {
      "text/plain": [
       "np.float64(671713982.3398112)"
      ]
     },
     "execution_count": 17,
     "metadata": {},
     "output_type": "execute_result"
    }
   ],
   "execution_count": 17
  },
  {
   "metadata": {
    "ExecuteTime": {
     "end_time": "2024-12-17T18:03:25.807004Z",
     "start_time": "2024-12-17T18:02:24.572037Z"
    }
   },
   "cell_type": "code",
   "source": "# monthly_booked_sales_by_sku_by_subsidiary.to_excel(\"data/monthly_booked_sales_by_sku_by_subsidiary.xlsx\", index=False)",
   "id": "56d52a841116fd2d",
   "outputs": [],
   "execution_count": 18
  },
  {
   "metadata": {
    "ExecuteTime": {
     "end_time": "2024-12-17T18:03:35.736370Z",
     "start_time": "2024-12-17T18:03:35.707449Z"
    }
   },
   "cell_type": "code",
   "source": "monthly_booked_sales_by_sku_by_subsidiary",
   "id": "69fc642cb7c84e14",
   "outputs": [
    {
     "data": {
      "text/plain": [
       "       time_period         subsidiary_name  location  \\\n",
       "0          2022-01  Allied Instrumentation  Appleton   \n",
       "1          2022-01  Allied Instrumentation  Appleton   \n",
       "2          2022-01  Allied Instrumentation  Appleton   \n",
       "3          2022-01  Allied Instrumentation  Appleton   \n",
       "4          2022-01  Allied Instrumentation  Appleton   \n",
       "...            ...                     ...       ...   \n",
       "229144     2024-11        Valve Sales Inc.     Tulsa   \n",
       "229145     2024-11        Valve Sales Inc.     Tulsa   \n",
       "229146     2024-11        Valve Sales Inc.     Tulsa   \n",
       "229147     2024-11        Valve Sales Inc.     Tulsa   \n",
       "229148     2024-11        Valve Sales Inc.     Tulsa   \n",
       "\n",
       "                     company_name    end_market      sku  \\\n",
       "0        Ag Processing Inc Algona      Biofuels     5428   \n",
       "1          Ahlstrom - Mosinee, WI  Paper & Pulp   622010   \n",
       "2          Ahlstrom - Mosinee, WI  Paper & Pulp   622040   \n",
       "3          Ahlstrom - Mosinee, WI  Paper & Pulp   622043   \n",
       "4          Ahlstrom - Mosinee, WI  Paper & Pulp   622054   \n",
       "...                           ...           ...      ...   \n",
       "229144  XTO Energy, Inc - Ardmore  Upstream O&G   315713   \n",
       "229145  XTO Energy, Inc - Ardmore  Upstream O&G   317196   \n",
       "229146  XTO Energy, Inc - Ardmore  Upstream O&G   323117   \n",
       "229147  XTO Energy, Inc - Ardmore  Upstream O&G  1696367   \n",
       "229148  XTO Energy, Inc - Ardmore  Upstream O&G  2155462   \n",
       "\n",
       "                                    item_name  \\\n",
       "0                          021114020-686-0000   \n",
       "1                              AV FS AccuTest   \n",
       "2                               AV FS Mileage   \n",
       "3                              AV FS Per Diem   \n",
       "4                    AV FS Travel Time OT/SAT   \n",
       "...                                       ...   \n",
       "229144                                 315713   \n",
       "229145                                 317196   \n",
       "229146                                 323117   \n",
       "229147  Shop Labor - UL Asahi Actuator Repair   \n",
       "229148                                2155462   \n",
       "\n",
       "                                          display_name       item_type  \\\n",
       "0                         DIAPHRAGM 140 SQ IN ACTUATOR  Inventory Item   \n",
       "1                                         Not Assigned         Service   \n",
       "2                                         Not Assigned         Service   \n",
       "3                                         Not Assigned         Service   \n",
       "4                                         Not Assigned         Service   \n",
       "...                                                ...             ...   \n",
       "229144                 Asahi Actuator Beacon Indicator  Inventory Item   \n",
       "229145                           Pinion Gear for Asahi  Inventory Item   \n",
       "229146  Peaktronics DHC-400 Digital Card (UL Blue Dot)  Inventory Item   \n",
       "229147           Shop Labor - UL Asahi Actuator Repair         Service   \n",
       "229148                         Asahi 134-70 Buna Oring  Inventory Item   \n",
       "\n",
       "         manufacturer  avg_cost  avg_unit_price  total_booked_sales  \\\n",
       "0       Not Specified     93.31          185.00              185.00   \n",
       "1       Not Specified      0.00          965.00              965.00   \n",
       "2       Not Specified      0.56            1.50              285.00   \n",
       "3       Not Specified     45.00           65.00               65.00   \n",
       "4       Not Specified     48.50          150.00              600.00   \n",
       "...               ...       ...             ...                 ...   \n",
       "229144  Asahi America     10.40           17.50               17.50   \n",
       "229145  Asahi America     13.04           21.73               21.73   \n",
       "229146    Peaktronics    231.36          432.00             3888.00   \n",
       "229147  Not Specified     82.50          165.00              660.00   \n",
       "229148  Not Specified      0.20           20.00               60.00   \n",
       "\n",
       "        total_gross_profit  order_count  qty_sold  avg_gross_profit_per_unit  \\\n",
       "0                    91.69            1       1.0                      91.69   \n",
       "1                   965.00            1       1.0                     965.00   \n",
       "2                   178.60            1     190.0                       0.94   \n",
       "3                    20.00            1       1.0                      20.00   \n",
       "4                   406.00            1       4.0                     101.50   \n",
       "...                    ...          ...       ...                        ...   \n",
       "229144                7.10            1       1.0                       7.10   \n",
       "229145                8.69            1       1.0                       8.69   \n",
       "229146             1805.76            2       9.0                     200.64   \n",
       "229147              330.00            4       4.0                      82.50   \n",
       "229148               59.40            3       3.0                      19.80   \n",
       "\n",
       "        avg_gross_margin_pct  \n",
       "0                   0.495622  \n",
       "1                   1.000000  \n",
       "2                   0.626667  \n",
       "3                   0.307692  \n",
       "4                   0.676667  \n",
       "...                      ...  \n",
       "229144              0.405714  \n",
       "229145              0.399908  \n",
       "229146              0.464444  \n",
       "229147              0.500000  \n",
       "229148              0.990000  \n",
       "\n",
       "[229149 rows x 18 columns]"
      ],
      "text/html": [
       "<div>\n",
       "<style scoped>\n",
       "    .dataframe tbody tr th:only-of-type {\n",
       "        vertical-align: middle;\n",
       "    }\n",
       "\n",
       "    .dataframe tbody tr th {\n",
       "        vertical-align: top;\n",
       "    }\n",
       "\n",
       "    .dataframe thead th {\n",
       "        text-align: right;\n",
       "    }\n",
       "</style>\n",
       "<table border=\"1\" class=\"dataframe\">\n",
       "  <thead>\n",
       "    <tr style=\"text-align: right;\">\n",
       "      <th></th>\n",
       "      <th>time_period</th>\n",
       "      <th>subsidiary_name</th>\n",
       "      <th>location</th>\n",
       "      <th>company_name</th>\n",
       "      <th>end_market</th>\n",
       "      <th>sku</th>\n",
       "      <th>item_name</th>\n",
       "      <th>display_name</th>\n",
       "      <th>item_type</th>\n",
       "      <th>manufacturer</th>\n",
       "      <th>avg_cost</th>\n",
       "      <th>avg_unit_price</th>\n",
       "      <th>total_booked_sales</th>\n",
       "      <th>total_gross_profit</th>\n",
       "      <th>order_count</th>\n",
       "      <th>qty_sold</th>\n",
       "      <th>avg_gross_profit_per_unit</th>\n",
       "      <th>avg_gross_margin_pct</th>\n",
       "    </tr>\n",
       "  </thead>\n",
       "  <tbody>\n",
       "    <tr>\n",
       "      <th>0</th>\n",
       "      <td>2022-01</td>\n",
       "      <td>Allied Instrumentation</td>\n",
       "      <td>Appleton</td>\n",
       "      <td>Ag Processing Inc Algona</td>\n",
       "      <td>Biofuels</td>\n",
       "      <td>5428</td>\n",
       "      <td>021114020-686-0000</td>\n",
       "      <td>DIAPHRAGM 140 SQ IN ACTUATOR</td>\n",
       "      <td>Inventory Item</td>\n",
       "      <td>Not Specified</td>\n",
       "      <td>93.31</td>\n",
       "      <td>185.00</td>\n",
       "      <td>185.00</td>\n",
       "      <td>91.69</td>\n",
       "      <td>1</td>\n",
       "      <td>1.0</td>\n",
       "      <td>91.69</td>\n",
       "      <td>0.495622</td>\n",
       "    </tr>\n",
       "    <tr>\n",
       "      <th>1</th>\n",
       "      <td>2022-01</td>\n",
       "      <td>Allied Instrumentation</td>\n",
       "      <td>Appleton</td>\n",
       "      <td>Ahlstrom - Mosinee, WI</td>\n",
       "      <td>Paper &amp; Pulp</td>\n",
       "      <td>622010</td>\n",
       "      <td>AV FS AccuTest</td>\n",
       "      <td>Not Assigned</td>\n",
       "      <td>Service</td>\n",
       "      <td>Not Specified</td>\n",
       "      <td>0.00</td>\n",
       "      <td>965.00</td>\n",
       "      <td>965.00</td>\n",
       "      <td>965.00</td>\n",
       "      <td>1</td>\n",
       "      <td>1.0</td>\n",
       "      <td>965.00</td>\n",
       "      <td>1.000000</td>\n",
       "    </tr>\n",
       "    <tr>\n",
       "      <th>2</th>\n",
       "      <td>2022-01</td>\n",
       "      <td>Allied Instrumentation</td>\n",
       "      <td>Appleton</td>\n",
       "      <td>Ahlstrom - Mosinee, WI</td>\n",
       "      <td>Paper &amp; Pulp</td>\n",
       "      <td>622040</td>\n",
       "      <td>AV FS Mileage</td>\n",
       "      <td>Not Assigned</td>\n",
       "      <td>Service</td>\n",
       "      <td>Not Specified</td>\n",
       "      <td>0.56</td>\n",
       "      <td>1.50</td>\n",
       "      <td>285.00</td>\n",
       "      <td>178.60</td>\n",
       "      <td>1</td>\n",
       "      <td>190.0</td>\n",
       "      <td>0.94</td>\n",
       "      <td>0.626667</td>\n",
       "    </tr>\n",
       "    <tr>\n",
       "      <th>3</th>\n",
       "      <td>2022-01</td>\n",
       "      <td>Allied Instrumentation</td>\n",
       "      <td>Appleton</td>\n",
       "      <td>Ahlstrom - Mosinee, WI</td>\n",
       "      <td>Paper &amp; Pulp</td>\n",
       "      <td>622043</td>\n",
       "      <td>AV FS Per Diem</td>\n",
       "      <td>Not Assigned</td>\n",
       "      <td>Service</td>\n",
       "      <td>Not Specified</td>\n",
       "      <td>45.00</td>\n",
       "      <td>65.00</td>\n",
       "      <td>65.00</td>\n",
       "      <td>20.00</td>\n",
       "      <td>1</td>\n",
       "      <td>1.0</td>\n",
       "      <td>20.00</td>\n",
       "      <td>0.307692</td>\n",
       "    </tr>\n",
       "    <tr>\n",
       "      <th>4</th>\n",
       "      <td>2022-01</td>\n",
       "      <td>Allied Instrumentation</td>\n",
       "      <td>Appleton</td>\n",
       "      <td>Ahlstrom - Mosinee, WI</td>\n",
       "      <td>Paper &amp; Pulp</td>\n",
       "      <td>622054</td>\n",
       "      <td>AV FS Travel Time OT/SAT</td>\n",
       "      <td>Not Assigned</td>\n",
       "      <td>Service</td>\n",
       "      <td>Not Specified</td>\n",
       "      <td>48.50</td>\n",
       "      <td>150.00</td>\n",
       "      <td>600.00</td>\n",
       "      <td>406.00</td>\n",
       "      <td>1</td>\n",
       "      <td>4.0</td>\n",
       "      <td>101.50</td>\n",
       "      <td>0.676667</td>\n",
       "    </tr>\n",
       "    <tr>\n",
       "      <th>...</th>\n",
       "      <td>...</td>\n",
       "      <td>...</td>\n",
       "      <td>...</td>\n",
       "      <td>...</td>\n",
       "      <td>...</td>\n",
       "      <td>...</td>\n",
       "      <td>...</td>\n",
       "      <td>...</td>\n",
       "      <td>...</td>\n",
       "      <td>...</td>\n",
       "      <td>...</td>\n",
       "      <td>...</td>\n",
       "      <td>...</td>\n",
       "      <td>...</td>\n",
       "      <td>...</td>\n",
       "      <td>...</td>\n",
       "      <td>...</td>\n",
       "      <td>...</td>\n",
       "    </tr>\n",
       "    <tr>\n",
       "      <th>229144</th>\n",
       "      <td>2024-11</td>\n",
       "      <td>Valve Sales Inc.</td>\n",
       "      <td>Tulsa</td>\n",
       "      <td>XTO Energy, Inc - Ardmore</td>\n",
       "      <td>Upstream O&amp;G</td>\n",
       "      <td>315713</td>\n",
       "      <td>315713</td>\n",
       "      <td>Asahi Actuator Beacon Indicator</td>\n",
       "      <td>Inventory Item</td>\n",
       "      <td>Asahi America</td>\n",
       "      <td>10.40</td>\n",
       "      <td>17.50</td>\n",
       "      <td>17.50</td>\n",
       "      <td>7.10</td>\n",
       "      <td>1</td>\n",
       "      <td>1.0</td>\n",
       "      <td>7.10</td>\n",
       "      <td>0.405714</td>\n",
       "    </tr>\n",
       "    <tr>\n",
       "      <th>229145</th>\n",
       "      <td>2024-11</td>\n",
       "      <td>Valve Sales Inc.</td>\n",
       "      <td>Tulsa</td>\n",
       "      <td>XTO Energy, Inc - Ardmore</td>\n",
       "      <td>Upstream O&amp;G</td>\n",
       "      <td>317196</td>\n",
       "      <td>317196</td>\n",
       "      <td>Pinion Gear for Asahi</td>\n",
       "      <td>Inventory Item</td>\n",
       "      <td>Asahi America</td>\n",
       "      <td>13.04</td>\n",
       "      <td>21.73</td>\n",
       "      <td>21.73</td>\n",
       "      <td>8.69</td>\n",
       "      <td>1</td>\n",
       "      <td>1.0</td>\n",
       "      <td>8.69</td>\n",
       "      <td>0.399908</td>\n",
       "    </tr>\n",
       "    <tr>\n",
       "      <th>229146</th>\n",
       "      <td>2024-11</td>\n",
       "      <td>Valve Sales Inc.</td>\n",
       "      <td>Tulsa</td>\n",
       "      <td>XTO Energy, Inc - Ardmore</td>\n",
       "      <td>Upstream O&amp;G</td>\n",
       "      <td>323117</td>\n",
       "      <td>323117</td>\n",
       "      <td>Peaktronics DHC-400 Digital Card (UL Blue Dot)</td>\n",
       "      <td>Inventory Item</td>\n",
       "      <td>Peaktronics</td>\n",
       "      <td>231.36</td>\n",
       "      <td>432.00</td>\n",
       "      <td>3888.00</td>\n",
       "      <td>1805.76</td>\n",
       "      <td>2</td>\n",
       "      <td>9.0</td>\n",
       "      <td>200.64</td>\n",
       "      <td>0.464444</td>\n",
       "    </tr>\n",
       "    <tr>\n",
       "      <th>229147</th>\n",
       "      <td>2024-11</td>\n",
       "      <td>Valve Sales Inc.</td>\n",
       "      <td>Tulsa</td>\n",
       "      <td>XTO Energy, Inc - Ardmore</td>\n",
       "      <td>Upstream O&amp;G</td>\n",
       "      <td>1696367</td>\n",
       "      <td>Shop Labor - UL Asahi Actuator Repair</td>\n",
       "      <td>Shop Labor - UL Asahi Actuator Repair</td>\n",
       "      <td>Service</td>\n",
       "      <td>Not Specified</td>\n",
       "      <td>82.50</td>\n",
       "      <td>165.00</td>\n",
       "      <td>660.00</td>\n",
       "      <td>330.00</td>\n",
       "      <td>4</td>\n",
       "      <td>4.0</td>\n",
       "      <td>82.50</td>\n",
       "      <td>0.500000</td>\n",
       "    </tr>\n",
       "    <tr>\n",
       "      <th>229148</th>\n",
       "      <td>2024-11</td>\n",
       "      <td>Valve Sales Inc.</td>\n",
       "      <td>Tulsa</td>\n",
       "      <td>XTO Energy, Inc - Ardmore</td>\n",
       "      <td>Upstream O&amp;G</td>\n",
       "      <td>2155462</td>\n",
       "      <td>2155462</td>\n",
       "      <td>Asahi 134-70 Buna Oring</td>\n",
       "      <td>Inventory Item</td>\n",
       "      <td>Not Specified</td>\n",
       "      <td>0.20</td>\n",
       "      <td>20.00</td>\n",
       "      <td>60.00</td>\n",
       "      <td>59.40</td>\n",
       "      <td>3</td>\n",
       "      <td>3.0</td>\n",
       "      <td>19.80</td>\n",
       "      <td>0.990000</td>\n",
       "    </tr>\n",
       "  </tbody>\n",
       "</table>\n",
       "<p>229149 rows × 18 columns</p>\n",
       "</div>"
      ]
     },
     "execution_count": 19,
     "metadata": {},
     "output_type": "execute_result"
    }
   ],
   "execution_count": 19
  },
  {
   "metadata": {
    "ExecuteTime": {
     "end_time": "2024-12-17T18:03:44.904828Z",
     "start_time": "2024-12-17T18:03:44.827491Z"
    }
   },
   "cell_type": "code",
   "source": [
    "monthly_top_sku_sales_by_subsidiary = ma.filter_top_skus(monthly_booked_sales_by_sku_by_subsidiary, top_skus_by_subsidiary)\n",
    "monthly_top_sku_sales_by_subsidiary[\"total_booked_sales\"].sum()"
   ],
   "id": "cfb3a231f480ed2b",
   "outputs": [
    {
     "data": {
      "text/plain": [
       "np.float64(554195717.1050187)"
      ]
     },
     "execution_count": 20,
     "metadata": {},
     "output_type": "execute_result"
    }
   ],
   "execution_count": 20
  },
  {
   "metadata": {
    "ExecuteTime": {
     "end_time": "2024-12-17T18:03:54.768838Z",
     "start_time": "2024-12-17T18:03:54.733796Z"
    }
   },
   "cell_type": "code",
   "source": "monthly_top_sku_sales_by_subsidiary",
   "id": "a93df720f1f7f116",
   "outputs": [
    {
     "data": {
      "text/plain": [
       "       time_period         subsidiary_name  location  \\\n",
       "0          2022-01  Allied Instrumentation  Appleton   \n",
       "1          2022-01  Allied Instrumentation  Appleton   \n",
       "2          2022-01  Allied Instrumentation  Appleton   \n",
       "3          2022-01  Allied Instrumentation  Appleton   \n",
       "4          2022-01  Allied Instrumentation  Appleton   \n",
       "...            ...                     ...       ...   \n",
       "125372     2024-11        Valve Sales Inc.     Tulsa   \n",
       "125373     2024-11        Valve Sales Inc.     Tulsa   \n",
       "125374     2024-11        Valve Sales Inc.     Tulsa   \n",
       "125375     2024-11        Valve Sales Inc.     Tulsa   \n",
       "125376     2024-11        Valve Sales Inc.     Tulsa   \n",
       "\n",
       "                     company_name    end_market      sku  \\\n",
       "0          Ahlstrom - Mosinee, WI  Paper & Pulp   622010   \n",
       "1          Ahlstrom - Mosinee, WI  Paper & Pulp   622040   \n",
       "2          Ahlstrom - Mosinee, WI  Paper & Pulp   622043   \n",
       "3          Ahlstrom - Mosinee, WI  Paper & Pulp   622054   \n",
       "4          Ahlstrom - Mosinee, WI  Paper & Pulp   622055   \n",
       "...                           ...           ...      ...   \n",
       "125372  XTO Energy, Inc - Ardmore  Upstream O&G   315315   \n",
       "125373  XTO Energy, Inc - Ardmore  Upstream O&G   315713   \n",
       "125374  XTO Energy, Inc - Ardmore  Upstream O&G   323117   \n",
       "125375  XTO Energy, Inc - Ardmore  Upstream O&G  1696367   \n",
       "125376  XTO Energy, Inc - Ardmore  Upstream O&G  2155462   \n",
       "\n",
       "                                    item_name  \\\n",
       "0                              AV FS AccuTest   \n",
       "1                               AV FS Mileage   \n",
       "2                              AV FS Per Diem   \n",
       "3                    AV FS Travel Time OT/SAT   \n",
       "4                       AV FS Travel Time STD   \n",
       "...                                       ...   \n",
       "125372                                 315315   \n",
       "125373                                 315713   \n",
       "125374                                 323117   \n",
       "125375  Shop Labor - UL Asahi Actuator Repair   \n",
       "125376                                2155462   \n",
       "\n",
       "                                          display_name       item_type  \\\n",
       "0                                         Not Assigned         Service   \n",
       "1                                         Not Assigned         Service   \n",
       "2                                         Not Assigned         Service   \n",
       "3                                         Not Assigned         Service   \n",
       "4                                         Not Assigned         Service   \n",
       "...                                                ...             ...   \n",
       "125372                     Asahi Actuator Beacon Globe  Inventory Item   \n",
       "125373                 Asahi Actuator Beacon Indicator  Inventory Item   \n",
       "125374  Peaktronics DHC-400 Digital Card (UL Blue Dot)  Inventory Item   \n",
       "125375           Shop Labor - UL Asahi Actuator Repair         Service   \n",
       "125376                         Asahi 134-70 Buna Oring  Inventory Item   \n",
       "\n",
       "         manufacturer  avg_cost  avg_unit_price  total_booked_sales  \\\n",
       "0       Not Specified      0.00           965.0               965.0   \n",
       "1       Not Specified      0.56             1.5               285.0   \n",
       "2       Not Specified     45.00            65.0                65.0   \n",
       "3       Not Specified     48.50           150.0               600.0   \n",
       "4       Not Specified     37.00           110.0               440.0   \n",
       "...               ...       ...             ...                 ...   \n",
       "125372  Asahi America     12.60            21.0                42.0   \n",
       "125373  Asahi America     10.40            17.5                17.5   \n",
       "125374    Peaktronics    231.36           432.0              3888.0   \n",
       "125375  Not Specified     82.50           165.0               660.0   \n",
       "125376  Not Specified      0.20            20.0                60.0   \n",
       "\n",
       "        total_gross_profit  order_count  qty_sold  avg_gross_profit_per_unit  \\\n",
       "0                   965.00            1       1.0                     965.00   \n",
       "1                   178.60            1     190.0                       0.94   \n",
       "2                    20.00            1       1.0                      20.00   \n",
       "3                   406.00            1       4.0                     101.50   \n",
       "4                   292.00            1       4.0                      73.00   \n",
       "...                    ...          ...       ...                        ...   \n",
       "125372               16.80            2       2.0                       8.40   \n",
       "125373                7.10            1       1.0                       7.10   \n",
       "125374             1805.76            2       9.0                     200.64   \n",
       "125375              330.00            4       4.0                      82.50   \n",
       "125376               59.40            3       3.0                      19.80   \n",
       "\n",
       "        avg_gross_margin_pct  \n",
       "0                   1.000000  \n",
       "1                   0.626667  \n",
       "2                   0.307692  \n",
       "3                   0.676667  \n",
       "4                   0.663636  \n",
       "...                      ...  \n",
       "125372              0.400000  \n",
       "125373              0.405714  \n",
       "125374              0.464444  \n",
       "125375              0.500000  \n",
       "125376              0.990000  \n",
       "\n",
       "[125377 rows x 18 columns]"
      ],
      "text/html": [
       "<div>\n",
       "<style scoped>\n",
       "    .dataframe tbody tr th:only-of-type {\n",
       "        vertical-align: middle;\n",
       "    }\n",
       "\n",
       "    .dataframe tbody tr th {\n",
       "        vertical-align: top;\n",
       "    }\n",
       "\n",
       "    .dataframe thead th {\n",
       "        text-align: right;\n",
       "    }\n",
       "</style>\n",
       "<table border=\"1\" class=\"dataframe\">\n",
       "  <thead>\n",
       "    <tr style=\"text-align: right;\">\n",
       "      <th></th>\n",
       "      <th>time_period</th>\n",
       "      <th>subsidiary_name</th>\n",
       "      <th>location</th>\n",
       "      <th>company_name</th>\n",
       "      <th>end_market</th>\n",
       "      <th>sku</th>\n",
       "      <th>item_name</th>\n",
       "      <th>display_name</th>\n",
       "      <th>item_type</th>\n",
       "      <th>manufacturer</th>\n",
       "      <th>avg_cost</th>\n",
       "      <th>avg_unit_price</th>\n",
       "      <th>total_booked_sales</th>\n",
       "      <th>total_gross_profit</th>\n",
       "      <th>order_count</th>\n",
       "      <th>qty_sold</th>\n",
       "      <th>avg_gross_profit_per_unit</th>\n",
       "      <th>avg_gross_margin_pct</th>\n",
       "    </tr>\n",
       "  </thead>\n",
       "  <tbody>\n",
       "    <tr>\n",
       "      <th>0</th>\n",
       "      <td>2022-01</td>\n",
       "      <td>Allied Instrumentation</td>\n",
       "      <td>Appleton</td>\n",
       "      <td>Ahlstrom - Mosinee, WI</td>\n",
       "      <td>Paper &amp; Pulp</td>\n",
       "      <td>622010</td>\n",
       "      <td>AV FS AccuTest</td>\n",
       "      <td>Not Assigned</td>\n",
       "      <td>Service</td>\n",
       "      <td>Not Specified</td>\n",
       "      <td>0.00</td>\n",
       "      <td>965.0</td>\n",
       "      <td>965.0</td>\n",
       "      <td>965.00</td>\n",
       "      <td>1</td>\n",
       "      <td>1.0</td>\n",
       "      <td>965.00</td>\n",
       "      <td>1.000000</td>\n",
       "    </tr>\n",
       "    <tr>\n",
       "      <th>1</th>\n",
       "      <td>2022-01</td>\n",
       "      <td>Allied Instrumentation</td>\n",
       "      <td>Appleton</td>\n",
       "      <td>Ahlstrom - Mosinee, WI</td>\n",
       "      <td>Paper &amp; Pulp</td>\n",
       "      <td>622040</td>\n",
       "      <td>AV FS Mileage</td>\n",
       "      <td>Not Assigned</td>\n",
       "      <td>Service</td>\n",
       "      <td>Not Specified</td>\n",
       "      <td>0.56</td>\n",
       "      <td>1.5</td>\n",
       "      <td>285.0</td>\n",
       "      <td>178.60</td>\n",
       "      <td>1</td>\n",
       "      <td>190.0</td>\n",
       "      <td>0.94</td>\n",
       "      <td>0.626667</td>\n",
       "    </tr>\n",
       "    <tr>\n",
       "      <th>2</th>\n",
       "      <td>2022-01</td>\n",
       "      <td>Allied Instrumentation</td>\n",
       "      <td>Appleton</td>\n",
       "      <td>Ahlstrom - Mosinee, WI</td>\n",
       "      <td>Paper &amp; Pulp</td>\n",
       "      <td>622043</td>\n",
       "      <td>AV FS Per Diem</td>\n",
       "      <td>Not Assigned</td>\n",
       "      <td>Service</td>\n",
       "      <td>Not Specified</td>\n",
       "      <td>45.00</td>\n",
       "      <td>65.0</td>\n",
       "      <td>65.0</td>\n",
       "      <td>20.00</td>\n",
       "      <td>1</td>\n",
       "      <td>1.0</td>\n",
       "      <td>20.00</td>\n",
       "      <td>0.307692</td>\n",
       "    </tr>\n",
       "    <tr>\n",
       "      <th>3</th>\n",
       "      <td>2022-01</td>\n",
       "      <td>Allied Instrumentation</td>\n",
       "      <td>Appleton</td>\n",
       "      <td>Ahlstrom - Mosinee, WI</td>\n",
       "      <td>Paper &amp; Pulp</td>\n",
       "      <td>622054</td>\n",
       "      <td>AV FS Travel Time OT/SAT</td>\n",
       "      <td>Not Assigned</td>\n",
       "      <td>Service</td>\n",
       "      <td>Not Specified</td>\n",
       "      <td>48.50</td>\n",
       "      <td>150.0</td>\n",
       "      <td>600.0</td>\n",
       "      <td>406.00</td>\n",
       "      <td>1</td>\n",
       "      <td>4.0</td>\n",
       "      <td>101.50</td>\n",
       "      <td>0.676667</td>\n",
       "    </tr>\n",
       "    <tr>\n",
       "      <th>4</th>\n",
       "      <td>2022-01</td>\n",
       "      <td>Allied Instrumentation</td>\n",
       "      <td>Appleton</td>\n",
       "      <td>Ahlstrom - Mosinee, WI</td>\n",
       "      <td>Paper &amp; Pulp</td>\n",
       "      <td>622055</td>\n",
       "      <td>AV FS Travel Time STD</td>\n",
       "      <td>Not Assigned</td>\n",
       "      <td>Service</td>\n",
       "      <td>Not Specified</td>\n",
       "      <td>37.00</td>\n",
       "      <td>110.0</td>\n",
       "      <td>440.0</td>\n",
       "      <td>292.00</td>\n",
       "      <td>1</td>\n",
       "      <td>4.0</td>\n",
       "      <td>73.00</td>\n",
       "      <td>0.663636</td>\n",
       "    </tr>\n",
       "    <tr>\n",
       "      <th>...</th>\n",
       "      <td>...</td>\n",
       "      <td>...</td>\n",
       "      <td>...</td>\n",
       "      <td>...</td>\n",
       "      <td>...</td>\n",
       "      <td>...</td>\n",
       "      <td>...</td>\n",
       "      <td>...</td>\n",
       "      <td>...</td>\n",
       "      <td>...</td>\n",
       "      <td>...</td>\n",
       "      <td>...</td>\n",
       "      <td>...</td>\n",
       "      <td>...</td>\n",
       "      <td>...</td>\n",
       "      <td>...</td>\n",
       "      <td>...</td>\n",
       "      <td>...</td>\n",
       "    </tr>\n",
       "    <tr>\n",
       "      <th>125372</th>\n",
       "      <td>2024-11</td>\n",
       "      <td>Valve Sales Inc.</td>\n",
       "      <td>Tulsa</td>\n",
       "      <td>XTO Energy, Inc - Ardmore</td>\n",
       "      <td>Upstream O&amp;G</td>\n",
       "      <td>315315</td>\n",
       "      <td>315315</td>\n",
       "      <td>Asahi Actuator Beacon Globe</td>\n",
       "      <td>Inventory Item</td>\n",
       "      <td>Asahi America</td>\n",
       "      <td>12.60</td>\n",
       "      <td>21.0</td>\n",
       "      <td>42.0</td>\n",
       "      <td>16.80</td>\n",
       "      <td>2</td>\n",
       "      <td>2.0</td>\n",
       "      <td>8.40</td>\n",
       "      <td>0.400000</td>\n",
       "    </tr>\n",
       "    <tr>\n",
       "      <th>125373</th>\n",
       "      <td>2024-11</td>\n",
       "      <td>Valve Sales Inc.</td>\n",
       "      <td>Tulsa</td>\n",
       "      <td>XTO Energy, Inc - Ardmore</td>\n",
       "      <td>Upstream O&amp;G</td>\n",
       "      <td>315713</td>\n",
       "      <td>315713</td>\n",
       "      <td>Asahi Actuator Beacon Indicator</td>\n",
       "      <td>Inventory Item</td>\n",
       "      <td>Asahi America</td>\n",
       "      <td>10.40</td>\n",
       "      <td>17.5</td>\n",
       "      <td>17.5</td>\n",
       "      <td>7.10</td>\n",
       "      <td>1</td>\n",
       "      <td>1.0</td>\n",
       "      <td>7.10</td>\n",
       "      <td>0.405714</td>\n",
       "    </tr>\n",
       "    <tr>\n",
       "      <th>125374</th>\n",
       "      <td>2024-11</td>\n",
       "      <td>Valve Sales Inc.</td>\n",
       "      <td>Tulsa</td>\n",
       "      <td>XTO Energy, Inc - Ardmore</td>\n",
       "      <td>Upstream O&amp;G</td>\n",
       "      <td>323117</td>\n",
       "      <td>323117</td>\n",
       "      <td>Peaktronics DHC-400 Digital Card (UL Blue Dot)</td>\n",
       "      <td>Inventory Item</td>\n",
       "      <td>Peaktronics</td>\n",
       "      <td>231.36</td>\n",
       "      <td>432.0</td>\n",
       "      <td>3888.0</td>\n",
       "      <td>1805.76</td>\n",
       "      <td>2</td>\n",
       "      <td>9.0</td>\n",
       "      <td>200.64</td>\n",
       "      <td>0.464444</td>\n",
       "    </tr>\n",
       "    <tr>\n",
       "      <th>125375</th>\n",
       "      <td>2024-11</td>\n",
       "      <td>Valve Sales Inc.</td>\n",
       "      <td>Tulsa</td>\n",
       "      <td>XTO Energy, Inc - Ardmore</td>\n",
       "      <td>Upstream O&amp;G</td>\n",
       "      <td>1696367</td>\n",
       "      <td>Shop Labor - UL Asahi Actuator Repair</td>\n",
       "      <td>Shop Labor - UL Asahi Actuator Repair</td>\n",
       "      <td>Service</td>\n",
       "      <td>Not Specified</td>\n",
       "      <td>82.50</td>\n",
       "      <td>165.0</td>\n",
       "      <td>660.0</td>\n",
       "      <td>330.00</td>\n",
       "      <td>4</td>\n",
       "      <td>4.0</td>\n",
       "      <td>82.50</td>\n",
       "      <td>0.500000</td>\n",
       "    </tr>\n",
       "    <tr>\n",
       "      <th>125376</th>\n",
       "      <td>2024-11</td>\n",
       "      <td>Valve Sales Inc.</td>\n",
       "      <td>Tulsa</td>\n",
       "      <td>XTO Energy, Inc - Ardmore</td>\n",
       "      <td>Upstream O&amp;G</td>\n",
       "      <td>2155462</td>\n",
       "      <td>2155462</td>\n",
       "      <td>Asahi 134-70 Buna Oring</td>\n",
       "      <td>Inventory Item</td>\n",
       "      <td>Not Specified</td>\n",
       "      <td>0.20</td>\n",
       "      <td>20.0</td>\n",
       "      <td>60.0</td>\n",
       "      <td>59.40</td>\n",
       "      <td>3</td>\n",
       "      <td>3.0</td>\n",
       "      <td>19.80</td>\n",
       "      <td>0.990000</td>\n",
       "    </tr>\n",
       "  </tbody>\n",
       "</table>\n",
       "<p>125377 rows × 18 columns</p>\n",
       "</div>"
      ]
     },
     "execution_count": 21,
     "metadata": {},
     "output_type": "execute_result"
    }
   ],
   "execution_count": 21
  },
  {
   "metadata": {
    "ExecuteTime": {
     "end_time": "2024-12-17T18:04:42.355017Z",
     "start_time": "2024-12-17T18:04:08.704282Z"
    }
   },
   "cell_type": "code",
   "source": "monthly_top_sku_sales_by_subsidiary.to_excel(\"data/monthly_top_sku_sales_by_subsidiary.xlsx\", index=False)",
   "id": "f6505f422d0a2490",
   "outputs": [],
   "execution_count": 22
  },
  {
   "metadata": {},
   "cell_type": "code",
   "source": [
    "grouping_columns = [\"created_date\", \"sku\", \"item_name\", \"display_name\", \"item_type\", \"manufacturer\"]\n",
    "annual_booked_sales_by_sku = ma.calculate_total_booked_sales(line_itmes_for_analysis, grouping_columns, time_period=\"year\")"
   ],
   "id": "76cce479514c5b27",
   "outputs": [],
   "execution_count": null
  },
  {
   "metadata": {},
   "cell_type": "code",
   "source": "annual_booked_sales_by_sku",
   "id": "fc5fc90dc005b4f1",
   "outputs": [],
   "execution_count": null
  },
  {
   "metadata": {},
   "cell_type": "code",
   "source": [
    "filled_monthly_top_sku_sales_by_subsidiary = ma.fill_missing_months(monthly_top_sku_sales_by_subsidiary)\n",
    "filled_monthly_top_sku_sales_by_subsidiary[\"total_booked_sales\"].sum()"
   ],
   "id": "b585b8d020fea99f",
   "outputs": [],
   "execution_count": null
  },
  {
   "metadata": {},
   "cell_type": "code",
   "source": [
    "filled_monthly_top_sku_sales_by_subsidiary = ma.fill_missing_string_values(filled_monthly_top_sku_sales_by_subsidiary)\n",
    "filled_monthly_top_sku_sales_by_subsidiary[\"total_booked_sales\"].sum()"
   ],
   "id": "e486750b2e06dec",
   "outputs": [],
   "execution_count": null
  },
  {
   "metadata": {},
   "cell_type": "code",
   "source": [
    "ttm_margin_by_top_sku_by_subsidiary = ma.calculate_ttm_avg(filled_monthly_top_sku_sales_by_subsidiary)\n",
    "ttm_margin_by_top_sku_by_subsidiary = ttm_margin_by_top_sku_by_subsidiary.fillna(0)\n",
    "ttm_margin_by_top_sku_by_subsidiary[\"total_booked_sales\"].sum()"
   ],
   "id": "1e8dc78a1bf1210d",
   "outputs": [],
   "execution_count": null
  },
  {
   "metadata": {},
   "cell_type": "code",
   "source": [
    "# calculate the change in margin for each sku each month\n",
    "ttm_margin_by_top_sku_by_subsidiary[\"ttm_margin_change\"] = ttm_margin_by_top_sku_by_subsidiary.groupby([\"subsidiary_name\", \"sku\"])[\"ttm_avg_gross_margin_percent\"].diff()\n",
    "ttm_margin_by_top_sku_by_subsidiary[\"ttm_margin_change\"] = ttm_margin_by_top_sku_by_subsidiary[\"ttm_margin_change\"].fillna(0)"
   ],
   "id": "c2e779d743beb109",
   "outputs": [],
   "execution_count": null
  },
  {
   "metadata": {},
   "cell_type": "code",
   "source": [
    "# calculate the percentage change in margin for each sku each month by using the ttm_avg_gross_margin_percent and margin_change columns\n",
    "ttm_margin_by_top_sku_by_subsidiary[\"ttm_margin_change_pct\"] = ttm_margin_by_top_sku_by_subsidiary[\"ttm_margin_change\"] / ttm_margin_by_top_sku_by_subsidiary[\"ttm_avg_gross_margin_percent\"]\n",
    "ttm_margin_by_top_sku_by_subsidiary[\"ttm_margin_change_pct\"] = ttm_margin_by_top_sku_by_subsidiary[\"ttm_margin_change_pct\"].fillna(0)"
   ],
   "id": "ace8d61075b7fbeb",
   "outputs": [],
   "execution_count": null
  },
  {
   "metadata": {},
   "cell_type": "code",
   "source": "ttm_margin_by_top_sku_by_subsidiary",
   "id": "ff42154d2e03640b",
   "outputs": [],
   "execution_count": null
  },
  {
   "metadata": {},
   "cell_type": "code",
   "source": "",
   "id": "23ef9cc6cd8ec2a",
   "outputs": [],
   "execution_count": null
  }
 ],
 "metadata": {
  "kernelspec": {
   "display_name": "Python 3",
   "language": "python",
   "name": "python3"
  },
  "language_info": {
   "codemirror_mode": {
    "name": "ipython",
    "version": 2
   },
   "file_extension": ".py",
   "mimetype": "text/x-python",
   "name": "python",
   "nbconvert_exporter": "python",
   "pygments_lexer": "ipython2",
   "version": "2.7.6"
  }
 },
 "nbformat": 4,
 "nbformat_minor": 5
}
