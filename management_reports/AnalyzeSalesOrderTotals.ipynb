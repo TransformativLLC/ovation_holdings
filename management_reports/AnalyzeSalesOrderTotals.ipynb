{
 "cells": [
  {
   "cell_type": "code",
   "id": "initial_id",
   "metadata": {
    "collapsed": true,
    "ExecuteTime": {
     "end_time": "2025-01-23T02:46:13.383910Z",
     "start_time": "2025-01-23T02:46:12.505661Z"
    }
   },
   "source": [
    "# Azure Data Lake libraries\n",
    "import azure_data_lake_interface as adl\n",
    "\n",
    "# Data analysis libraries\n",
    "import pandas as pd\n",
    "\n",
    "# Helper function libraries\n",
    "from helper_functions import load_config"
   ],
   "outputs": [],
   "execution_count": 1
  },
  {
   "metadata": {
    "ExecuteTime": {
     "end_time": "2025-01-23T02:46:14.328022Z",
     "start_time": "2025-01-23T02:46:14.323944Z"
    }
   },
   "cell_type": "code",
   "source": [
    "# attach to the data lake\n",
    "config = load_config(\"config/datalake_config.json\", flush_cache=True)\n",
    "service_client = adl.get_azure_service_client(config[\"blob_url\"])\n",
    "file_system_client = adl.get_azure_file_system_client(service_client, \"consolidated\")"
   ],
   "id": "280fed998d959481",
   "outputs": [],
   "execution_count": 2
  },
  {
   "metadata": {
    "ExecuteTime": {
     "end_time": "2025-01-23T02:51:04.329893Z",
     "start_time": "2025-01-23T02:50:58.081015Z"
    }
   },
   "cell_type": "code",
   "source": [
    "# get data\n",
    "trans_type = \"SalesOrd\"\n",
    "transactions = adl.get_parquet_file_from_data_lake(file_system_client, f\"raw/netsuite\", f\"transaction/{trans_type}_raw.parquet\")"
   ],
   "id": "61d69fad3abbbede",
   "outputs": [],
   "execution_count": 5
  },
  {
   "metadata": {
    "ExecuteTime": {
     "end_time": "2025-01-21T16:42:30.685264Z",
     "start_time": "2025-01-21T16:42:30.603786Z"
    }
   },
   "cell_type": "code",
   "source": [
    "# get local customer data\n",
    "customers = pd.read_csv(\"data/active_customers.csv\")\n",
    "\n",
    "# change customer_id to string\n",
    "customers[\"customer_id\"] = customers[\"customer_id\"].astype(str)"
   ],
   "id": "6e036990738e795e",
   "outputs": [],
   "execution_count": 4
  },
  {
   "metadata": {
    "ExecuteTime": {
     "end_time": "2025-01-21T16:43:09.381623Z",
     "start_time": "2025-01-21T16:43:09.197492Z"
    }
   },
   "cell_type": "code",
   "source": [
    "# change created_date to datetime and coerce all dates to datetime\n",
    "transactions[\"created_date\"] = pd.to_datetime(transactions[\"created_date\"], errors=\"coerce\")\n",
    "\n",
    "# change strings to numeric\n",
    "transactions[\"net_amount\"] = pd.to_numeric(transactions[\"net_amount\"], errors=\"coerce\")\n",
    "transactions[\"estimated_gross_profit\"] = pd.to_numeric(transactions[\"estimated_gross_profit\"], errors=\"coerce\")\n",
    "transactions[\"estimated_gross_profit_percent\"] = pd.to_numeric(transactions[\"estimated_gross_profit_percent\"], errors=\"coerce\")"
   ],
   "id": "e01a4d260530db76",
   "outputs": [],
   "execution_count": 5
  },
  {
   "metadata": {
    "ExecuteTime": {
     "end_time": "2025-01-21T16:43:20.052105Z",
     "start_time": "2025-01-21T16:43:20.040495Z"
    }
   },
   "cell_type": "code",
   "source": [
    "# Replace null values with replacement_value\n",
    "transactions[\"location\"] = transactions[\"location\"].replace(\"null\", \"Not Specified\")"
   ],
   "id": "84e50c45e26e8793",
   "outputs": [],
   "execution_count": 6
  },
  {
   "metadata": {
    "ExecuteTime": {
     "end_time": "2025-01-21T16:43:33.105899Z",
     "start_time": "2025-01-21T16:43:33.024508Z"
    }
   },
   "cell_type": "code",
   "source": [
    "# remove all rows outside the date range\n",
    "start_date = \"2022-01-01\"\n",
    "end_date = \"2024-12-31\"\n",
    "\n",
    "transactions = transactions[(transactions[\"created_date\"] >= start_date) & (transactions[\"created_date\"] <= end_date)]"
   ],
   "id": "5358776fcfe4b7c1",
   "outputs": [],
   "execution_count": 7
  },
  {
   "metadata": {
    "ExecuteTime": {
     "end_time": "2025-01-21T16:43:38.353793Z",
     "start_time": "2025-01-21T16:43:38.347806Z"
    }
   },
   "cell_type": "code",
   "source": "transactions[\"net_amount\"].sum()",
   "id": "a91f80feec4dc9dc",
   "outputs": [
    {
     "data": {
      "text/plain": [
       "np.float64(721117743.7799999)"
      ]
     },
     "execution_count": 8,
     "metadata": {},
     "output_type": "execute_result"
    }
   ],
   "execution_count": 8
  },
  {
   "metadata": {
    "ExecuteTime": {
     "end_time": "2025-01-21T16:43:49.697262Z",
     "start_time": "2025-01-21T16:43:49.574969Z"
    }
   },
   "cell_type": "code",
   "source": [
    "# add customer information to invoice_line_items\n",
    "augmented_transactions = transactions.merge(customers[[\"customer_id\", \"subsidiary_name\", \"end_market\", \"sales_rep\"]], on=\"customer_id\", how=\"left\")"
   ],
   "id": "a9d3d0e53f906057",
   "outputs": [],
   "execution_count": 9
  },
  {
   "metadata": {
    "ExecuteTime": {
     "end_time": "2025-01-21T16:43:58.514836Z",
     "start_time": "2025-01-21T16:43:58.505191Z"
    }
   },
   "cell_type": "code",
   "source": "augmented_transactions[\"subsidiary_name\"].value_counts()",
   "id": "6845b26d882ff7bc",
   "outputs": [
    {
     "data": {
      "text/plain": [
       "subsidiary_name\n",
       "Allied Valve              56559\n",
       "Allied Instrumentation    40492\n",
       "Valve Sales Inc.          19028\n",
       "Automation Service        16251\n",
       "Name: count, dtype: int64"
      ]
     },
     "execution_count": 10,
     "metadata": {},
     "output_type": "execute_result"
    }
   ],
   "execution_count": 10
  },
  {
   "metadata": {
    "ExecuteTime": {
     "end_time": "2025-01-21T16:44:49.024166Z",
     "start_time": "2025-01-21T16:44:49.021590Z"
    }
   },
   "cell_type": "code",
   "source": [
    "drop_list = ['links', 'actual_ship_date', 'ai_order_type', 'amount_paid',\n",
    "       'amount_unpaid', 'billing_address', 'close_date', 'commission_only',\n",
    "       'company_email', 'created_by',\n",
    "       'custom_form', 'date_started', 'days_open',\n",
    "       'deliver_by_date', 'due_date', 'employee', 'end_date',\n",
    "       'entity_status', 'expected_close_date',\n",
    "       'finance_charge', 'freshdesk_ticket_number', 'id', 'inbound_source',\n",
    "       'job_type', 'last_modified_by', 'lastmodifieddate', 'lead_source',\n",
    "       'mainline', 'memo', 'nexus', 'posting_period',\n",
    "       'prepared_for_contact', 'prepared_for_contact_email', 'promised_date',\n",
    "       'reversal', 'ship_date', 'shipping_address', 'start_date', 'status', 'total_cost_estimate',\n",
    "        'tran_date', 'transaction_number','type', 'voided', 'custbody_nx_customer']"
   ],
   "id": "6a3afe693ccb8e3b",
   "outputs": [],
   "execution_count": 12
  },
  {
   "metadata": {
    "ExecuteTime": {
     "end_time": "2025-01-21T16:45:10.601970Z",
     "start_time": "2025-01-21T16:45:10.574359Z"
    }
   },
   "cell_type": "code",
   "source": [
    "# drop all columns in drop list\n",
    "augmented_transactions.drop(drop_list, axis=1, inplace=True)"
   ],
   "id": "415b049b91d96d05",
   "outputs": [],
   "execution_count": 13
  },
  {
   "metadata": {
    "ExecuteTime": {
     "end_time": "2025-01-21T16:45:13.809242Z",
     "start_time": "2025-01-21T16:45:13.781811Z"
    }
   },
   "cell_type": "code",
   "source": [
    "# sort augmented_invoices by net amount largest to smallest\n",
    "augmented_transactions.sort_values(by=\"net_amount\", ascending=False, inplace=True)"
   ],
   "id": "b6ab330d9210bf75",
   "outputs": [],
   "execution_count": 14
  },
  {
   "metadata": {
    "ExecuteTime": {
     "end_time": "2025-01-21T16:45:15.517466Z",
     "start_time": "2025-01-21T16:45:15.505895Z"
    }
   },
   "cell_type": "code",
   "source": "augmented_transactions",
   "id": "f2be4615b51e4953",
   "outputs": [
    {
     "data": {
      "text/plain": [
       "                                             company_name created_date  \\\n",
       "40098   Maverick Natural Resources-Unbridled Resources...   2023-03-06   \n",
       "36816                           Kiewit Power Constructors   2023-02-06   \n",
       "129529                        Worley Canada Services Ltd.   2024-12-06   \n",
       "107084                          Double W Oilfield Service   2024-07-15   \n",
       "67790                       Swift Fuels, LLC - Morris, IL   2023-10-11   \n",
       "...                                                   ...          ...   \n",
       "109580           Atlas/Diversified - New Philadelphia, OH   2024-07-31   \n",
       "44295                                  SABIC - Ottawa, IL   2023-04-12   \n",
       "76258                       Exxon Mobil Oil Corp - Joliet   2023-12-14   \n",
       "76290                       Ecktech Engineering Co., Ltd.   2023-12-14   \n",
       "337                 Precision Pump and Valve - Louisville   2022-01-07   \n",
       "\n",
       "       customer_id         entered_by  estimated_gross_profit  \\\n",
       "40098       237412         Ben Walker               594510.72   \n",
       "36816       283445       Diana Seljan                    0.00   \n",
       "129529      439412       April Norris               474456.72   \n",
       "107084      405039     Amanda R Smith                    0.00   \n",
       "67790       321096          Amy Clark                66137.53   \n",
       "...            ...                ...                     ...   \n",
       "109580      339499       Lorna Pepper                  -75.00   \n",
       "44295         8979      Matt Buettner                    0.00   \n",
       "76258         8181      Awilda Rivera                    0.00   \n",
       "76290       177170  ASIS  Integration                    0.00   \n",
       "337          56470  ASIS  Integration                    0.00   \n",
       "\n",
       "        estimated_gross_profit_percent        location  net_amount  tranid  \\\n",
       "40098                         0.310624           Tulsa  2006919.37  329058   \n",
       "36816                         0.000000        Highland  1758431.14  325772   \n",
       "129529                        0.282415          Fenton  1680000.00  418833   \n",
       "107084                        0.000000          Monroe  1374172.76  396323   \n",
       "67790                         0.080156         Detroit   892988.80  356854   \n",
       "...                                ...             ...         ...     ...   \n",
       "109580                        0.000000            Kent        0.00  398819   \n",
       "44295                         0.000000  Riverdale Shop        0.00  333276   \n",
       "76258                         0.000000  Riverdale Shop        0.00  365357   \n",
       "76290                         0.000000       St. Louis        0.00  365390   \n",
       "337                           0.000000       St. Louis        0.00  288956   \n",
       "\n",
       "               subsidiary_name             end_market     sales_rep  \n",
       "40098         Valve Sales Inc.           Upstream O&G   Tucker Lang  \n",
       "36816   Allied Instrumentation  Professional Services      Multiple  \n",
       "129529  Allied Instrumentation       Midstream Liquid      Multiple  \n",
       "107084  Allied Instrumentation          Midstream Gas  Not Assigned  \n",
       "67790             Allied Valve         Downstream O&G  Todd L White  \n",
       "...                        ...                    ...           ...  \n",
       "109580        Valve Sales Inc.           Upstream O&G  Wray Kilgore  \n",
       "44295             Allied Valve     Chemical/Petrochem  Todd L White  \n",
       "76258   Allied Instrumentation         Downstream O&G      Multiple  \n",
       "76290       Automation Service          Manufacturing  Not Assigned  \n",
       "337         Automation Service   Reseller/Distributer  Not Assigned  \n",
       "\n",
       "[132355 rows x 12 columns]"
      ],
      "text/html": [
       "<div>\n",
       "<style scoped>\n",
       "    .dataframe tbody tr th:only-of-type {\n",
       "        vertical-align: middle;\n",
       "    }\n",
       "\n",
       "    .dataframe tbody tr th {\n",
       "        vertical-align: top;\n",
       "    }\n",
       "\n",
       "    .dataframe thead th {\n",
       "        text-align: right;\n",
       "    }\n",
       "</style>\n",
       "<table border=\"1\" class=\"dataframe\">\n",
       "  <thead>\n",
       "    <tr style=\"text-align: right;\">\n",
       "      <th></th>\n",
       "      <th>company_name</th>\n",
       "      <th>created_date</th>\n",
       "      <th>customer_id</th>\n",
       "      <th>entered_by</th>\n",
       "      <th>estimated_gross_profit</th>\n",
       "      <th>estimated_gross_profit_percent</th>\n",
       "      <th>location</th>\n",
       "      <th>net_amount</th>\n",
       "      <th>tranid</th>\n",
       "      <th>subsidiary_name</th>\n",
       "      <th>end_market</th>\n",
       "      <th>sales_rep</th>\n",
       "    </tr>\n",
       "  </thead>\n",
       "  <tbody>\n",
       "    <tr>\n",
       "      <th>40098</th>\n",
       "      <td>Maverick Natural Resources-Unbridled Resources...</td>\n",
       "      <td>2023-03-06</td>\n",
       "      <td>237412</td>\n",
       "      <td>Ben Walker</td>\n",
       "      <td>594510.72</td>\n",
       "      <td>0.310624</td>\n",
       "      <td>Tulsa</td>\n",
       "      <td>2006919.37</td>\n",
       "      <td>329058</td>\n",
       "      <td>Valve Sales Inc.</td>\n",
       "      <td>Upstream O&amp;G</td>\n",
       "      <td>Tucker Lang</td>\n",
       "    </tr>\n",
       "    <tr>\n",
       "      <th>36816</th>\n",
       "      <td>Kiewit Power Constructors</td>\n",
       "      <td>2023-02-06</td>\n",
       "      <td>283445</td>\n",
       "      <td>Diana Seljan</td>\n",
       "      <td>0.00</td>\n",
       "      <td>0.000000</td>\n",
       "      <td>Highland</td>\n",
       "      <td>1758431.14</td>\n",
       "      <td>325772</td>\n",
       "      <td>Allied Instrumentation</td>\n",
       "      <td>Professional Services</td>\n",
       "      <td>Multiple</td>\n",
       "    </tr>\n",
       "    <tr>\n",
       "      <th>129529</th>\n",
       "      <td>Worley Canada Services Ltd.</td>\n",
       "      <td>2024-12-06</td>\n",
       "      <td>439412</td>\n",
       "      <td>April Norris</td>\n",
       "      <td>474456.72</td>\n",
       "      <td>0.282415</td>\n",
       "      <td>Fenton</td>\n",
       "      <td>1680000.00</td>\n",
       "      <td>418833</td>\n",
       "      <td>Allied Instrumentation</td>\n",
       "      <td>Midstream Liquid</td>\n",
       "      <td>Multiple</td>\n",
       "    </tr>\n",
       "    <tr>\n",
       "      <th>107084</th>\n",
       "      <td>Double W Oilfield Service</td>\n",
       "      <td>2024-07-15</td>\n",
       "      <td>405039</td>\n",
       "      <td>Amanda R Smith</td>\n",
       "      <td>0.00</td>\n",
       "      <td>0.000000</td>\n",
       "      <td>Monroe</td>\n",
       "      <td>1374172.76</td>\n",
       "      <td>396323</td>\n",
       "      <td>Allied Instrumentation</td>\n",
       "      <td>Midstream Gas</td>\n",
       "      <td>Not Assigned</td>\n",
       "    </tr>\n",
       "    <tr>\n",
       "      <th>67790</th>\n",
       "      <td>Swift Fuels, LLC - Morris, IL</td>\n",
       "      <td>2023-10-11</td>\n",
       "      <td>321096</td>\n",
       "      <td>Amy Clark</td>\n",
       "      <td>66137.53</td>\n",
       "      <td>0.080156</td>\n",
       "      <td>Detroit</td>\n",
       "      <td>892988.80</td>\n",
       "      <td>356854</td>\n",
       "      <td>Allied Valve</td>\n",
       "      <td>Downstream O&amp;G</td>\n",
       "      <td>Todd L White</td>\n",
       "    </tr>\n",
       "    <tr>\n",
       "      <th>...</th>\n",
       "      <td>...</td>\n",
       "      <td>...</td>\n",
       "      <td>...</td>\n",
       "      <td>...</td>\n",
       "      <td>...</td>\n",
       "      <td>...</td>\n",
       "      <td>...</td>\n",
       "      <td>...</td>\n",
       "      <td>...</td>\n",
       "      <td>...</td>\n",
       "      <td>...</td>\n",
       "      <td>...</td>\n",
       "    </tr>\n",
       "    <tr>\n",
       "      <th>109580</th>\n",
       "      <td>Atlas/Diversified - New Philadelphia, OH</td>\n",
       "      <td>2024-07-31</td>\n",
       "      <td>339499</td>\n",
       "      <td>Lorna Pepper</td>\n",
       "      <td>-75.00</td>\n",
       "      <td>0.000000</td>\n",
       "      <td>Kent</td>\n",
       "      <td>0.00</td>\n",
       "      <td>398819</td>\n",
       "      <td>Valve Sales Inc.</td>\n",
       "      <td>Upstream O&amp;G</td>\n",
       "      <td>Wray Kilgore</td>\n",
       "    </tr>\n",
       "    <tr>\n",
       "      <th>44295</th>\n",
       "      <td>SABIC - Ottawa, IL</td>\n",
       "      <td>2023-04-12</td>\n",
       "      <td>8979</td>\n",
       "      <td>Matt Buettner</td>\n",
       "      <td>0.00</td>\n",
       "      <td>0.000000</td>\n",
       "      <td>Riverdale Shop</td>\n",
       "      <td>0.00</td>\n",
       "      <td>333276</td>\n",
       "      <td>Allied Valve</td>\n",
       "      <td>Chemical/Petrochem</td>\n",
       "      <td>Todd L White</td>\n",
       "    </tr>\n",
       "    <tr>\n",
       "      <th>76258</th>\n",
       "      <td>Exxon Mobil Oil Corp - Joliet</td>\n",
       "      <td>2023-12-14</td>\n",
       "      <td>8181</td>\n",
       "      <td>Awilda Rivera</td>\n",
       "      <td>0.00</td>\n",
       "      <td>0.000000</td>\n",
       "      <td>Riverdale Shop</td>\n",
       "      <td>0.00</td>\n",
       "      <td>365357</td>\n",
       "      <td>Allied Instrumentation</td>\n",
       "      <td>Downstream O&amp;G</td>\n",
       "      <td>Multiple</td>\n",
       "    </tr>\n",
       "    <tr>\n",
       "      <th>76290</th>\n",
       "      <td>Ecktech Engineering Co., Ltd.</td>\n",
       "      <td>2023-12-14</td>\n",
       "      <td>177170</td>\n",
       "      <td>ASIS  Integration</td>\n",
       "      <td>0.00</td>\n",
       "      <td>0.000000</td>\n",
       "      <td>St. Louis</td>\n",
       "      <td>0.00</td>\n",
       "      <td>365390</td>\n",
       "      <td>Automation Service</td>\n",
       "      <td>Manufacturing</td>\n",
       "      <td>Not Assigned</td>\n",
       "    </tr>\n",
       "    <tr>\n",
       "      <th>337</th>\n",
       "      <td>Precision Pump and Valve - Louisville</td>\n",
       "      <td>2022-01-07</td>\n",
       "      <td>56470</td>\n",
       "      <td>ASIS  Integration</td>\n",
       "      <td>0.00</td>\n",
       "      <td>0.000000</td>\n",
       "      <td>St. Louis</td>\n",
       "      <td>0.00</td>\n",
       "      <td>288956</td>\n",
       "      <td>Automation Service</td>\n",
       "      <td>Reseller/Distributer</td>\n",
       "      <td>Not Assigned</td>\n",
       "    </tr>\n",
       "  </tbody>\n",
       "</table>\n",
       "<p>132355 rows × 12 columns</p>\n",
       "</div>"
      ]
     },
     "execution_count": 15,
     "metadata": {},
     "output_type": "execute_result"
    }
   ],
   "execution_count": 15
  },
  {
   "metadata": {
    "ExecuteTime": {
     "end_time": "2025-01-21T16:49:22.499526Z",
     "start_time": "2025-01-21T16:49:20.988641Z"
    }
   },
   "cell_type": "code",
   "source": [
    "# save locally and in the data lake\n",
    "augmented_transactions.to_csv(f\"data/{trans_type}_totals.csv\", index=False)\n",
    "adl.save_df_as_parquet_in_data_lake(augmented_transactions, file_system_client, \"enhanced/netsuite\", f\"{trans_type}_totals.parquet\")"
   ],
   "id": "7d4f5b7241cca5ea",
   "outputs": [],
   "execution_count": 21
  },
  {
   "metadata": {
    "ExecuteTime": {
     "end_time": "2025-01-21T16:46:30.275042Z",
     "start_time": "2025-01-21T16:46:29.275508Z"
    }
   },
   "cell_type": "code",
   "source": [
    "import matplotlib.pyplot as plt\n",
    "\n",
    "# Define bins and labels\n",
    "bins = [0, 10000, 25000, 50000, 75000, 100000, float('inf')]\n",
    "labels = ['0-10K', '10-25K', '25-50K', '50-75K', '75-100K', '100K+']\n",
    "\n",
    "# Add bins to the DataFrame\n",
    "augmented_transactions['amount_range'] = pd.cut(augmented_transactions['net_amount'], bins=bins, labels=labels, right=False)\n",
    "\n",
    "# Extract the year from created_date\n",
    "augmented_transactions['year'] = augmented_transactions['created_date'].dt.year\n",
    "\n",
    "# List of years to filter\n",
    "years = [2022, 2023, 2024]\n",
    "\n",
    "# Plot histograms for each year\n",
    "plt.figure(figsize=(15, 10))\n",
    "\n",
    "for i, year in enumerate(years, 1):\n",
    "    plt.subplot(2, 2, i)\n",
    "\n",
    "    # Filter data for the current year\n",
    "    year_data = augmented_transactions[augmented_transactions['year'] == year]\n",
    "\n",
    "    # Plot histogram\n",
    "    year_data['amount_range'].value_counts(sort=False).plot(kind='bar', color='skyblue', edgecolor='black')\n",
    "\n",
    "    # Customize the plot\n",
    "    plt.title(f'Net Amount Distribution in {year}', fontsize=14)\n",
    "    plt.xlabel('Net Amount Ranges', fontsize=12)\n",
    "    plt.ylabel('Frequency', fontsize=12)\n",
    "    plt.xticks(rotation=45)\n",
    "    plt.grid(axis='y', linestyle='--', alpha=0.7)\n",
    "\n",
    "# Adjust layout and show the plot\n",
    "plt.tight_layout()\n",
    "plt.show()"
   ],
   "id": "f9105f3c7514a862",
   "outputs": [
    {
     "data": {
      "text/plain": [
       "<Figure size 1500x1000 with 3 Axes>"
      ],
      "image/png": "[encoded data removed]"
     },
     "metadata": {},
     "output_type": "display_data"
    }
   ],
   "execution_count": 17
  },
  {
   "metadata": {
    "ExecuteTime": {
     "end_time": "2025-01-21T16:46:36.877584Z",
     "start_time": "2025-01-21T16:46:36.863442Z"
    }
   },
   "cell_type": "code",
   "source": [
    "# Group by year and amount_range, count the frequency\n",
    "distribution_table = augmented_transactions.groupby(['year', 'amount_range']).size().unstack(fill_value=0).reset_index()\n",
    "\n",
    "# Rename columns for clarity\n",
    "distribution_table.columns.name = None\n",
    "distribution_table.columns = ['Year'] + list(distribution_table.columns[1:])  # Renaming only Net Amount Ranges\n",
    "\n",
    "# Display the table\n",
    "distribution_table"
   ],
   "id": "b8c091ee908f93b8",
   "outputs": [
    {
     "name": "stderr",
     "output_type": "stream",
     "text": [
      "/var/folders/qb/xbnd03px51d29s05_x737l140000gn/T/ipykernel_59529/859838233.py:2: FutureWarning: The default of observed=False is deprecated and will be changed to True in a future version of pandas. Pass observed=False to retain current behavior or observed=True to adopt the future default and silence this warning.\n",
      "  distribution_table = augmented_transactions.groupby(['year', 'amount_range']).size().unstack(fill_value=0).reset_index()\n"
     ]
    },
    {
     "data": {
      "text/plain": [
       "   Year  0-10K  10-25K  25-50K  50-75K  75-100K  100K+\n",
       "0  2022  28665    2854     768     190      121    111\n",
       "1  2023  39575    3786     980     257      108    138\n",
       "2  2024  47887    5072    1209     308      133    193"
      ],
      "text/html": [
       "<div>\n",
       "<style scoped>\n",
       "    .dataframe tbody tr th:only-of-type {\n",
       "        vertical-align: middle;\n",
       "    }\n",
       "\n",
       "    .dataframe tbody tr th {\n",
       "        vertical-align: top;\n",
       "    }\n",
       "\n",
       "    .dataframe thead th {\n",
       "        text-align: right;\n",
       "    }\n",
       "</style>\n",
       "<table border=\"1\" class=\"dataframe\">\n",
       "  <thead>\n",
       "    <tr style=\"text-align: right;\">\n",
       "      <th></th>\n",
       "      <th>Year</th>\n",
       "      <th>0-10K</th>\n",
       "      <th>10-25K</th>\n",
       "      <th>25-50K</th>\n",
       "      <th>50-75K</th>\n",
       "      <th>75-100K</th>\n",
       "      <th>100K+</th>\n",
       "    </tr>\n",
       "  </thead>\n",
       "  <tbody>\n",
       "    <tr>\n",
       "      <th>0</th>\n",
       "      <td>2022</td>\n",
       "      <td>28665</td>\n",
       "      <td>2854</td>\n",
       "      <td>768</td>\n",
       "      <td>190</td>\n",
       "      <td>121</td>\n",
       "      <td>111</td>\n",
       "    </tr>\n",
       "    <tr>\n",
       "      <th>1</th>\n",
       "      <td>2023</td>\n",
       "      <td>39575</td>\n",
       "      <td>3786</td>\n",
       "      <td>980</td>\n",
       "      <td>257</td>\n",
       "      <td>108</td>\n",
       "      <td>138</td>\n",
       "    </tr>\n",
       "    <tr>\n",
       "      <th>2</th>\n",
       "      <td>2024</td>\n",
       "      <td>47887</td>\n",
       "      <td>5072</td>\n",
       "      <td>1209</td>\n",
       "      <td>308</td>\n",
       "      <td>133</td>\n",
       "      <td>193</td>\n",
       "    </tr>\n",
       "  </tbody>\n",
       "</table>\n",
       "</div>"
      ]
     },
     "execution_count": 18,
     "metadata": {},
     "output_type": "execute_result"
    }
   ],
   "execution_count": 18
  },
  {
   "metadata": {},
   "cell_type": "code",
   "outputs": [],
   "execution_count": null,
   "source": "",
   "id": "95e7b6f82d709f7b"
  }
 ],
 "metadata": {
  "kernelspec": {
   "display_name": "Python 3",
   "language": "python",
   "name": "python3"
  },
  "language_info": {
   "codemirror_mode": {
    "name": "ipython",
    "version": 2
   },
   "file_extension": ".py",
   "mimetype": "text/x-python",
   "name": "python",
   "nbconvert_exporter": "python",
   "pygments_lexer": "ipython2",
   "version": "2.7.6"
  }
 },
 "nbformat": 4,
 "nbformat_minor": 5
}
