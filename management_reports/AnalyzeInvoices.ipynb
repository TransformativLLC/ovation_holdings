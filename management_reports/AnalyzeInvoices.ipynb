{
 "cells": [
  {
   "cell_type": "code",
   "id": "initial_id",
   "metadata": {
    "collapsed": true,
    "ExecuteTime": {
     "end_time": "2024-12-06T16:48:51.362588Z",
     "start_time": "2024-12-06T16:48:49.362092Z"
    }
   },
   "source": [
    "# Azure Data Lake libraries\n",
    "import azure_data_lake_interface as adl\n",
    "\n",
    "# Data analysis libraries\n",
    "import pandas as pd\n",
    "\n",
    "# Data visualization libraries\n",
    "import matplotlib.pyplot as plt\n",
    "from matplotlib.ticker import FuncFormatter\n",
    "\n",
    "# Helper function libraries\n",
    "from helper_functions import load_config"
   ],
   "outputs": [],
   "execution_count": 1
  },
  {
   "metadata": {
    "ExecuteTime": {
     "end_time": "2024-12-06T16:48:52.864826Z",
     "start_time": "2024-12-06T16:48:52.860261Z"
    }
   },
   "cell_type": "code",
   "source": [
    "# attach to the data lake\n",
    "config = load_config(\"config/datalake_config.json\", flush_cache=True)\n",
    "service_client = adl.get_azure_service_client(config[\"blob_url\"])\n",
    "file_system_client = adl.get_azure_file_system_client(service_client, \"consolidated\")"
   ],
   "id": "280fed998d959481",
   "outputs": [],
   "execution_count": 2
  },
  {
   "metadata": {
    "ExecuteTime": {
     "end_time": "2024-12-06T16:49:02.454202Z",
     "start_time": "2024-12-06T16:48:55.812213Z"
    }
   },
   "cell_type": "code",
   "source": [
    "invoices = adl.get_parquet_file_from_data_lake(file_system_client, \"raw/netsuite\", \"transaction/CustInvc_raw.parquet\")\n",
    "invoice_line_items = adl.get_parquet_file_from_data_lake(file_system_client, \"raw/netsuite\",\"transaction/CustInvcItemLineItems_raw.parquet\")"
   ],
   "id": "61d69fad3abbbede",
   "outputs": [],
   "execution_count": 3
  },
  {
   "metadata": {
    "ExecuteTime": {
     "end_time": "2024-12-06T16:49:04.235815Z",
     "start_time": "2024-12-06T16:49:04.232584Z"
    }
   },
   "cell_type": "code",
   "source": "print(len(invoices), len(invoice_line_items))",
   "id": "ab34921c7cbc7c82",
   "outputs": [
    {
     "name": "stdout",
     "output_type": "stream",
     "text": [
      "158412 561391\n"
     ]
    }
   ],
   "execution_count": 4
  },
  {
   "metadata": {
    "ExecuteTime": {
     "end_time": "2024-12-06T16:49:15.017924Z",
     "start_time": "2024-12-06T16:49:14.309365Z"
    }
   },
   "cell_type": "code",
   "source": [
    "# change created_date to datetime and coerce all dates to datetime\n",
    "invoices[\"created_date\"] = pd.to_datetime(invoices[\"created_date\"], errors=\"coerce\")\n",
    "\n",
    "# change net_amount to numeric and coerce all values to numeric\n",
    "invoices[\"net_amount\"] = pd.to_numeric(invoices[\"net_amount\"], errors=\"coerce\")\n",
    "\n",
    "# convert est_gross_profit, quantity, and unit_price to numeric and coerce all values to numeric\n",
    "invoice_line_items[\"est_gross_profit\"] = pd.to_numeric(invoice_line_items[\"est_gross_profit\"], errors=\"coerce\")\n",
    "invoice_line_items[\"quantity\"] = pd.to_numeric(invoice_line_items[\"quantity\"], errors=\"coerce\")\n",
    "invoice_line_items[\"unit_price\"] = pd.to_numeric(invoice_line_items[\"unit_price\"], errors=\"coerce\")"
   ],
   "id": "e01a4d260530db76",
   "outputs": [],
   "execution_count": 5
  },
  {
   "metadata": {
    "ExecuteTime": {
     "end_time": "2024-12-06T16:49:20.014035Z",
     "start_time": "2024-12-06T16:49:20.008008Z"
    }
   },
   "cell_type": "code",
   "source": [
    "# count purchase orders with missing or NaT created_date\n",
    "len(invoices[invoices[\"created_date\"].isna()])"
   ],
   "id": "879d6d0d67fe0a75",
   "outputs": [
    {
     "data": {
      "text/plain": [
       "0"
      ]
     },
     "execution_count": 6,
     "metadata": {},
     "output_type": "execute_result"
    }
   ],
   "execution_count": 6
  },
  {
   "metadata": {
    "ExecuteTime": {
     "end_time": "2024-12-06T16:49:30.624956Z",
     "start_time": "2024-12-06T16:49:30.104377Z"
    }
   },
   "cell_type": "code",
   "source": [
    "# add created_date to purchase_order_line_items\n",
    "invoice_line_items = invoice_line_items.merge(invoices[[\"tranid\", \"created_date\"]], on=\"tranid\", how=\"left\")"
   ],
   "id": "86962115337351f6",
   "outputs": [],
   "execution_count": 7
  },
  {
   "metadata": {
    "ExecuteTime": {
     "end_time": "2024-12-06T16:49:38.907131Z",
     "start_time": "2024-12-06T16:49:38.541744Z"
    }
   },
   "cell_type": "code",
   "source": [
    "# remove all rows with created_date before Jan 1, 2022\n",
    "invoices = invoices[invoices[\"created_date\"] >= \"2022-01-01\"]\n",
    "invoice_line_items = invoice_line_items[invoice_line_items[\"created_date\"] >= \"2022-01-01\"]\n",
    "\n",
    "# capture line df with NaT created_date\n",
    "line_items_with_missing_dates = invoice_line_items[invoice_line_items[\"created_date\"].isna()]\n",
    "\n",
    "# drop line df with NaT created_date -- assume no invoice to match line df\n",
    "invoice_line_items = invoice_line_items[~invoice_line_items[\"created_date\"].isna()]"
   ],
   "id": "5358776fcfe4b7c1",
   "outputs": [],
   "execution_count": 8
  },
  {
   "metadata": {
    "ExecuteTime": {
     "end_time": "2024-12-06T16:49:40.686894Z",
     "start_time": "2024-12-06T16:49:40.683269Z"
    }
   },
   "cell_type": "code",
   "source": "print(len(invoices), len(invoice_line_items))",
   "id": "3ff69855c0d30207",
   "outputs": [
    {
     "name": "stdout",
     "output_type": "stream",
     "text": [
      "154960 544610\n"
     ]
    }
   ],
   "execution_count": 9
  },
  {
   "metadata": {
    "ExecuteTime": {
     "end_time": "2024-12-06T16:50:07.589411Z",
     "start_time": "2024-12-06T16:50:07.578429Z"
    }
   },
   "cell_type": "code",
   "source": [
    "# check to make sure there is no matching invoice for line df with missing created_date\n",
    "invoice_tranids = line_items_with_missing_dates[\"tranid\"].unique()\n",
    "invoices[invoices[\"tranid\"].isin(invoice_tranids)]"
   ],
   "id": "3145c9f179885261",
   "outputs": [
    {
     "data": {
      "text/plain": [
       "Empty DataFrame\n",
       "Columns: [links, actual_ship_date, ai_order_type, amount_paid, amount_unpaid, billing_address, close_date, commission_only, company_email, company_name, created_by, created_date, custom_form, customer_id, date_started, days_open, deliver_by_date, due_date, employee, end_date, entered_by, entity_status, estimated_gross_profit, estimated_gross_profit_percent, expected_close_date, finance_charge, freshdesk_ticket_number, id, inbound_source, job_type, last_modified_by, lastmodifieddate, lead_source, location, mainline, memo, net_amount, nexus, posting_period, prepared_for_contact, prepared_for_contact_email, promised_date, reversal, ship_date, shipping_address, start_date, status, total_cost_estimate, tran_date, tranid, transaction_number, type, voided]\n",
       "Index: []\n",
       "\n",
       "[0 rows x 53 columns]"
      ],
      "text/html": [
       "<div>\n",
       "<style scoped>\n",
       "    .dataframe tbody tr th:only-of-type {\n",
       "        vertical-align: middle;\n",
       "    }\n",
       "\n",
       "    .dataframe tbody tr th {\n",
       "        vertical-align: top;\n",
       "    }\n",
       "\n",
       "    .dataframe thead th {\n",
       "        text-align: right;\n",
       "    }\n",
       "</style>\n",
       "<table border=\"1\" class=\"dataframe\">\n",
       "  <thead>\n",
       "    <tr style=\"text-align: right;\">\n",
       "      <th></th>\n",
       "      <th>links</th>\n",
       "      <th>actual_ship_date</th>\n",
       "      <th>ai_order_type</th>\n",
       "      <th>amount_paid</th>\n",
       "      <th>amount_unpaid</th>\n",
       "      <th>billing_address</th>\n",
       "      <th>close_date</th>\n",
       "      <th>commission_only</th>\n",
       "      <th>company_email</th>\n",
       "      <th>company_name</th>\n",
       "      <th>...</th>\n",
       "      <th>ship_date</th>\n",
       "      <th>shipping_address</th>\n",
       "      <th>start_date</th>\n",
       "      <th>status</th>\n",
       "      <th>total_cost_estimate</th>\n",
       "      <th>tran_date</th>\n",
       "      <th>tranid</th>\n",
       "      <th>transaction_number</th>\n",
       "      <th>type</th>\n",
       "      <th>voided</th>\n",
       "    </tr>\n",
       "  </thead>\n",
       "  <tbody>\n",
       "  </tbody>\n",
       "</table>\n",
       "<p>0 rows × 53 columns</p>\n",
       "</div>"
      ]
     },
     "execution_count": 10,
     "metadata": {},
     "output_type": "execute_result"
    }
   ],
   "execution_count": 10
  },
  {
   "metadata": {
    "ExecuteTime": {
     "end_time": "2024-12-06T16:53:40.378645Z",
     "start_time": "2024-12-06T16:53:40.372939Z"
    }
   },
   "cell_type": "code",
   "source": "invoices[\"net_amount\"].sum()",
   "id": "1632c4f40698f20f",
   "outputs": [
    {
     "data": {
      "text/plain": [
       "np.float64(613003785.7199999)"
      ]
     },
     "execution_count": 19,
     "metadata": {},
     "output_type": "execute_result"
    }
   ],
   "execution_count": 19
  },
  {
   "metadata": {
    "ExecuteTime": {
     "end_time": "2024-12-06T16:50:09.667821Z",
     "start_time": "2024-12-06T16:50:09.629792Z"
    }
   },
   "cell_type": "code",
   "source": [
    "# match line df with purchase orders\n",
    "cur_tranid = \"328700\"\n",
    "invoice_line_items[invoice_line_items[\"tranid\"] == cur_tranid]"
   ],
   "id": "5f3efd5b0870a0b0",
   "outputs": [
    {
     "data": {
      "text/plain": [
       "      links assembly_component cost_estimate_type created_from  \\\n",
       "15343    []                  F        ITEMDEFINED         null   \n",
       "\n",
       "      custom_manufacturer customer_id description display_name  \\\n",
       "15343                null      201489        null         null   \n",
       "\n",
       "      est_extended_cost  est_gross_profit  ... quantity     sku special_order  \\\n",
       "15343                 0          13494.81  ...     -1.0  976230             F   \n",
       "\n",
       "      tax_line  tranid transaction_table_id unit_price valve_spec_size  \\\n",
       "15343        F  328700              3715281        0.0            null   \n",
       "\n",
       "      vendor_commission_percent created_date  \n",
       "15343                         0   2022-01-03  \n",
       "\n",
       "[1 rows x 35 columns]"
      ],
      "text/html": [
       "<div>\n",
       "<style scoped>\n",
       "    .dataframe tbody tr th:only-of-type {\n",
       "        vertical-align: middle;\n",
       "    }\n",
       "\n",
       "    .dataframe tbody tr th {\n",
       "        vertical-align: top;\n",
       "    }\n",
       "\n",
       "    .dataframe thead th {\n",
       "        text-align: right;\n",
       "    }\n",
       "</style>\n",
       "<table border=\"1\" class=\"dataframe\">\n",
       "  <thead>\n",
       "    <tr style=\"text-align: right;\">\n",
       "      <th></th>\n",
       "      <th>links</th>\n",
       "      <th>assembly_component</th>\n",
       "      <th>cost_estimate_type</th>\n",
       "      <th>created_from</th>\n",
       "      <th>custom_manufacturer</th>\n",
       "      <th>customer_id</th>\n",
       "      <th>description</th>\n",
       "      <th>display_name</th>\n",
       "      <th>est_extended_cost</th>\n",
       "      <th>est_gross_profit</th>\n",
       "      <th>...</th>\n",
       "      <th>quantity</th>\n",
       "      <th>sku</th>\n",
       "      <th>special_order</th>\n",
       "      <th>tax_line</th>\n",
       "      <th>tranid</th>\n",
       "      <th>transaction_table_id</th>\n",
       "      <th>unit_price</th>\n",
       "      <th>valve_spec_size</th>\n",
       "      <th>vendor_commission_percent</th>\n",
       "      <th>created_date</th>\n",
       "    </tr>\n",
       "  </thead>\n",
       "  <tbody>\n",
       "    <tr>\n",
       "      <th>15343</th>\n",
       "      <td>[]</td>\n",
       "      <td>F</td>\n",
       "      <td>ITEMDEFINED</td>\n",
       "      <td>null</td>\n",
       "      <td>null</td>\n",
       "      <td>201489</td>\n",
       "      <td>null</td>\n",
       "      <td>null</td>\n",
       "      <td>0</td>\n",
       "      <td>13494.81</td>\n",
       "      <td>...</td>\n",
       "      <td>-1.0</td>\n",
       "      <td>976230</td>\n",
       "      <td>F</td>\n",
       "      <td>F</td>\n",
       "      <td>328700</td>\n",
       "      <td>3715281</td>\n",
       "      <td>0.0</td>\n",
       "      <td>null</td>\n",
       "      <td>0</td>\n",
       "      <td>2022-01-03</td>\n",
       "    </tr>\n",
       "  </tbody>\n",
       "</table>\n",
       "<p>1 rows × 35 columns</p>\n",
       "</div>"
      ]
     },
     "execution_count": 12,
     "metadata": {},
     "output_type": "execute_result"
    }
   ],
   "execution_count": 12
  },
  {
   "metadata": {
    "ExecuteTime": {
     "end_time": "2024-12-06T16:50:10.500887Z",
     "start_time": "2024-12-06T16:50:10.470644Z"
    }
   },
   "cell_type": "code",
   "source": "invoice_line_items[\"item_type\"].value_counts()",
   "id": "7d7e375ca26245ca",
   "outputs": [
    {
     "data": {
      "text/plain": [
       "item_type\n",
       "Inventory Item                235577\n",
       "Description                   104809\n",
       "Service                        88344\n",
       "Non-inventory Item             50727\n",
       "Other Charge                   49621\n",
       "Item Group                     12047\n",
       "Assembly/Bill of Materials      3343\n",
       "Payment                          119\n",
       "Kit/Package                       11\n",
       "Markup                             7\n",
       "Discount                           5\n",
       "Name: count, dtype: int64"
      ]
     },
     "execution_count": 13,
     "metadata": {},
     "output_type": "execute_result"
    }
   ],
   "execution_count": 13
  },
  {
   "metadata": {
    "ExecuteTime": {
     "end_time": "2024-12-06T16:50:13.097672Z",
     "start_time": "2024-12-06T16:50:12.955310Z"
    }
   },
   "cell_type": "code",
   "source": [
    "# drop item types that are not related to products/services\n",
    "drop_list = [\"Description\", \"Markup\", \"Item Group\", \"Other Charge\", \"Discount\", \"Payment\"]\n",
    "invoice_line_items = invoice_line_items[~invoice_line_items[\"item_type\"].isin(drop_list)]"
   ],
   "id": "b149609b06a548c3",
   "outputs": [],
   "execution_count": 14
  },
  {
   "metadata": {
    "ExecuteTime": {
     "end_time": "2024-12-06T16:50:15.104304Z",
     "start_time": "2024-12-06T16:50:15.087192Z"
    }
   },
   "cell_type": "code",
   "source": "invoice_line_items['item_type'].value_counts()",
   "id": "c220a16848bf7ec2",
   "outputs": [
    {
     "data": {
      "text/plain": [
       "item_type\n",
       "Inventory Item                235577\n",
       "Service                        88344\n",
       "Non-inventory Item             50727\n",
       "Assembly/Bill of Materials      3343\n",
       "Kit/Package                       11\n",
       "Name: count, dtype: int64"
      ]
     },
     "execution_count": 15,
     "metadata": {},
     "output_type": "execute_result"
    }
   ],
   "execution_count": 15
  },
  {
   "metadata": {
    "ExecuteTime": {
     "end_time": "2024-12-06T16:53:02.066256Z",
     "start_time": "2024-12-06T16:53:02.058700Z"
    }
   },
   "cell_type": "code",
   "source": [
    "invoice_line_items[\"total_amount\"] = -1 * invoice_line_items[\"quantity\"] * invoice_line_items[\"unit_price\"]\n",
    "invoice_line_items[\"total_amount\"].sum()"
   ],
   "id": "54ece6f91f7081a6",
   "outputs": [
    {
     "data": {
      "text/plain": [
       "np.float64(575514846.0806015)"
      ]
     },
     "execution_count": 18,
     "metadata": {},
     "output_type": "execute_result"
    }
   ],
   "execution_count": 18
  },
  {
   "metadata": {
    "ExecuteTime": {
     "end_time": "2024-12-06T16:57:26.452716Z",
     "start_time": "2024-12-06T16:57:26.430468Z"
    }
   },
   "cell_type": "code",
   "source": [
    "# find invoice line df where created_from is null\n",
    "line_items_with_no_sales_order = invoice_line_items[invoice_line_items[\"created_from\"] == \"null\"]\n",
    "line_items_with_no_sales_order[\"total_amount\"].sum()"
   ],
   "id": "7fc90d300b8625ea",
   "outputs": [
    {
     "data": {
      "text/plain": [
       "np.float64(17667687.982)"
      ]
     },
     "execution_count": 21,
     "metadata": {},
     "output_type": "execute_result"
    }
   ],
   "execution_count": 21
  },
  {
   "metadata": {
    "ExecuteTime": {
     "end_time": "2024-12-02T16:57:21.857996Z",
     "start_time": "2024-12-02T16:57:21.666124Z"
    }
   },
   "cell_type": "code",
   "source": [
    "# calculate total sales for each sku using est_gross_profit, capture sku and item_name\n",
    "total_sales_by_sku = invoice_line_items.groupby([\"sku\", \"item_name\", \"display_name\"])[\"est_gross_profit\"].sum().reset_index()"
   ],
   "id": "1719273c4404feec",
   "outputs": [],
   "execution_count": 18
  },
  {
   "metadata": {
    "ExecuteTime": {
     "end_time": "2024-12-02T16:57:22.590979Z",
     "start_time": "2024-12-02T16:57:22.582825Z"
    }
   },
   "cell_type": "code",
   "source": "total_sales_by_sku",
   "id": "db8ce358849e686f",
   "outputs": [
    {
     "data": {
      "text/plain": [
       "           sku                       item_name  \\\n",
       "0          100   912BDCM01  .5 x .75 KUNKLE SV   \n",
       "1      1000002                         1000002   \n",
       "2      1000004                         1000004   \n",
       "3        10002                         4946001   \n",
       "4        10003                     14393014299   \n",
       "...        ...                             ...   \n",
       "64972   999191  Rosemount® 3051S1TG3A2E11A1AB4   \n",
       "64973   999393                   SS-8CP4-KZ-10   \n",
       "64974     9995                          123839   \n",
       "64975     9996                     14355001365   \n",
       "64976     9999    4611301 -BH NOZZLE 1905J XDA   \n",
       "\n",
       "                                            display_name  est_gross_profit  \n",
       "0                                                   null          29127.04  \n",
       "1      71046508-010 8\" UniCup Pig in 65 Durometer Max...           2075.37  \n",
       "2      71046506-010 6\" UniCup Pig in 65 Durometer Max...           7772.27  \n",
       "3                                  MODULAR PISTON BOTTOM             17.01  \n",
       "4                                                   null              0.00  \n",
       "...                                                  ...               ...  \n",
       "64972                                               null           2195.56  \n",
       "64973                                           Swagelok           3304.96  \n",
       "64974                                        Teflon Seat             46.00  \n",
       "64975                                               null            290.00  \n",
       "64976                                               null           1689.38  \n",
       "\n",
       "[64977 rows x 4 columns]"
      ],
      "text/html": [
       "<div>\n",
       "<style scoped>\n",
       "    .dataframe tbody tr th:only-of-type {\n",
       "        vertical-align: middle;\n",
       "    }\n",
       "\n",
       "    .dataframe tbody tr th {\n",
       "        vertical-align: top;\n",
       "    }\n",
       "\n",
       "    .dataframe thead th {\n",
       "        text-align: right;\n",
       "    }\n",
       "</style>\n",
       "<table border=\"1\" class=\"dataframe\">\n",
       "  <thead>\n",
       "    <tr style=\"text-align: right;\">\n",
       "      <th></th>\n",
       "      <th>sku</th>\n",
       "      <th>item_name</th>\n",
       "      <th>display_name</th>\n",
       "      <th>est_gross_profit</th>\n",
       "    </tr>\n",
       "  </thead>\n",
       "  <tbody>\n",
       "    <tr>\n",
       "      <th>0</th>\n",
       "      <td>100</td>\n",
       "      <td>912BDCM01  .5 x .75 KUNKLE SV</td>\n",
       "      <td>null</td>\n",
       "      <td>29127.04</td>\n",
       "    </tr>\n",
       "    <tr>\n",
       "      <th>1</th>\n",
       "      <td>1000002</td>\n",
       "      <td>1000002</td>\n",
       "      <td>71046508-010 8\" UniCup Pig in 65 Durometer Max...</td>\n",
       "      <td>2075.37</td>\n",
       "    </tr>\n",
       "    <tr>\n",
       "      <th>2</th>\n",
       "      <td>1000004</td>\n",
       "      <td>1000004</td>\n",
       "      <td>71046506-010 6\" UniCup Pig in 65 Durometer Max...</td>\n",
       "      <td>7772.27</td>\n",
       "    </tr>\n",
       "    <tr>\n",
       "      <th>3</th>\n",
       "      <td>10002</td>\n",
       "      <td>4946001</td>\n",
       "      <td>MODULAR PISTON BOTTOM</td>\n",
       "      <td>17.01</td>\n",
       "    </tr>\n",
       "    <tr>\n",
       "      <th>4</th>\n",
       "      <td>10003</td>\n",
       "      <td>14393014299</td>\n",
       "      <td>null</td>\n",
       "      <td>0.00</td>\n",
       "    </tr>\n",
       "    <tr>\n",
       "      <th>...</th>\n",
       "      <td>...</td>\n",
       "      <td>...</td>\n",
       "      <td>...</td>\n",
       "      <td>...</td>\n",
       "    </tr>\n",
       "    <tr>\n",
       "      <th>64972</th>\n",
       "      <td>999191</td>\n",
       "      <td>Rosemount® 3051S1TG3A2E11A1AB4</td>\n",
       "      <td>null</td>\n",
       "      <td>2195.56</td>\n",
       "    </tr>\n",
       "    <tr>\n",
       "      <th>64973</th>\n",
       "      <td>999393</td>\n",
       "      <td>SS-8CP4-KZ-10</td>\n",
       "      <td>Swagelok</td>\n",
       "      <td>3304.96</td>\n",
       "    </tr>\n",
       "    <tr>\n",
       "      <th>64974</th>\n",
       "      <td>9995</td>\n",
       "      <td>123839</td>\n",
       "      <td>Teflon Seat</td>\n",
       "      <td>46.00</td>\n",
       "    </tr>\n",
       "    <tr>\n",
       "      <th>64975</th>\n",
       "      <td>9996</td>\n",
       "      <td>14355001365</td>\n",
       "      <td>null</td>\n",
       "      <td>290.00</td>\n",
       "    </tr>\n",
       "    <tr>\n",
       "      <th>64976</th>\n",
       "      <td>9999</td>\n",
       "      <td>4611301 -BH NOZZLE 1905J XDA</td>\n",
       "      <td>null</td>\n",
       "      <td>1689.38</td>\n",
       "    </tr>\n",
       "  </tbody>\n",
       "</table>\n",
       "<p>64977 rows × 4 columns</p>\n",
       "</div>"
      ]
     },
     "execution_count": 19,
     "metadata": {},
     "output_type": "execute_result"
    }
   ],
   "execution_count": 19
  },
  {
   "metadata": {
    "ExecuteTime": {
     "end_time": "2024-12-02T16:58:41.982953Z",
     "start_time": "2024-12-02T16:58:37.221135Z"
    }
   },
   "cell_type": "code",
   "source": [
    "# save to excel\n",
    "total_sales_by_sku.to_excel(\"data/total_sales_by_sku.xlsx\", index=False)"
   ],
   "id": "8e40b5882e2af346",
   "outputs": [],
   "execution_count": 20
  },
  {
   "metadata": {},
   "cell_type": "code",
   "source": [
    "# calculate monthly sales (using created_date) by sku using est_gross_profit, capture sku and item_name\n",
    "invoiced_sales_by_sku_by_month = invoice_line_items.groupby([invoice_line_items[\"created_date\"].dt.to_period(\"M\"), \"sku\", \"item_name\"])[\"est_gross_profit\"].sum().reset_index()"
   ],
   "id": "7d3888fa0993991b",
   "outputs": [],
   "execution_count": null
  },
  {
   "metadata": {},
   "cell_type": "code",
   "source": "invoiced_sales_by_sku_by_month",
   "id": "3c420c8300955b11",
   "outputs": [],
   "execution_count": null
  },
  {
   "metadata": {},
   "cell_type": "code",
   "source": "",
   "id": "69476ba543bdcb7a",
   "outputs": [],
   "execution_count": null
  }
 ],
 "metadata": {
  "kernelspec": {
   "display_name": "Python 3",
   "language": "python",
   "name": "python3"
  },
  "language_info": {
   "codemirror_mode": {
    "name": "ipython",
    "version": 2
   },
   "file_extension": ".py",
   "mimetype": "text/x-python",
   "name": "python",
   "nbconvert_exporter": "python",
   "pygments_lexer": "ipython2",
   "version": "2.7.6"
  }
 },
 "nbformat": 4,
 "nbformat_minor": 5
}
