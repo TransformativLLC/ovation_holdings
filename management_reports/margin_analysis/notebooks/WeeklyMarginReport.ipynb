{
 "cells": [
  {
   "metadata": {
    "ExecuteTime": {
     "end_time": "2025-05-05T15:57:33.016598Z",
     "start_time": "2025-05-05T15:57:32.908205Z"
    }
   },
   "cell_type": "code",
   "source": [
    "%load_ext autoreload\n",
    "%autoreload 2"
   ],
   "id": "5902d1b2a488e9db",
   "outputs": [],
   "execution_count": 1
  },
  {
   "cell_type": "markdown",
   "id": "c02a21c6ccc57346",
   "metadata": {},
   "source": [
    "### Import Libraries"
   ]
  },
  {
   "cell_type": "code",
   "id": "b4c5e02f7c68fe04",
   "metadata": {
    "ExecuteTime": {
     "end_time": "2025-05-05T15:57:36.317362Z",
     "start_time": "2025-05-05T15:57:34.352637Z"
    }
   },
   "source": [
    "# add path to custom python code for accessing data lake and working with dataframes\n",
    "import sys\n",
    "sys.path.append('/Users/markbills/Library/CloudStorage/OneDrive-Transformativ,LLC/Clients/Ovation Holdings/src')\n",
    "\n",
    "# Azure Data Lake libraries\n",
    "import azure_data_lake_interface as adl\n",
    "\n",
    "# Helper function libraries\n",
    "import helper_functions as hf\n",
    "\n",
    "# Data analysis libraries\n",
    "import numpy as np\n",
    "import matplotlib.pyplot as plt\n",
    "import pandas as pd\n",
    "import weekly_margin_report as wmr\n",
    "\n",
    "# display support\n",
    "from IPython.display import display, Markdown"
   ],
   "outputs": [],
   "execution_count": 2
  },
  {
   "cell_type": "markdown",
   "id": "479bd5275d82aef0",
   "metadata": {},
   "source": [
    "### Load Data"
   ]
  },
  {
   "cell_type": "code",
   "id": "6c0273564e2a2d8d",
   "metadata": {
    "ExecuteTime": {
     "end_time": "2025-05-05T15:57:41.698407Z",
     "start_time": "2025-05-05T15:57:41.671180Z"
    }
   },
   "source": [
    "# attach to the data lake\n",
    "config = hf.load_config(\"config/datalake_config.json\", flush_cache=True)\n",
    "service_client = adl.get_azure_service_client(config[\"blob_url\"])\n",
    "file_system_client = adl.get_azure_file_system_client(service_client, \"consolidated\")"
   ],
   "outputs": [],
   "execution_count": 3
  },
  {
   "metadata": {
    "ExecuteTime": {
     "end_time": "2025-05-05T15:57:49.287551Z",
     "start_time": "2025-05-05T15:57:44.559472Z"
    }
   },
   "cell_type": "code",
   "source": [
    "# get data lake data\n",
    "trans_type = \"CustInvc\"\n",
    "end_date = \"2025-05\"\n",
    "filename = f\"monthly_{trans_type}_margin_analysis_dataset_2022-01_{end_date}.parquet\"\n",
    "combined_monthly_data = adl.get_parquet_file_from_data_lake(file_system_client, \"presentation/margin_analysis\", filename)"
   ],
   "id": "f1ec56b7f9fc8c4f",
   "outputs": [],
   "execution_count": 4
  },
  {
   "metadata": {},
   "cell_type": "markdown",
   "source": "### Examine Data",
   "id": "f12236b848bc960d"
  },
  {
   "metadata": {},
   "cell_type": "code",
   "source": "Markdown(wmr.describe_dataset(combined_monthly_data))",
   "id": "350283442930fb44",
   "outputs": [],
   "execution_count": null
  },
  {
   "metadata": {},
   "cell_type": "code",
   "source": "combined_monthly_data.head()",
   "id": "602ace5a5ae44bbe",
   "outputs": [],
   "execution_count": null
  },
  {
   "metadata": {},
   "cell_type": "markdown",
   "source": "### Explore Data",
   "id": "2b59c408954a0ca1"
  },
  {
   "metadata": {},
   "cell_type": "code",
   "source": [
    "item_type = \"Non-inventory Item\"\n",
    "manufacturer = \"Yokogawa\"\n",
    "combined_monthly_data[\n",
    "    (combined_monthly_data[\"manufacturer\"] == manufacturer) &\n",
    "    (combined_monthly_data[\"item_type\"] == item_type)\n",
    "]"
   ],
   "id": "239bf9ed66d40521",
   "outputs": [],
   "execution_count": null
  },
  {
   "metadata": {},
   "cell_type": "markdown",
   "source": "### Tweak Data",
   "id": "145b1d94e8ecb676"
  },
  {
   "metadata": {
    "ExecuteTime": {
     "end_time": "2025-05-05T04:37:48.545268Z",
     "start_time": "2025-05-05T04:37:48.448092Z"
    }
   },
   "cell_type": "code",
   "source": [
    "# remove inactivated inventory df\n",
    "combined_monthly_data = combined_monthly_data[~combined_monthly_data['item_name'].str.startswith('Inactivated')]\n",
    "\n",
    "# fix misspellings on important OEMs\n",
    "mfg_name_map = {\n",
    "    \"Yokogawa\": [\"Yokogawa\", \"YOKOGAWA\", \"YOKOGAWAS\"]\n",
    "}\n",
    "for correct_name, misspellings in mfg_name_map.items():\n",
    "    combined_monthly_data.loc[combined_monthly_data['manufacturer'].isin(misspellings), 'manufacturer'] = correct_name\n",
    "\n",
    "# fill in nulls with something more helpful\n",
    "combined_monthly_data[\"manufacturer\"] = combined_monthly_data[\"manufacturer\"].replace(\"null\", \"Not Specified\").fillna(\"Not Specified\")"
   ],
   "id": "cd9a22145c83da67",
   "outputs": [],
   "execution_count": 5
  },
  {
   "metadata": {},
   "cell_type": "markdown",
   "source": "### Analyze Data",
   "id": "a81701624a9c802c"
  },
  {
   "metadata": {
    "ExecuteTime": {
     "end_time": "2025-05-05T04:37:52.426601Z",
     "start_time": "2025-05-05T04:37:52.361019Z"
    }
   },
   "cell_type": "code",
   "source": [
    "# filter out rows with margin_pct <= 0 and calculate monthly average margin by manufacturer\n",
    "margin_mask = (\n",
    "    (combined_monthly_data[\"inventory_avg_margin_pct\"] > 0) |\n",
    "    (combined_monthly_data[\"commission_avg_margin_pct\"] > 0)\n",
    ")\n",
    "\n",
    "monthly_manufacturer_margin = combined_monthly_data[margin_mask].reset_index().groupby(\n",
    "    ['month', 'manufacturer']).agg(\n",
    "    inventory_avg_margin_pct=('inventory_avg_margin_pct', 'mean'),\n",
    "    commission_avg_margin_pct=('commission_avg_margin_pct', 'mean'),\n",
    ")\n",
    "monthly_manufacturer_margin = monthly_manufacturer_margin.round(2)"
   ],
   "id": "ffebf50ce4b71178",
   "outputs": [],
   "execution_count": 6
  },
  {
   "metadata": {
    "ExecuteTime": {
     "end_time": "2025-05-05T04:37:53.279106Z",
     "start_time": "2025-05-05T04:37:53.243459Z"
    }
   },
   "cell_type": "code",
   "source": "monthly_manufacturer_margin",
   "id": "56bce482618d3c22",
   "outputs": [
    {
     "data": {
      "text/plain": [
       "                            inventory_avg_margin_pct  \\\n",
       "month   manufacturer                                   \n",
       "2022-01 A T Controls                           40.00   \n",
       "        Anderson Greenwood                     32.50   \n",
       "        Asahi America                          41.76   \n",
       "        Automation Service                     15.02   \n",
       "        Balon                                  19.74   \n",
       "...                                              ...   \n",
       "2025-04 Peaktronics                            52.30   \n",
       "        Reotemp                                36.34   \n",
       "        Sealweld                               47.84   \n",
       "        Sealweld Inc                           40.00   \n",
       "        Shafer                                 23.28   \n",
       "\n",
       "                            commission_avg_margin_pct  \n",
       "month   manufacturer                                   \n",
       "2022-01 A T Controls                              NaN  \n",
       "        Anderson Greenwood                        NaN  \n",
       "        Asahi America                             NaN  \n",
       "        Automation Service                        NaN  \n",
       "        Balon                                     NaN  \n",
       "...                                               ...  \n",
       "2025-04 Peaktronics                               NaN  \n",
       "        Reotemp                                   NaN  \n",
       "        Sealweld                                  NaN  \n",
       "        Sealweld Inc                              NaN  \n",
       "        Shafer                                    NaN  \n",
       "\n",
       "[1698 rows x 2 columns]"
      ],
      "text/html": [
       "<div>\n",
       "<style scoped>\n",
       "    .dataframe tbody tr th:only-of-type {\n",
       "        vertical-align: middle;\n",
       "    }\n",
       "\n",
       "    .dataframe tbody tr th {\n",
       "        vertical-align: top;\n",
       "    }\n",
       "\n",
       "    .dataframe thead th {\n",
       "        text-align: right;\n",
       "    }\n",
       "</style>\n",
       "<table border=\"1\" class=\"dataframe\">\n",
       "  <thead>\n",
       "    <tr style=\"text-align: right;\">\n",
       "      <th></th>\n",
       "      <th></th>\n",
       "      <th>inventory_avg_margin_pct</th>\n",
       "      <th>commission_avg_margin_pct</th>\n",
       "    </tr>\n",
       "    <tr>\n",
       "      <th>month</th>\n",
       "      <th>manufacturer</th>\n",
       "      <th></th>\n",
       "      <th></th>\n",
       "    </tr>\n",
       "  </thead>\n",
       "  <tbody>\n",
       "    <tr>\n",
       "      <th rowspan=\"5\" valign=\"top\">2022-01</th>\n",
       "      <th>A T Controls</th>\n",
       "      <td>40.00</td>\n",
       "      <td>NaN</td>\n",
       "    </tr>\n",
       "    <tr>\n",
       "      <th>Anderson Greenwood</th>\n",
       "      <td>32.50</td>\n",
       "      <td>NaN</td>\n",
       "    </tr>\n",
       "    <tr>\n",
       "      <th>Asahi America</th>\n",
       "      <td>41.76</td>\n",
       "      <td>NaN</td>\n",
       "    </tr>\n",
       "    <tr>\n",
       "      <th>Automation Service</th>\n",
       "      <td>15.02</td>\n",
       "      <td>NaN</td>\n",
       "    </tr>\n",
       "    <tr>\n",
       "      <th>Balon</th>\n",
       "      <td>19.74</td>\n",
       "      <td>NaN</td>\n",
       "    </tr>\n",
       "    <tr>\n",
       "      <th>...</th>\n",
       "      <th>...</th>\n",
       "      <td>...</td>\n",
       "      <td>...</td>\n",
       "    </tr>\n",
       "    <tr>\n",
       "      <th rowspan=\"5\" valign=\"top\">2025-04</th>\n",
       "      <th>Peaktronics</th>\n",
       "      <td>52.30</td>\n",
       "      <td>NaN</td>\n",
       "    </tr>\n",
       "    <tr>\n",
       "      <th>Reotemp</th>\n",
       "      <td>36.34</td>\n",
       "      <td>NaN</td>\n",
       "    </tr>\n",
       "    <tr>\n",
       "      <th>Sealweld</th>\n",
       "      <td>47.84</td>\n",
       "      <td>NaN</td>\n",
       "    </tr>\n",
       "    <tr>\n",
       "      <th>Sealweld Inc</th>\n",
       "      <td>40.00</td>\n",
       "      <td>NaN</td>\n",
       "    </tr>\n",
       "    <tr>\n",
       "      <th>Shafer</th>\n",
       "      <td>23.28</td>\n",
       "      <td>NaN</td>\n",
       "    </tr>\n",
       "  </tbody>\n",
       "</table>\n",
       "<p>1698 rows × 2 columns</p>\n",
       "</div>"
      ]
     },
     "execution_count": 7,
     "metadata": {},
     "output_type": "execute_result"
    }
   ],
   "execution_count": 7
  },
  {
   "metadata": {
    "ExecuteTime": {
     "end_time": "2025-05-05T04:37:57.454659Z",
     "start_time": "2025-05-05T04:37:57.430976Z"
    }
   },
   "cell_type": "code",
   "source": [
    "monthly_manufacturer_inventory_margin_pivot = monthly_manufacturer_margin.reset_index().pivot(\n",
    "    index='manufacturer',\n",
    "    columns='month',\n",
    "    values='inventory_avg_margin_pct'\n",
    ").ffill(axis=1)\n",
    "\n",
    "monthly_manufacturer_commission_margin_pivot = monthly_manufacturer_margin.reset_index().pivot(\n",
    "    index='manufacturer',\n",
    "    columns='month',\n",
    "    values='commission_avg_margin_pct'\n",
    ").ffill(axis=1)"
   ],
   "id": "60a63fd33ac08f0a",
   "outputs": [],
   "execution_count": 8
  },
  {
   "metadata": {
    "ExecuteTime": {
     "end_time": "2025-05-05T04:37:58.961401Z",
     "start_time": "2025-05-05T04:37:58.837617Z"
    }
   },
   "cell_type": "code",
   "source": [
    "cum_inventory_sales_by_item = wmr.calculate_cumulative_sales(\n",
    "    combined_monthly_data,\n",
    "    sales_column='monthly_inventory_sales',\n",
    "    result_column_name='cumulative_inventory_sales'\n",
    ")\n",
    "\n",
    "cum_commission_sales_by_item = wmr.calculate_cumulative_sales(\n",
    "    combined_monthly_data,\n",
    "    sales_column='monthly_commission_sales',\n",
    "    result_column_name='cumulative_commission_sales'\n",
    ")"
   ],
   "id": "7c97c093c0802644",
   "outputs": [],
   "execution_count": 9
  },
  {
   "cell_type": "code",
   "id": "18c0e801b2f67052",
   "metadata": {
    "ExecuteTime": {
     "end_time": "2025-05-05T04:38:01.216991Z",
     "start_time": "2025-05-05T04:38:01.192522Z"
    }
   },
   "source": [
    "n = 200\n",
    "top_inventory_items = cum_inventory_sales_by_item[(cum_inventory_sales_by_item[\"item_type\"] == \"Inventory Item\")][0:n]\n",
    "top_commission_items = cum_commission_sales_by_item[(cum_commission_sales_by_item[\"item_type\"] == \"Non-inventory Item\")][0:n]"
   ],
   "outputs": [],
   "execution_count": 10
  },
  {
   "metadata": {
    "ExecuteTime": {
     "end_time": "2025-05-05T04:38:03.642405Z",
     "start_time": "2025-05-05T04:38:03.476506Z"
    }
   },
   "cell_type": "code",
   "source": [
    "top_inventory_items.to_excel('data_tables/top_inventory_items_by_cumulative_sales_Jan2022_to_Present.xlsx')\n",
    "top_commission_items.to_excel('data_tables/top_commission_items_by_cumulative_sales_Jan2022_to_Present.xlsx')"
   ],
   "id": "e71a77c1d804bbfd",
   "outputs": [],
   "execution_count": 11
  },
  {
   "metadata": {
    "ExecuteTime": {
     "end_time": "2025-05-05T04:38:07.558943Z",
     "start_time": "2025-05-05T04:38:07.539584Z"
    }
   },
   "cell_type": "code",
   "source": [
    "inventory_manufacturers = sorted(top_inventory_items[\"manufacturer\"].unique())\n",
    "commission_manufacturers = sorted(top_commission_items[\"manufacturer\"].unique())"
   ],
   "id": "fa57537122ba4bd8",
   "outputs": [],
   "execution_count": 12
  },
  {
   "metadata": {
    "ExecuteTime": {
     "end_time": "2025-05-05T04:38:08.515565Z",
     "start_time": "2025-05-05T04:38:08.492870Z"
    }
   },
   "cell_type": "code",
   "source": [
    "start_month = \"2024-04\"\n",
    "end_month = \"2025-04\"\n",
    "\n",
    "top_mfr_inventory_margin_data = monthly_manufacturer_inventory_margin_pivot.loc[\n",
    "    inventory_manufacturers, pd.period_range(start=start_month, end=end_month, freq='M')]\n",
    "# top_mfr_commission_margin_data = monthly_manufacturer_inventory_margin_pivot.loc[\n",
    "#     commission_manufacturers, pd.period_range(start=start_month, end=end_month, freq='M')]"
   ],
   "id": "e5ee086db42cddc5",
   "outputs": [],
   "execution_count": 13
  },
  {
   "metadata": {
    "ExecuteTime": {
     "end_time": "2025-05-05T04:49:26.390150Z",
     "start_time": "2025-05-05T04:49:26.355650Z"
    }
   },
   "cell_type": "code",
   "source": [
    "def clear_directory_files(directory_path: str, skip_files: list = None) -> None:\n",
    "    target_dir = Path(directory_path)\n",
    "    skip_files = skip_files or set()  # Default to empty set if None provided\n",
    "\n",
    "    for item in target_dir.iterdir():\n",
    "        # Check if the item is a file and its name is not in the skip set.\n",
    "        if item.is_file() and item.name not in skip_files:\n",
    "            item.unlink()"
   ],
   "id": "25f42472bc9c2fed",
   "outputs": [],
   "execution_count": 34
  },
  {
   "metadata": {
    "ExecuteTime": {
     "end_time": "2025-05-05T04:51:50.117692Z",
     "start_time": "2025-05-05T04:51:48.938613Z"
    }
   },
   "cell_type": "code",
   "source": [
    "# select dataset\n",
    "data_set = \"inventory\"\n",
    "df = top_mfr_inventory_margin_data if data_set == \"inventory\" else top_mfr_commission_margin_data\n",
    "\n",
    "# remove old files\n",
    "target_directory = f\"pdfs/{data_set}\"\n",
    "clear_directory_files(target_directory, [f'top_mfr_{data_set}_margin_data.pdf'])\n",
    "\n",
    "# flatten the multi-index…\n",
    "df_flat = df.reset_index()   # brings both 'month' and 'manufacturer' into columns\n",
    "\n",
    "# 2) Reorder so manufacturer is first\n",
    "cols = ['manufacturer'] + [c for c in df_flat.columns if c != 'manufacturer']\n",
    "df_flat = df_flat[cols]\n",
    "\n",
    "green, red = '#d9ead3','#f4cccc'\n",
    "n_rows, n_cols = df_flat.shape\n",
    "cell_colors = [['white']*n_cols for _ in range(n_rows)]\n",
    "\n",
    "for col in range(2, n_cols):\n",
    "    prev = df_flat.iloc[:, col-1].values\n",
    "    curr = df_flat.iloc[:, col  ].values\n",
    "    for i, (p, c) in enumerate(zip(prev, curr)):\n",
    "        if   c > p: cell_colors[i][col] = green\n",
    "        elif c < p: cell_colors[i][col] = red\n",
    "        # else: leave white\n",
    "\n",
    "# 5) Draw the table\n",
    "fig, ax = plt.subplots(figsize=(16,8), layout='constrained')\n",
    "ax.axis('off')\n",
    "table = ax.table(\n",
    "    cellText   = df_flat.values,\n",
    "    colLabels  = df_flat.columns,\n",
    "    cellColours= cell_colors,\n",
    "    cellLoc    = 'center',\n",
    "    loc        = 'center'\n",
    ")\n",
    "\n",
    "header_columns = [col for (row, col) in table._cells.keys() if row == 0]\n",
    "\n",
    "# bold all column headers:\n",
    "for col in header_columns:\n",
    "    cell = table._cells.get((0, col))\n",
    "    if cell:\n",
    "        cell.get_text().set_fontweight('bold')\n",
    "\n",
    "# If there is similar logic for row-labels in col 0, apply similar checks.\n",
    "row_labels = [row for (row, col) in table._cells.keys() if col == 0]\n",
    "for row in row_labels:\n",
    "    cell = table._cells.get((row, 0))\n",
    "    if cell:\n",
    "        cell.get_text().set_fontweight('bold')\n",
    "\n",
    "# Add title\n",
    "plt.title(f\"Monthly Manufacturer Margin Data for {data_set.title()} Items\", pad=20, size=14, weight='bold')\n",
    "\n",
    "plt.savefig(f'pdfs/{data_set}/top_mfr_{data_set}_margin_data.pdf',\n",
    "            orientation='landscape',\n",
    "            bbox_inches='tight')\n",
    "plt.close()"
   ],
   "id": "dc40106cfa6322e9",
   "outputs": [],
   "execution_count": 37
  },
  {
   "metadata": {},
   "cell_type": "code",
   "source": [
    "manufacturers = inventory_manufacturers if data_set == \"inventory\" else commission_manufacturers\n",
    "margin_col = \"inventory_avg_margin_pct\" if data_set == \"inventory\" else \"commission_avg_margin_pct\"\n",
    "save_path = \"pdfs/inventory\" if data_set == \"inventory\" else \"pdfs/commission\"\n",
    "\n",
    "for mfr in manufacturers:\n",
    "    wmr.plot_manufacturer_margins(monthly_manufacturer_margin, margin_col, mfr, start_date='2024-04', save_as_pdf=True, pdf_path=save_path)"
   ],
   "id": "b3609d9fef90a770",
   "outputs": [],
   "execution_count": null
  },
  {
   "metadata": {},
   "cell_type": "code",
   "outputs": [],
   "execution_count": 31,
   "source": [
    "import os\n",
    "from pathlib import Path\n",
    "from typing import Optional\n",
    "\n",
    "from pydantic import BaseModel, Field\n",
    "from PyPDF2 import PdfMerger\n",
    "\n",
    "\n",
    "class PDFMergeConfig(BaseModel):\n",
    "    \"\"\"Configuration for generating and merging PDFs.\"\"\"\n",
    "    pdf_dir: Path = Field(..., description=\"Directory containing single-page PDFs\")\n",
    "    output_pdf: Path = Field(..., description=\"Path for the combined output PDF\")\n",
    "    cover_title: str = Field(..., description=\"Title text on the cover page\")\n",
    "    cover_subtitle: Optional[str] = Field(None, description=\"Optional subtitle on the cover page\")\n",
    "    data_source: str = Field(\"Invoice\", description=\"Data source of the displayed data\")\n",
    "    data_table_pdf: Path = Field(..., description=\"Path for the data table PDF\")"
   ],
   "id": "843a2ff2fbb4e024"
  },
  {
   "metadata": {},
   "cell_type": "code",
   "outputs": [],
   "execution_count": 32,
   "source": [
    "from pathlib import Path\n",
    "from reportlab.pdfgen import canvas\n",
    "from reportlab.lib.pagesizes import letter\n",
    "from reportlab.lib.utils import simpleSplit\n",
    "\n",
    "def create_cover_page(cfg: PDFMergeConfig) -> Path:\n",
    "    \"\"\"Generate a single-page cover PDF in the specified directory.\"\"\"\n",
    "    cfg.pdf_dir.mkdir(parents=True, exist_ok=True)\n",
    "    cover_path = cfg.pdf_dir / \"cover_page.pdf\"\n",
    "\n",
    "    c = canvas.Canvas(str(cover_path), pagesize=letter)\n",
    "    width, height = letter\n",
    "    margin = 72  # 1\" margin\n",
    "    max_text_width = width - margin * 2\n",
    "\n",
    "    lines = simpleSplit(cfg.cover_title, \"Helvetica-Bold\", 28, max_text_width)\n",
    "    y = height / 2 + 50 + (len(lines) - 1) * 14  # stack lines upward\n",
    "    for line in lines:\n",
    "        c.setFont(\"Helvetica-Bold\", 28)\n",
    "        c.drawCentredString(width / 2, y, line)\n",
    "        y -= 32  # line spacing = fontSize + 4\n",
    "\n",
    "    # Draw subtitle if provided\n",
    "    if cfg.cover_subtitle:\n",
    "        c.setFont(\"Helvetica\", 14)\n",
    "        subtitle_lines = simpleSplit(cfg.cover_subtitle, \"Helvetica\", 14, max_text_width)\n",
    "        y_sub = height / 2\n",
    "        for line in subtitle_lines:\n",
    "            c.drawCentredString(width / 2, y_sub, line)\n",
    "            y_sub -= 18\n",
    "\n",
    "    # add data source\n",
    "    c.setFont(\"Helvetica-Oblique\", 10)\n",
    "    source = (\n",
    "        f\"The charts and tables contained in this report \"\n",
    "        f\"are based on {cfg.data_source} data.\"\n",
    "    )\n",
    "    source_lines = simpleSplit(source, \"Helvetica-Oblique\", 10, max_text_width)\n",
    "    y_src = 50 + (len(source_lines) - 1) * 12\n",
    "    for line in source_lines:\n",
    "        c.drawCentredString(width / 2, y_src, line)\n",
    "        y_src -= 14\n",
    "\n",
    "    c.save()\n",
    "    return cover_path\n"
   ],
   "id": "64776897ca1ce11a"
  },
  {
   "metadata": {},
   "cell_type": "code",
   "outputs": [],
   "execution_count": 33,
   "source": [
    "def merge_pdfs(cfg: PDFMergeConfig, cover_pdf: Path) -> None:\n",
    "    \"\"\"Merge the cover PDF and all other PDFs in the directory into one output PDF.\n",
    "\n",
    "    Args:\n",
    "        cfg: PDFMergeConfig with pdf_dir and output_pdf.\n",
    "        cover_pdf: Path to the cover page PDF created by create_cover_page.\n",
    "    \"\"\"\n",
    "    merger = PdfMerger()\n",
    "\n",
    "    # Append cover first\n",
    "    merger.append(str(cover_pdf))\n",
    "\n",
    "    # remove old copy of combined pdf\n",
    "    try:\n",
    "        os.remove(str(cfg.output_pdf))\n",
    "    except FileNotFoundError:\n",
    "        pass\n",
    "\n",
    "    # Append each PDF in sorted order, skipping the cover itself\n",
    "    for pdf_file in sorted(cfg.pdf_dir.glob(\"*.pdf\")):\n",
    "        if pdf_file == cover_pdf or pdf_file == cfg.data_table_pdf:\n",
    "            continue\n",
    "        merger.append(str(pdf_file))\n",
    "\n",
    "    # Append data table at end\n",
    "    merger.append(str(cfg.data_table_pdf))\n",
    "\n",
    "    merger.write(str(cfg.output_pdf))\n",
    "    merger.close()"
   ],
   "id": "57bdc158df792297"
  },
  {
   "metadata": {
    "ExecuteTime": {
     "end_time": "2025-05-05T04:52:13.671148Z",
     "start_time": "2025-05-05T04:52:13.399872Z"
    }
   },
   "cell_type": "code",
   "source": [
    "import datetime\n",
    "\n",
    "config = PDFMergeConfig(\n",
    "    pdf_dir=Path(f\"pdfs/{data_set}\"),\n",
    "    output_pdf=Path(f\"pdfs/{data_set}/TTM_Manufacturer_Margin_Trends_From_{trans_type}.pdf\"),\n",
    "    cover_title=f\"Monthly Manufacturer Margin Report for {data_set.title()} Items\",\n",
    "    cover_subtitle=f\"Generated {datetime.date.today().strftime('%B %d, %Y')}\",\n",
    "    data_source=\"Invoice\",\n",
    "    data_table_pdf=Path(f\"pdfs/{data_set}/top_mfr_{data_set}_margin_data.pdf\")\n",
    ")\n",
    "\n",
    "cover_pdf = create_cover_page(config)\n",
    "merge_pdfs(config, cover_pdf)\n",
    "print(f\"Combined PDF saved to: {config.output_pdf}\")"
   ],
   "id": "2bb943d1664e3845",
   "outputs": [
    {
     "name": "stdout",
     "output_type": "stream",
     "text": [
      "Combined PDF saved to: pdfs/inventory/TTM_Manufacturer_Margin_Trends_From_CustInvc.pdf\n"
     ]
    }
   ],
   "execution_count": 39
  },
  {
   "metadata": {},
   "cell_type": "code",
   "source": [
    "part = '317854'\n",
    "# Filter data for the specific item\n",
    "item_data = combined_monthly_data.reset_index()\n",
    "item_data = item_data[item_data['item_name'] == part]\n",
    "\n",
    "# Drop any rows with NaN values in avg_margin_pct before calculating trendline\n",
    "item_data = item_data.dropna(subset=['avg_margin_pct'])\n",
    "\n",
    "if item_data.empty:\n",
    "    print(\"Warning: The data is empty. Please ensure that the data source provides valid entries.\")\n",
    "else:\n",
    "    x = np.arange(len(item_data))\n",
    "    y = item_data['avg_margin_pct'].values\n",
    "\n",
    "    # Check if x and y are non-empty\n",
    "    if x.size == 0 or y.size == 0:\n",
    "        print(\"Error: Non-empty data expected for computation but received empty arrays.\")\n",
    "    else:\n",
    "        # Fit a polynomial of degree 1.\n",
    "        z = np.polyfit(x, y, 1)\n",
    "        p = np.poly1d(z)\n",
    "\n",
    "        # Create the line plot\n",
    "        plt.figure(figsize=(15, 10))\n",
    "        plt.plot(item_data['month'].astype(str), item_data['avg_margin_pct'], marker='o', label='Actual')\n",
    "        plt.plot(item_data['month'].astype(str), p(x), \"r--\", label='Trend')\n",
    "        plt.title(f'Monthly Average Margin % for {part}')\n",
    "        plt.xlabel('Month')\n",
    "        plt.ylabel('Average Margin %')\n",
    "        plt.ylim(bottom=0)  # Set y-axis to start at 0\n",
    "        plt.xticks(rotation=45)\n",
    "        plt.grid(True)\n",
    "        plt.legend()\n",
    "        plt.tight_layout()\n",
    "        plt.show()"
   ],
   "id": "47ec961f880d2baf",
   "outputs": [],
   "execution_count": null
  },
  {
   "metadata": {},
   "cell_type": "code",
   "source": "",
   "id": "2d02ee499703332",
   "outputs": [],
   "execution_count": null
  }
 ],
 "metadata": {
  "kernelspec": {
   "display_name": "Python 3 (ipykernel)",
   "language": "python",
   "name": "python3"
  },
  "language_info": {
   "codemirror_mode": {
    "name": "ipython",
    "version": 3
   },
   "file_extension": ".py",
   "mimetype": "text/x-python",
   "name": "python",
   "nbconvert_exporter": "python",
   "pygments_lexer": "ipython3",
   "version": "3.12.0"
  }
 },
 "nbformat": 4,
 "nbformat_minor": 5
}
