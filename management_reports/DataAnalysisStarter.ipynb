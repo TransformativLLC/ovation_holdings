{
 "cells": [
  {
   "cell_type": "code",
   "id": "initial_id",
   "metadata": {
    "collapsed": true,
    "ExecuteTime": {
     "end_time": "2025-04-25T00:48:19.249199Z",
     "start_time": "2025-04-25T00:48:19.247141Z"
    }
   },
   "source": [
    "# Azure Data Lake libraries\n",
    "import azure_data_lake_interface as adl\n",
    "\n",
    "# data analysis\n",
    "import numpy as np\n",
    "import pandas as pd\n",
    "import matplotlib.pyplot as plt\n",
    "\n",
    "# Helper function libraries\n",
    "from helper_functions import load_config"
   ],
   "outputs": [],
   "execution_count": 15
  },
  {
   "metadata": {
    "ExecuteTime": {
     "end_time": "2025-04-25T00:48:21.155042Z",
     "start_time": "2025-04-25T00:48:21.151018Z"
    }
   },
   "cell_type": "code",
   "source": [
    "# attach to the data lake\n",
    "config = load_config(\"config/datalake_config.json\", flush_cache=True)\n",
    "service_client = adl.get_azure_service_client(config[\"blob_url\"])\n",
    "\n",
    "container_name = \"consolidated\"\n",
    "file_system_client = adl.get_azure_file_system_client(service_client, container_name)"
   ],
   "id": "280fed998d959481",
   "outputs": [],
   "execution_count": 16
  },
  {
   "metadata": {
    "ExecuteTime": {
     "end_time": "2025-04-25T00:48:44.381532Z",
     "start_time": "2025-04-25T00:48:22.105280Z"
    }
   },
   "cell_type": "code",
   "source": [
    "# get data\n",
    "source_folder = \"cleaned/netsuite\"\n",
    "filename = \"\"\n",
    "df = adl.get_parquet_file_from_data_lake(file_system_client, source_folder, filename)\n",
    "\n",
    "# or\n",
    "# trans_type = \"CustInvc\"\n",
    "# transactions, line_items = adl.get_transactions_and_line_items(file_system_client, trans_type)\n",
    "# print(len(transactions), len(line_items))"
   ],
   "id": "cdd5e9a60b7a777b",
   "outputs": [],
   "execution_count": 17
  },
  {
   "metadata": {
    "ExecuteTime": {
     "end_time": "2025-04-25T00:49:14.563956Z",
     "start_time": "2025-04-25T00:49:10.604321Z"
    }
   },
   "cell_type": "code",
   "source": [
    "# save in the data lake and preserve multi-index if appropriate\n",
    "destination_file_name = \"x.parquet\"\n",
    "adl.save_df_as_parquet_in_data_lake(df, file_system_client, source_folder, destination_file_name, preserve_index=True)"
   ],
   "id": "6db37e0434afa5c2",
   "outputs": [],
   "execution_count": 25
  }
 ],
 "metadata": {
  "kernelspec": {
   "display_name": "Python 3",
   "language": "python",
   "name": "python3"
  },
  "language_info": {
   "codemirror_mode": {
    "name": "ipython",
    "version": 2
   },
   "file_extension": ".py",
   "mimetype": "text/x-python",
   "name": "python",
   "nbconvert_exporter": "python",
   "pygments_lexer": "ipython2",
   "version": "2.7.6"
  }
 },
 "nbformat": 4,
 "nbformat_minor": 5
}
