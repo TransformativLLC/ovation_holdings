{
 "cells": [
  {
   "cell_type": "code",
   "id": "2835386dbc23b4c",
   "metadata": {
    "ExecuteTime": {
     "end_time": "2025-05-12T21:55:07.797524Z",
     "start_time": "2025-05-12T21:55:07.698585Z"
    }
   },
   "source": [
    "%load_ext autoreload\n",
    "%autoreload 2"
   ],
   "outputs": [],
   "execution_count": 1
  },
  {
   "metadata": {
    "ExecuteTime": {
     "end_time": "2025-05-12T21:59:28.087966Z",
     "start_time": "2025-05-12T21:59:28.069739Z"
    }
   },
   "cell_type": "code",
   "source": [
    "### Import Libraries\n",
    "# Azure Data Lake libraries\n",
    "import common.utils.azure_data_lake_interface as adl\n",
    "\n",
    "# data cleansing libraries\n",
    "from common.utils.data_cleansing import clean_illegal_chars_in_column\n",
    "\n",
    "# config libraries\n",
    "import common.config\n",
    "from common.utils.configuration_management import load_config\n",
    "\n",
    "# Data analysis libraries\n",
    "import pandas as pd"
   ],
   "id": "initial_id",
   "outputs": [],
   "execution_count": 6
  },
  {
   "metadata": {
    "ExecuteTime": {
     "end_time": "2025-05-12T21:59:35.449811Z",
     "start_time": "2025-05-12T21:59:35.427480Z"
    }
   },
   "cell_type": "code",
   "source": [
    "def find_declining_margins(\n",
    "    df: pd.DataFrame,\n",
    "    days: int,\n",
    "    tolerance: float = 0.0,\n",
    "    date_col: str = \"created_date\",\n",
    "    sku_col: str = \"sku\",\n",
    "    gpp_col: str = \"gross_profit_percent\",\n",
    "    trans_id_col: str = \"tranid\",\n",
    ") -> pd.DataFrame:\n",
    "\n",
    "    \"\"\"\n",
    "    Identifies products with declining gross profit margins within a specified time window.\n",
    "\n",
    "    This function takes transaction data, computes the decline in gross profit percent for\n",
    "    each SKU over a specified period, and filters for transactions where this decline\n",
    "    exceeds a provided tolerance level. The final result is returned as a subset DataFrame\n",
    "    meeting these criteria.\n",
    "\n",
    "    Args:\n",
    "        df (pd.DataFrame): Input DataFrame containing transactional data with gross profit\n",
    "            percent and dates of transactions.\n",
    "        days (int): Number of days to consider for the cutoff window. Only transactions\n",
    "            within this number of days from the latest transaction date are considered.\n",
    "        tolerance (float, optional): Minimum difference between the previous gross profit\n",
    "            percentage and the current one to qualify as a \"decline\". Default is 0.0.\n",
    "        date_col (str, optional): Name of the column in the DataFrame representing the\n",
    "            transaction dates. Default is \"created_date\".\n",
    "        sku_col (str, optional): Name of the column in the DataFrame identifying the\n",
    "            stock keeping unit (SKU). Default is \"sku\".\n",
    "        gpp_col (str, optional): Name of the column in the DataFrame representing the\n",
    "            gross profit percentage (GPP). Default is \"gross_profit_percent\".\n",
    "        trans_id_col (str, optional): Name of the column in the DataFrame representing the\n",
    "            transaction identifier. Default is \"tranid\".\n",
    "\n",
    "    Returns:\n",
    "        pd.DataFrame: A subset of the input DataFrame containing rows where the gross profit\n",
    "        percentage for a product has declined by more than the specified tolerance within\n",
    "        the defined time window. The returned DataFrame includes columns for the current\n",
    "        and previous gross profit percentages, transaction dates, and transaction IDs.\n",
    "    \"\"\"\n",
    "\n",
    "    df = df.copy()\n",
    "\n",
    "    # 1. Parse and sort\n",
    "    df[date_col] = pd.to_datetime(df[date_col], errors='raise')\n",
    "    df = df.sort_values([sku_col, date_col])\n",
    "\n",
    "    # 2. Compute the prior-value column\n",
    "    df['prev_gpp'] = df.groupby(sku_col)[gpp_col].shift(1)\n",
    "    df['prev_trans_date'] = df.groupby(sku_col)[date_col].shift(1)\n",
    "    if df[trans_id_col].dtype == 'string':\n",
    "        df['prev_trans_id'] = df.groupby(sku_col)[trans_id_col].shift(1).fillna('Not Specified').astype('string')\n",
    "    else:\n",
    "        df['prev_trans_id'] = df.groupby(sku_col)[trans_id_col].shift(1).fillna(0).astype(int)\n",
    "\n",
    "    # 3. Compute cutoff\n",
    "    cutoff = df['created_date'].max() - pd.Timedelta(days=days)\n",
    "\n",
    "    # 4. Filter: within window AND declined\n",
    "    mask_window   = df[date_col] >= cutoff\n",
    "    mask_declined = (df[\"prev_gpp\"] - df[gpp_col]) > tolerance\n",
    "    result = df[mask_window & mask_declined]\n",
    "\n",
    "    return result"
   ],
   "id": "d7a09923ea7c3bb1",
   "outputs": [],
   "execution_count": 7
  },
  {
   "metadata": {
    "ExecuteTime": {
     "end_time": "2025-05-12T21:55:30.368783Z",
     "start_time": "2025-05-12T21:55:24.472883Z"
    }
   },
   "cell_type": "code",
   "source": [
    "# attach to the data lake\n",
    "config = load_config(common.config, \"datalake_config.json\")\n",
    "service_client = adl.get_azure_service_client(config[\"blob_url\"])\n",
    "file_system_client = adl.get_azure_file_system_client(service_client, \"consolidated\")\n",
    "\n",
    "# get data\n",
    "data_state = \"curated\"\n",
    "trans_type = \"CustInvc\"\n",
    "filename = f\"transaction/{trans_type}ItemLineItems_{data_state}.parquet\"\n",
    "df = adl.get_parquet_file_from_data_lake(file_system_client, f\"{data_state}/netsuite\", filename)\n",
    "saved_df = df.copy()"
   ],
   "id": "e09fb18a85e06c6f",
   "outputs": [],
   "execution_count": 3
  },
  {
   "metadata": {},
   "cell_type": "code",
   "source": "df = saved_df.copy()",
   "id": "d8d2d35bd737328e",
   "outputs": [],
   "execution_count": null
  },
  {
   "metadata": {
    "ExecuteTime": {
     "end_time": "2025-05-12T22:02:21.394539Z",
     "start_time": "2025-05-12T21:59:39.318757Z"
    }
   },
   "cell_type": "code",
   "source": [
    "df = clean_illegal_chars_in_column(df, \"description\")\n",
    "df.to_excel(f'../excel_outputs/CustInvcItemLineItems_curated.xlsx', index=False)"
   ],
   "id": "b1c1339f3216559a",
   "outputs": [],
   "execution_count": 8
  },
  {
   "metadata": {
    "ExecuteTime": {
     "end_time": "2025-05-12T22:02:21.435695Z",
     "start_time": "2025-05-12T22:02:21.415474Z"
    }
   },
   "cell_type": "code",
   "source": "df.columns",
   "id": "39c744e99f11ad50",
   "outputs": [
    {
     "data": {
      "text/plain": [
       "Index(['created_date', 'created_from', 'entered_by', 'ai_order_type',\n",
       "       'commission_or_mfr_direct', 'id', 'tranid', 'sku', 'item_type',\n",
       "       'vsi_item_category', 'manufacturer', 'item_name', 'description',\n",
       "       'display_name', 'level_1_category', 'level_2_category',\n",
       "       'level_3_category', 'level_4_category', 'level_5_category',\n",
       "       'level_6_category', 'subsidiary_name', 'location', 'customer_id',\n",
       "       'company_name', 'sales_rep', 'end_market', 'quantity', 'unit_cost',\n",
       "       'cost_estimate_type', 'highest_quoted_cost', 'highest_recent_cost',\n",
       "       'highest_cost', 'handling_cost', 'labor_hours', 'unit_price',\n",
       "       'total_cost', 'total_amount', 'gross_profit', 'gross_profit_percent'],\n",
       "      dtype='object')"
      ]
     },
     "execution_count": 9,
     "metadata": {},
     "output_type": "execute_result"
    }
   ],
   "execution_count": 9
  },
  {
   "metadata": {},
   "cell_type": "code",
   "source": [
    "lookback = 10\n",
    "margin_declines = find_declining_margins(df, days=lookback)\n",
    "margin_declines"
   ],
   "id": "6c8d7561263803c9",
   "outputs": [],
   "execution_count": null
  },
  {
   "metadata": {},
   "cell_type": "code",
   "source": "margin_declines.to_excel(f'../excel_outputs/invoice_line_item_margin_declines_in_past_{lookback}_days.xlsx', index=False)",
   "id": "f81801b4872733a8",
   "outputs": [],
   "execution_count": null
  },
  {
   "metadata": {},
   "cell_type": "code",
   "source": "",
   "id": "bfcc1dc17a9f4b32",
   "outputs": [],
   "execution_count": null
  },
  {
   "metadata": {},
   "cell_type": "code",
   "source": [
    "monthly_data = df.copy()\n",
    "monthly_data['Month'] = monthly_data[\"created_date\"].dt.to_period('M')"
   ],
   "id": "c0b94a984c8b7fa7",
   "outputs": [],
   "execution_count": null
  },
  {
   "metadata": {},
   "cell_type": "code",
   "source": [
    "monthly_margin_by_subsidiary = monthly_data.groupby(['Month', 'subsidiary_name']).agg(\n",
    "    avg_margin_pct=('gross_profit_percent', 'mean')\n",
    ")"
   ],
   "id": "19ee4391c73f80d6",
   "outputs": [],
   "execution_count": null
  },
  {
   "metadata": {},
   "cell_type": "code",
   "source": [
    "import matplotlib.pyplot as plt\n",
    "\n",
    "# Reset index to convert Month from index to column\n",
    "chart_data = monthly_margin_by_subsidiary.reset_index()\n",
    "\n",
    "# Create figure and plot lines\n",
    "plt.figure(figsize=(12, 6))\n",
    "for subsidiary in chart_data['subsidiary_name'].unique():\n",
    "    subsidiary_data = chart_data[chart_data['subsidiary_name'] == subsidiary]\n",
    "    plt.plot(subsidiary_data['Month'].astype(str),\n",
    "             subsidiary_data['avg_margin_pct'],\n",
    "             marker='o',\n",
    "             label=subsidiary)\n",
    "\n",
    "plt.xlabel('Month')\n",
    "plt.ylabel('Average Margin %')\n",
    "plt.title('Average Margin % by Subsidiary Over Time')\n",
    "plt.legend()\n",
    "plt.xticks(rotation=45)\n",
    "plt.grid(True)\n",
    "plt.ylim(bottom=0)  # Set y-axis to start at 0\n",
    "plt.tight_layout()"
   ],
   "id": "b7fead5c00d0d25e",
   "outputs": [],
   "execution_count": null
  },
  {
   "metadata": {},
   "cell_type": "code",
   "source": [
    "weighted_margin = monthly_data.groupby(['Month', 'subsidiary_name']).agg(\n",
    "    total_costs=('total_cost', 'sum'),\n",
    "    total_revenues=('total_amount', 'sum'),\n",
    ").assign(\n",
    "    weighted_margin=lambda x: round((x.total_revenues - x.total_costs) * 100 / x.total_revenues, 2)\n",
    ")"
   ],
   "id": "d2dbfbbec047ec58",
   "outputs": [],
   "execution_count": null
  },
  {
   "metadata": {},
   "cell_type": "code",
   "source": [
    "import numpy as np\n",
    "\n",
    "# Reset index to convert Month from index to column\n",
    "chart_data = weighted_margin.reset_index()\n",
    "\n",
    "# restrict data to specific window\n",
    "start_date = '2024-01'\n",
    "chart_data = chart_data[chart_data['Month'] >= start_date]\n",
    "\n",
    "plt.figure(figsize=(12, 6))\n",
    "for subsidiary in chart_data['subsidiary_name'].unique():\n",
    "    subsidiary_data = chart_data[chart_data['subsidiary_name'] == subsidiary]\n",
    "\n",
    "    # Convert Month to numeric values for trend line\n",
    "    x = range(len(subsidiary_data))\n",
    "    y = subsidiary_data['weighted_margin'].values\n",
    "\n",
    "    # Calculate trend line\n",
    "    z = np.polyfit(x, y, 1)\n",
    "    p = np.poly1d(z)\n",
    "\n",
    "    # Plot actual data and trend line\n",
    "    plt.plot(subsidiary_data['Month'].astype(str),\n",
    "             subsidiary_data['weighted_margin'],\n",
    "             marker='o',\n",
    "             label=subsidiary)\n",
    "    plt.plot(subsidiary_data['Month'].astype(str),\n",
    "             p(x),\n",
    "             '--',\n",
    "             alpha=0.8,\n",
    "             label=f'{subsidiary} trend')\n",
    "\n",
    "plt.xlabel('Month')\n",
    "plt.ylabel('Weighted Margin %')\n",
    "plt.title('Sales-Weighted Margin % by Subsidiary Over Time')\n",
    "plt.legend(bbox_to_anchor=(1.05, 1), loc='upper left')\n",
    "plt.xticks(rotation=45)\n",
    "plt.grid(True)\n",
    "plt.ylim(bottom=0)\n",
    "plt.tight_layout()\n"
   ],
   "id": "6b89952aa1228d2e",
   "outputs": [],
   "execution_count": null
  },
  {
   "metadata": {},
   "cell_type": "code",
   "source": [
    "monthly_price_cost = monthly_data.groupby(['Month', 'subsidiary_name']).agg(\n",
    "    total_costs=('total_cost', 'sum'),\n",
    "    total_revenues=('total_amount', 'sum'),\n",
    "    total_qty=('quantity', 'sum')\n",
    ").assign(\n",
    "    weighted_avg_unit_cost=lambda x: x.total_costs / x.total_qty,\n",
    "    weighted_avg_unit_price=lambda x: x.total_revenues / x.total_qty\n",
    ")"
   ],
   "id": "b86567b97ee9237c",
   "outputs": [],
   "execution_count": null
  },
  {
   "metadata": {},
   "cell_type": "code",
   "source": [
    "from scipy import stats\n",
    "\n",
    "# Reset index to convert Month from index to column\n",
    "chart_data = monthly_price_cost.reset_index()\n",
    "\n",
    "# restrict data to specific window\n",
    "start_date = '2024-01'\n",
    "chart_data = chart_data[chart_data['Month'] >= start_date]\n",
    "\n",
    "# Count number of subsidiaries\n",
    "n_subsidiaries = len(chart_data['subsidiary_name'].unique())\n",
    "\n",
    "# Create separate figure for each subsidiary\n",
    "for subsidiary in plot_data['subsidiary_name'].unique():\n",
    "    plt.figure(figsize=(15, 10))\n",
    "    subsidiary_data = chart_data[chart_data['subsidiary_name'] == subsidiary]\n",
    "\n",
    "    # Convert Month to numeric values for trend line\n",
    "    x = range(len(subsidiary_data))\n",
    "\n",
    "    # Plot actual data points\n",
    "    plt.plot(subsidiary_data['Month'].astype(str),\n",
    "             subsidiary_data['weighted_avg_unit_cost'],\n",
    "             'bo-', label='Weighted Average Cost')\n",
    "    plt.plot(subsidiary_data['Month'].astype(str),\n",
    "             subsidiary_data['weighted_avg_unit_price'],\n",
    "             'ro-', label='Weighted Average Price')\n",
    "\n",
    "    # Calculate and plot trend lines\n",
    "    slope_cost, intercept_cost, _, _, _ = stats.linregress(x, subsidiary_data['weighted_avg_unit_cost'])\n",
    "    slope_price, intercept_price, _, _, _ = stats.linregress(x, subsidiary_data['weighted_avg_unit_price'])\n",
    "\n",
    "    trend_cost = [slope_cost * i + intercept_cost for i in x]\n",
    "    trend_price = [slope_price * i + intercept_price for i in x]\n",
    "\n",
    "    plt.plot(subsidiary_data['Month'].astype(str), trend_cost, 'b--', alpha=0.5, label='Cost Trend')\n",
    "    plt.plot(subsidiary_data['Month'].astype(str), trend_price, 'r--', alpha=0.5, label='Price Trend')\n",
    "\n",
    "    plt.title(f'{subsidiary} - Monthly Unit-Weighted Average Price and Cost')\n",
    "    plt.xlabel('Month')\n",
    "    plt.ylabel('Amount ($)')\n",
    "    plt.xticks(rotation=45)\n",
    "    plt.legend()\n",
    "    plt.grid(True, alpha=0.3)\n",
    "    plt.tight_layout();"
   ],
   "id": "5448ed158e277199",
   "outputs": [],
   "execution_count": null
  },
  {
   "metadata": {},
   "cell_type": "code",
   "source": "plot_data['highest_total_cost'] = plot_data['quantity'] * plot_data['highest_cost']",
   "id": "9aec6a9fc9f755db",
   "outputs": [],
   "execution_count": null
  },
  {
   "metadata": {},
   "cell_type": "code",
   "source": [
    "monthly_price_cost = plot_data.groupby(['Month', 'subsidiary_name']).agg(\n",
    "    total_costs=('highest_total_cost', 'sum'),\n",
    "    total_revenues=('total_amount', 'sum'),\n",
    "    total_qty=('quantity', 'sum')\n",
    ").assign(\n",
    "    weighted_avg_unit_cost=lambda x: x.total_costs / x.total_qty,\n",
    "    weighted_avg_unit_price=lambda x: x.total_revenues / x.total_qty\n",
    ")"
   ],
   "id": "ad4d59eeb8f18d84",
   "outputs": [],
   "execution_count": null
  },
  {
   "metadata": {},
   "cell_type": "code",
   "source": [
    "# Reset index to convert Month from index to column\n",
    "chart_data = monthly_price_cost.reset_index()\n",
    "\n",
    "# restrict data to specific window\n",
    "start_date = '2024-01'\n",
    "chart_data = chart_data[chart_data['Month'] >= start_date]\n",
    "\n",
    "# Count number of subsidiaries\n",
    "n_subsidiaries = len(chart_data['subsidiary_name'].unique())\n",
    "\n",
    "# Create separate figure for each subsidiary\n",
    "for subsidiary in plot_data['subsidiary_name'].unique():\n",
    "    plt.figure(figsize=(15, 10))\n",
    "    subsidiary_data = chart_data[chart_data['subsidiary_name'] == subsidiary]\n",
    "\n",
    "    # Convert Month to numeric values for trend line\n",
    "    x = range(len(subsidiary_data))\n",
    "\n",
    "    # Plot actual data points\n",
    "    plt.plot(subsidiary_data['Month'].astype(str),\n",
    "             subsidiary_data['weighted_avg_unit_cost'],\n",
    "             'bo-', label='Weighted Average Cost')\n",
    "    plt.plot(subsidiary_data['Month'].astype(str),\n",
    "             subsidiary_data['weighted_avg_unit_price'],\n",
    "             'ro-', label='Weighted Average Price')\n",
    "\n",
    "    # Calculate and plot trend lines\n",
    "    slope_cost, intercept_cost, _, _, _ = stats.linregress(x, subsidiary_data['weighted_avg_unit_cost'])\n",
    "    slope_price, intercept_price, _, _, _ = stats.linregress(x, subsidiary_data['weighted_avg_unit_price'])\n",
    "\n",
    "    trend_cost = [slope_cost * i + intercept_cost for i in x]\n",
    "    trend_price = [slope_price * i + intercept_price for i in x]\n",
    "\n",
    "    plt.plot(subsidiary_data['Month'].astype(str), trend_cost, 'b--', alpha=0.5, label='Cost Trend')\n",
    "    plt.plot(subsidiary_data['Month'].astype(str), trend_price, 'r--', alpha=0.5, label='Price Trend')\n",
    "\n",
    "    plt.title(f'{subsidiary} - Monthly Unit-Weighted Average Price and Cost')\n",
    "    plt.xlabel('Month')\n",
    "    plt.ylabel('Amount ($)')\n",
    "    plt.xticks(rotation=45)\n",
    "    plt.legend()\n",
    "    plt.grid(True, alpha=0.3)\n",
    "    plt.tight_layout();"
   ],
   "id": "c7418d408d4ace22",
   "outputs": [],
   "execution_count": null
  },
  {
   "metadata": {},
   "cell_type": "code",
   "source": "",
   "id": "6124ea28efc7181c",
   "outputs": [],
   "execution_count": null
  }
 ],
 "metadata": {
  "kernelspec": {
   "display_name": "Python 3",
   "language": "python",
   "name": "python3"
  },
  "language_info": {
   "codemirror_mode": {
    "name": "ipython",
    "version": 2
   },
   "file_extension": ".py",
   "mimetype": "text/x-python",
   "name": "python",
   "nbconvert_exporter": "python",
   "pygments_lexer": "ipython2",
   "version": "2.7.6"
  }
 },
 "nbformat": 4,
 "nbformat_minor": 5
}
