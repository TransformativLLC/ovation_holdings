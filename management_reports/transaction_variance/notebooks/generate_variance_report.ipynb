{
 "cells": [
  {
   "metadata": {
    "ExecuteTime": {
     "end_time": "2025-05-13T17:26:33.812606Z",
     "start_time": "2025-05-13T17:26:32.803458Z"
    }
   },
   "cell_type": "code",
   "source": [
    "### Import Libraries\n",
    "# Azure Data Lake libraries\n",
    "import common.utils.azure_data_lake_interface as adl\n",
    "\n",
    "# data cleansing libraries\n",
    "from common.utils.data_cleansing import clean_illegal_chars_in_column\n",
    "\n",
    "# config libraries\n",
    "import common.config\n",
    "from common.utils.configuration_management import load_config\n",
    "\n",
    "# Data analysis libraries\n",
    "from pandas import DataFrame, Timedelta, to_datetime"
   ],
   "id": "initial_id",
   "outputs": [],
   "execution_count": 1
  },
  {
   "metadata": {
    "ExecuteTime": {
     "end_time": "2025-05-13T17:26:42.598116Z",
     "start_time": "2025-05-13T17:26:42.592841Z"
    }
   },
   "cell_type": "code",
   "source": [
    "def find_declining_margins(\n",
    "    df: DataFrame,\n",
    "    days: int,\n",
    "    tolerance: float = 0.0,\n",
    "    date_col: str = \"created_date\",\n",
    "    sku_col: str = \"sku\",\n",
    "    gpp_col: str = \"gross_profit_percent\",\n",
    "    trans_id_col: str = \"tranid\",\n",
    ") -> DataFrame:\n",
    "\n",
    "    \"\"\"\n",
    "    Identifies products with declining gross profit margins within a specified time window.\n",
    "\n",
    "    This function takes transaction data, computes the decline in gross profit percent for\n",
    "    each SKU over a specified period, and filters for transactions where this decline\n",
    "    exceeds a provided tolerance level. The final result is returned as a subset DataFrame\n",
    "    meeting these criteria.\n",
    "\n",
    "    Args:\n",
    "        df (DataFrame): Input DataFrame containing transactional data with gross profit\n",
    "            percent and dates of transactions.\n",
    "        days (int): Number of days to consider for the cutoff window. Only transactions\n",
    "            within this number of days from the latest transaction date are considered.\n",
    "        tolerance (float, optional): Minimum difference between the previous gross profit\n",
    "            percentage and the current one to qualify as a \"decline\". Default is 0.0.\n",
    "        date_col (str, optional): Name of the column in the DataFrame representing the\n",
    "            transaction dates. Default is \"created_date\".\n",
    "        sku_col (str, optional): Name of the column in the DataFrame identifying the\n",
    "            stock keeping unit (SKU). Default is \"sku\".\n",
    "        gpp_col (str, optional): Name of the column in the DataFrame representing the\n",
    "            gross profit percentage (GPP). Default is \"gross_profit_percent\".\n",
    "        trans_id_col (str, optional): Name of the column in the DataFrame representing the\n",
    "            transaction identifier. Default is \"tranid\".\n",
    "\n",
    "    Returns:\n",
    "        DataFrame: A subset of the input DataFrame containing rows where the gross profit\n",
    "        percentage for a product has declined by more than the specified tolerance within\n",
    "        the defined time window. The returned DataFrame includes columns for the current\n",
    "        and previous gross profit percentages, transaction dates, and transaction IDs.\n",
    "    \"\"\"\n",
    "\n",
    "    df = df.copy()\n",
    "\n",
    "    # 1. Parse and sort\n",
    "    df[date_col] = to_datetime(df[date_col], errors='raise')\n",
    "    df = df.sort_values([sku_col, date_col])\n",
    "\n",
    "    # 2. Compute the prior-value column\n",
    "    df['prev_gpp'] = df.groupby(sku_col)[gpp_col].shift(1)\n",
    "    df['prev_trans_date'] = df.groupby(sku_col)[date_col].shift(1)\n",
    "    if df[trans_id_col].dtype == 'string':\n",
    "        df['prev_trans_id'] = df.groupby(sku_col)[trans_id_col].shift(1).fillna('Not Specified').astype('string')\n",
    "    else:\n",
    "        df['prev_trans_id'] = df.groupby(sku_col)[trans_id_col].shift(1).fillna(0).astype(int)\n",
    "\n",
    "    # 3. Compute cutoff\n",
    "    cutoff = df['created_date'].max() - Timedelta(days=days)\n",
    "\n",
    "    # 4. Filter: within window AND declined\n",
    "    mask_window   = df[date_col] >= cutoff\n",
    "    mask_declined = (df[\"prev_gpp\"] - df[gpp_col]) > tolerance\n",
    "    result = df[mask_window & mask_declined]\n",
    "\n",
    "    return result"
   ],
   "id": "d7a09923ea7c3bb1",
   "outputs": [],
   "execution_count": 2
  },
  {
   "metadata": {
    "ExecuteTime": {
     "end_time": "2025-05-13T17:33:38.300684Z",
     "start_time": "2025-05-13T17:33:09.099774Z"
    }
   },
   "cell_type": "code",
   "source": [
    "# attach to the data lake\n",
    "config = load_config(common.config, \"datalake_config.json\")\n",
    "service_client = adl.get_azure_service_client(config[\"blob_url\"])\n",
    "file_system_client = adl.get_azure_file_system_client(service_client, \"consolidated\")\n",
    "\n",
    "# get data\n",
    "data_state = \"curated\"\n",
    "trans_type = \"Estimate\"\n",
    "filename = f\"transaction/{trans_type}ItemLineItems_{data_state}.parquet\"\n",
    "df = adl.get_parquet_file_from_data_lake(file_system_client, f\"{data_state}/netsuite\", filename)"
   ],
   "id": "e09fb18a85e06c6f",
   "outputs": [],
   "execution_count": 5
  },
  {
   "metadata": {
    "ExecuteTime": {
     "end_time": "2025-05-13T17:33:44.462179Z",
     "start_time": "2025-05-13T17:33:42.626860Z"
    }
   },
   "cell_type": "code",
   "source": [
    "lookback = 10\n",
    "margin_declines = find_declining_margins(df, days=lookback)\n",
    "print(f\"{margin_declines.shape[0]} declining margins found.\")\n",
    "df = clean_illegal_chars_in_column(df, \"description\")\n",
    "margin_declines.to_excel(f'../excel_outputs/{trans_type}ItemLineItems_margin_declines_in_past_{lookback}_days.xlsx', index=False)"
   ],
   "id": "f81801b4872733a8",
   "outputs": [
    {
     "name": "stdout",
     "output_type": "stream",
     "text": [
      "742 declining margins found.\n"
     ]
    }
   ],
   "execution_count": 6
  },
  {
   "metadata": {},
   "cell_type": "code",
   "outputs": [],
   "execution_count": null,
   "source": "",
   "id": "cbec0a80bf27acef"
  }
 ],
 "metadata": {
  "kernelspec": {
   "display_name": "Python 3",
   "language": "python",
   "name": "python3"
  },
  "language_info": {
   "codemirror_mode": {
    "name": "ipython",
    "version": 2
   },
   "file_extension": ".py",
   "mimetype": "text/x-python",
   "name": "python",
   "nbconvert_exporter": "python",
   "pygments_lexer": "ipython2",
   "version": "2.7.6"
  }
 },
 "nbformat": 4,
 "nbformat_minor": 5
}
