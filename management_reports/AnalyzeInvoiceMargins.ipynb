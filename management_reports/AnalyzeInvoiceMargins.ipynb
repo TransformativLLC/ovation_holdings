{
 "cells": [
  {
   "metadata": {
    "ExecuteTime": {
     "end_time": "2025-01-24T14:47:08.171259Z",
     "start_time": "2025-01-24T14:47:08.152551Z"
    }
   },
   "cell_type": "code",
   "source": [
    "# suppress warnings\n",
    "import warnings\n",
    "warnings.filterwarnings(\"ignore\")\n",
    "\n",
    "# autoload modules\n",
    "%load_ext autoreload\n",
    "%autoreload 2"
   ],
   "id": "4d0b83862800aa34",
   "outputs": [],
   "execution_count": 1
  },
  {
   "metadata": {
    "collapsed": true,
    "ExecuteTime": {
     "end_time": "2025-01-24T14:47:09.892573Z",
     "start_time": "2025-01-24T14:47:08.181626Z"
    }
   },
   "cell_type": "code",
   "source": [
    "# Data analysis libraries\n",
    "import pandas as pd\n",
    "import margin_analysis as ma"
   ],
   "id": "initial_id",
   "outputs": [],
   "execution_count": 2
  },
  {
   "metadata": {
    "ExecuteTime": {
     "end_time": "2025-01-24T14:47:10.210918Z",
     "start_time": "2025-01-24T14:47:10.031461Z"
    }
   },
   "cell_type": "code",
   "source": [
    "# get customer and related data\n",
    "customers = pd.read_csv(\"data/active_customers.csv\")\n",
    "\n",
    "# change customer_id to string\n",
    "customers[\"customer_id\"] = customers[\"customer_id\"].astype(str)"
   ],
   "id": "6e036990738e795e",
   "outputs": [],
   "execution_count": 3
  },
  {
   "metadata": {
    "ExecuteTime": {
     "end_time": "2025-01-24T14:47:12.114344Z",
     "start_time": "2025-01-24T14:47:10.229218Z"
    }
   },
   "cell_type": "code",
   "source": [
    "augmented_line_items = pd.read_csv(\"data/augmented_invoice_line_items.csv\")\n",
    "augmented_line_items[\"created_date\"] = pd.to_datetime(augmented_line_items[\"created_date\"], errors=\"coerce\")\n",
    "len(augmented_line_items), augmented_line_items[\"total_amount\"].sum()"
   ],
   "id": "b939d976cf3c8c6e",
   "outputs": [
    {
     "data": {
      "text/plain": [
       "(389512, np.float64(595103483.3361996))"
      ]
     },
     "execution_count": 4,
     "metadata": {},
     "output_type": "execute_result"
    }
   ],
   "execution_count": 4
  },
  {
   "metadata": {
    "ExecuteTime": {
     "end_time": "2025-01-24T14:47:12.215896Z",
     "start_time": "2025-01-24T14:47:12.185270Z"
    }
   },
   "cell_type": "code",
   "source": "augmented_line_items.columns",
   "id": "ceed48be7724f299",
   "outputs": [
    {
     "data": {
      "text/plain": [
       "Index(['customer_id', 'description', 'display_name', 'est_extended_cost',\n",
       "       'item_name', 'item_type', 'labor_hours', 'level_1_category',\n",
       "       'level_2_category', 'level_3_category', 'manufacturer', 'quantity',\n",
       "       'sku', 'tranid', 'unit_price', 'valve_spec_size',\n",
       "       'vendor_commission_percent', 'custbody_nx_customer', 'created_date',\n",
       "       'location', 'commission_only', 'job_type', 'total_amount',\n",
       "       'company_name', 'subsidiary_name', 'end_market', 'sales_rep',\n",
       "       'total_cost', 'gross_profit', 'gross_profit_percent'],\n",
       "      dtype='object')"
      ]
     },
     "execution_count": 5,
     "metadata": {},
     "output_type": "execute_result"
    }
   ],
   "execution_count": 5
  },
  {
   "metadata": {
    "ExecuteTime": {
     "end_time": "2025-01-24T14:47:19.798288Z",
     "start_time": "2025-01-24T14:47:19.714992Z"
    }
   },
   "cell_type": "code",
   "source": "augmented_line_items[\"subsidiary_name\"].unique()",
   "id": "773cb2240666dfec",
   "outputs": [
    {
     "data": {
      "text/plain": [
       "array(['Valve Sales Inc.', 'Automation Service', 'Allied Valve',\n",
       "       'Allied Instrumentation'], dtype=object)"
      ]
     },
     "execution_count": 6,
     "metadata": {},
     "output_type": "execute_result"
    }
   ],
   "execution_count": 6
  },
  {
   "metadata": {
    "ExecuteTime": {
     "end_time": "2025-01-24T14:47:20.894382Z",
     "start_time": "2025-01-24T14:47:20.764632Z"
    }
   },
   "cell_type": "code",
   "source": "line_itmes_for_analysis = augmented_line_items.copy()",
   "id": "4cb76acef77cc7d2",
   "outputs": [],
   "execution_count": 7
  },
  {
   "metadata": {
    "ExecuteTime": {
     "end_time": "2025-01-24T14:47:22.617011Z",
     "start_time": "2025-01-24T14:47:22.566511Z"
    }
   },
   "cell_type": "code",
   "source": "line_itmes_for_analysis[\"subsidiary_name\"].unique()",
   "id": "a1ddcab065943d9a",
   "outputs": [
    {
     "data": {
      "text/plain": [
       "array(['Valve Sales Inc.', 'Automation Service', 'Allied Valve',\n",
       "       'Allied Instrumentation'], dtype=object)"
      ]
     },
     "execution_count": 8,
     "metadata": {},
     "output_type": "execute_result"
    }
   ],
   "execution_count": 8
  },
  {
   "metadata": {
    "ExecuteTime": {
     "end_time": "2025-01-24T14:47:24.972322Z",
     "start_time": "2025-01-24T14:47:24.815621Z"
    }
   },
   "cell_type": "code",
   "source": [
    "grouping_columns = [\"subsidiary_name\", \"location\", \"sku\", \"item_name\", \"display_name\", \"item_type\", \"manufacturer\", \"job_type\"]\n",
    "missing_counts = line_itmes_for_analysis[grouping_columns].isna().sum()\n",
    "missing_counts"
   ],
   "id": "53d4f1573e83584e",
   "outputs": [
    {
     "data": {
      "text/plain": [
       "subsidiary_name         0\n",
       "location                0\n",
       "sku                     0\n",
       "item_name               0\n",
       "display_name       186296\n",
       "item_type               0\n",
       "manufacturer            0\n",
       "job_type           111823\n",
       "dtype: int64"
      ]
     },
     "execution_count": 9,
     "metadata": {},
     "output_type": "execute_result"
    }
   ],
   "execution_count": 9
  },
  {
   "metadata": {
    "ExecuteTime": {
     "end_time": "2025-01-24T14:47:26.942478Z",
     "start_time": "2025-01-24T14:47:26.731133Z"
    }
   },
   "cell_type": "code",
   "source": "line_itmes_for_analysis[grouping_columns] = line_itmes_for_analysis[grouping_columns].fillna(\"Not Assigned\")",
   "id": "e6d951d650f95a95",
   "outputs": [],
   "execution_count": 10
  },
  {
   "metadata": {
    "ExecuteTime": {
     "end_time": "2025-01-24T14:47:36.178613Z",
     "start_time": "2025-01-24T14:47:35.685012Z"
    }
   },
   "cell_type": "code",
   "source": [
    "grouping_columns=[\"sku\", \"item_name\", \"display_name\", \"item_type\", \"manufacturer\"]\n",
    "total_invoiced_sales_by_sku = ma.calculate_total_booked_sales(line_itmes_for_analysis, grouping_columns=grouping_columns)\n",
    "total_invoiced_sales_by_sku[\"total_booked_sales\"].sum()"
   ],
   "id": "547d99d1de36c195",
   "outputs": [
    {
     "data": {
      "text/plain": [
       "np.float64(595103483.3361995)"
      ]
     },
     "execution_count": 11,
     "metadata": {},
     "output_type": "execute_result"
    }
   ],
   "execution_count": 11
  },
  {
   "metadata": {
    "ExecuteTime": {
     "end_time": "2025-01-24T14:47:38.588797Z",
     "start_time": "2025-01-24T14:47:38.476161Z"
    }
   },
   "cell_type": "code",
   "source": [
    "# remove rows with zero quantity\n",
    "line_itmes_for_analysis = line_itmes_for_analysis[line_itmes_for_analysis[\"quantity\"] != 0]\n",
    "line_itmes_for_analysis[\"total_amount\"].sum()"
   ],
   "id": "8e94bd0d1cee0fa",
   "outputs": [
    {
     "data": {
      "text/plain": [
       "np.float64(595103483.3361996)"
      ]
     },
     "execution_count": 12,
     "metadata": {},
     "output_type": "execute_result"
    }
   ],
   "execution_count": 12
  },
  {
   "metadata": {
    "ExecuteTime": {
     "end_time": "2025-01-24T14:47:41.140971Z",
     "start_time": "2025-01-24T14:47:41.004596Z"
    }
   },
   "cell_type": "code",
   "source": [
    "# remove rows with both zero total_amount and zero total_cost\n",
    "line_itmes_for_analysis = line_itmes_for_analysis[~((line_itmes_for_analysis[\"total_amount\"] == 0) & (line_itmes_for_analysis[\"total_cost\"] == 0))]\n",
    "line_itmes_for_analysis[\"total_amount\"].sum()"
   ],
   "id": "4c2f874e04689a3",
   "outputs": [
    {
     "data": {
      "text/plain": [
       "np.float64(595103483.3361995)"
      ]
     },
     "execution_count": 13,
     "metadata": {},
     "output_type": "execute_result"
    }
   ],
   "execution_count": 13
  },
  {
   "metadata": {
    "ExecuteTime": {
     "end_time": "2025-01-24T14:47:46.069145Z",
     "start_time": "2025-01-24T14:47:45.921918Z"
    }
   },
   "cell_type": "code",
   "source": [
    "# remove rows with gross profit percent less than -100%\n",
    "line_itmes_for_analysis = line_itmes_for_analysis[line_itmes_for_analysis[\"gross_profit_percent\"] >= -1.5]\n",
    "line_itmes_for_analysis[\"total_amount\"].sum()"
   ],
   "id": "8ea742d33d23f67c",
   "outputs": [
    {
     "data": {
      "text/plain": [
       "np.float64(595009781.4733797)"
      ]
     },
     "execution_count": 14,
     "metadata": {},
     "output_type": "execute_result"
    }
   ],
   "execution_count": 14
  },
  {
   "metadata": {
    "ExecuteTime": {
     "end_time": "2025-01-24T14:48:01.844121Z",
     "start_time": "2025-01-24T14:48:01.345200Z"
    }
   },
   "cell_type": "code",
   "source": [
    "grouping_columns = [\"subsidiary_name\", \"location\", \"sku\", \"item_name\", \"display_name\", \"item_type\", \"manufacturer\", \"job_type\"]\n",
    "top_booked_material_skus = ma.calculate_total_booked_sales(line_itmes_for_analysis, grouping_columns)\n",
    "top_booked_material_skus[\"total_booked_sales\"].sum()"
   ],
   "id": "535755087c27584b",
   "outputs": [
    {
     "data": {
      "text/plain": [
       "np.float64(595009781.4733796)"
      ]
     },
     "execution_count": 15,
     "metadata": {},
     "output_type": "execute_result"
    }
   ],
   "execution_count": 15
  },
  {
   "metadata": {
    "ExecuteTime": {
     "end_time": "2025-01-24T14:55:30.985073Z",
     "start_time": "2025-01-24T14:55:30.968075Z"
    }
   },
   "cell_type": "code",
   "source": [
    "filter = False\n",
    "if filter:\n",
    "    top_skus_by_subsidiary = top_booked_material_skus.groupby(\"subsidiary_name\").apply(lambda x: x.nlargest(5000, \"total_booked_sales\"), include_groups=True).reset_index(drop=True)\n",
    "    print(top_skus_by_subsidiary[\"total_booked_sales\"].sum())\n",
    "\n",
    "    # print formatted % of top_booked_material_skus included in top_skus_by_subsidiary\n",
    "    print(f\"{top_skus_by_subsidiary['total_booked_sales'].sum() / top_booked_material_skus['total_booked_sales'].sum():.2%}\")\n",
    "\n",
    "    # filter line df by skus in top skus by subsidiary\n",
    "    top_sku_line_items = line_itmes_for_analysis[line_itmes_for_analysis[\"sku\"].isin(top_skus_by_subsidiary[\"sku\"])].copy()\n",
    "else:\n",
    "    top_sku_line_items = line_itmes_for_analysis\n",
    "\n",
    "print(top_sku_line_items[\"total_amount\"].sum())"
   ],
   "id": "6bd380a5ebf74412",
   "outputs": [
    {
     "name": "stdout",
     "output_type": "stream",
     "text": [
      "595009781.4733797\n"
     ]
    }
   ],
   "execution_count": 18
  },
  {
   "metadata": {
    "ExecuteTime": {
     "end_time": "2025-01-24T14:55:58.595226Z",
     "start_time": "2025-01-24T14:55:58.081770Z"
    }
   },
   "cell_type": "code",
   "source": [
    "# calculate monthy sales by sku by subsidiary\n",
    "grouping_columns = [\"created_date\", \"subsidiary_name\", \"location\", \"company_name\", \"end_market\", \"sku\", \"item_name\", \"display_name\", \"item_type\", \"manufacturer\", \"job_type\"]\n",
    "monthly_booked_sales_by_sku_by_subsidiary = ma.calculate_total_booked_sales(top_sku_line_items, grouping_columns)\n",
    "monthly_booked_sales_by_sku_by_subsidiary[\"total_booked_sales\"].sum()"
   ],
   "id": "b7684ff3c05e55f6",
   "outputs": [
    {
     "data": {
      "text/plain": [
       "np.float64(595009781.4733796)"
      ]
     },
     "execution_count": 19,
     "metadata": {},
     "output_type": "execute_result"
    }
   ],
   "execution_count": 19
  },
  {
   "metadata": {
    "ExecuteTime": {
     "end_time": "2025-01-24T15:02:00.775Z",
     "start_time": "2025-01-24T15:01:58.857511Z"
    }
   },
   "cell_type": "code",
   "source": [
    "from datetime import datetime\n",
    "date = datetime.today()\n",
    "file_namme = f\"{date.strftime('%d%b%Y')}_{\"Top_5000\" if filter else \"ALL\"}_monthly_invoices_by_sku_by_subsidiary.csv\"\n",
    "monthly_booked_sales_by_sku_by_subsidiary.to_csv(f\"data/{file_namme}\", index=False)"
   ],
   "id": "56d52a841116fd2d",
   "outputs": [],
   "execution_count": 20
  },
  {
   "metadata": {},
   "cell_type": "code",
   "source": "",
   "id": "23ef9cc6cd8ec2a",
   "outputs": [],
   "execution_count": null
  }
 ],
 "metadata": {
  "kernelspec": {
   "display_name": "Python 3",
   "language": "python",
   "name": "python3"
  },
  "language_info": {
   "codemirror_mode": {
    "name": "ipython",
    "version": 2
   },
   "file_extension": ".py",
   "mimetype": "text/x-python",
   "name": "python",
   "nbconvert_exporter": "python",
   "pygments_lexer": "ipython2",
   "version": "2.7.6"
  }
 },
 "nbformat": 4,
 "nbformat_minor": 5
}
