{
 "cells": [
  {
   "cell_type": "code",
   "id": "initial_id",
   "metadata": {
    "collapsed": true,
    "ExecuteTime": {
     "end_time": "2025-04-28T16:31:30.080824Z",
     "start_time": "2025-04-28T16:31:29.117544Z"
    }
   },
   "source": [
    "# Azure Data Lake libraries\n",
    "import azure_data_lake_interface as adl\n",
    "\n",
    "# Data analysis libraries\n",
    "import pandas as pd\n",
    "\n",
    "# Helper function libraries\n",
    "import helper_functions as hf"
   ],
   "outputs": [],
   "execution_count": 1
  },
  {
   "metadata": {
    "ExecuteTime": {
     "end_time": "2025-04-28T16:31:31.734258Z",
     "start_time": "2025-04-28T16:31:31.730849Z"
    }
   },
   "cell_type": "code",
   "source": [
    "def compute_po_price_stats(df: pd.DataFrame, months: int = 12) -> pd.DataFrame:\n",
    "\n",
    "    # Calculate the cutoff date (current date minus N months)\n",
    "    cutoff_date = hf.get_cutoff_date(months)\n",
    "\n",
    "    # Filter the DataFrame for purchase orders in the past N months\n",
    "    recent_df = df[df[\"created_date\"] >= cutoff_date]\n",
    "\n",
    "    # Group by item_name and aggregate:\n",
    "    # - Retain the first manufacturer, description, and item_type values\n",
    "    # - Compute the highest and average unit price for the group\n",
    "    stats_df = recent_df.groupby(\"item_name\").agg(\n",
    "        manufacturer=(\"manufacturer\", \"first\"),\n",
    "        description=(\"description\", \"first\"),\n",
    "        item_type=(\"item_type\", \"first\"),\n",
    "        po_highest_price=(\"unit_price\", \"max\"),\n",
    "        po_average_price=(\"unit_price\", \"mean\")\n",
    "    ).reset_index()\n",
    "\n",
    "    stats_df[\"po_high_minus_avg\"] = stats_df[\"po_highest_price\"] - stats_df[\"po_average_price\"]\n",
    "\n",
    "    return stats_df"
   ],
   "id": "9144380b01718371",
   "outputs": [],
   "execution_count": 2
  },
  {
   "metadata": {
    "ExecuteTime": {
     "end_time": "2025-04-28T16:31:32.419652Z",
     "start_time": "2025-04-28T16:31:32.416410Z"
    }
   },
   "cell_type": "code",
   "source": [
    "def compute_inv_price_stats(df: pd.DataFrame, months: int = 12) -> pd.DataFrame:\n",
    "\n",
    "    # rename columns\n",
    "    df = df.rename(columns={\"Item\": \"item_name\", \"Description\": \"description\", \"avg_unit_price\": \"unit_price\"})\n",
    "\n",
    "    # Calculate the cutoff date (current date minus N months)\n",
    "    cutoff_date = hf.get_cutoff_date(months)\n",
    "\n",
    "    # Filter the DataFrame for purchase orders in the past N months\n",
    "    recent_df = df[df[\"Month\"] >= cutoff_date]\n",
    "\n",
    "    # Group by item_name and aggregate:\n",
    "    # - Retain the first manufacturer, description, and item_type values\n",
    "    # - Compute the highest and average unit price for the group\n",
    "    stats_df = recent_df.groupby(\"item_name\").agg(\n",
    "        manufacturer=(\"manufacturer\", \"first\"),\n",
    "        description=(\"description\", \"first\"),\n",
    "        inv_highest_price=(\"unit_price\", \"max\"),\n",
    "        inv_avg_price=(\"unit_price\", \"mean\")\n",
    "    ).reset_index()\n",
    "\n",
    "    stats_df[\"inv_high_minus_avg\"] = stats_df[\"inv_highest_price\"] - stats_df[\"inv_avg_price\"]\n",
    "\n",
    "    return stats_df.dropna()"
   ],
   "id": "dab18e5b46689789",
   "outputs": [],
   "execution_count": 3
  },
  {
   "metadata": {
    "ExecuteTime": {
     "end_time": "2025-04-28T16:31:35.796241Z",
     "start_time": "2025-04-28T16:31:35.792260Z"
    }
   },
   "cell_type": "code",
   "source": [
    "# attach to the data lake\n",
    "config = hf.load_config(\"config/datalake_config.json\", flush_cache=True)\n",
    "service_client = adl.get_azure_service_client(config[\"blob_url\"])\n",
    "file_system_client = adl.get_azure_file_system_client(service_client, \"consolidated\")"
   ],
   "id": "280fed998d959481",
   "outputs": [],
   "execution_count": 4
  },
  {
   "metadata": {
    "ExecuteTime": {
     "end_time": "2025-04-28T16:31:46.749029Z",
     "start_time": "2025-04-28T16:31:37.038963Z"
    }
   },
   "cell_type": "code",
   "source": [
    "# get data\n",
    "source_folder = \"enhanced/netsuite\"\n",
    "filename = \"PurchOrdItemLineItems_enhanced.parquet\"\n",
    "augmented_line_items = adl.get_parquet_file_from_data_lake(file_system_client, source_folder, filename)\n",
    "\n",
    "filename = \"unit_margin_analysis.parquet\"\n",
    "inventory_prices = adl.get_parquet_file_from_data_lake(file_system_client, source_folder, filename)\n",
    "inventory_prices = inventory_prices.reset_index()\n",
    "\n",
    "# convert pd.Period to datatime\n",
    "inventory_prices['Month'] = inventory_prices['Month'].dt.to_timestamp()"
   ],
   "id": "513adb8425a6715e",
   "outputs": [],
   "execution_count": 5
  },
  {
   "metadata": {
    "ExecuteTime": {
     "end_time": "2025-04-28T16:31:49.060987Z",
     "start_time": "2025-04-28T16:31:48.819482Z"
    }
   },
   "cell_type": "code",
   "source": [
    "# calc price stats for the two data sets, then combine them\n",
    "po_price_stats = compute_po_price_stats(augmented_line_items)\n",
    "inv_price_stats = compute_inv_price_stats(inventory_prices)\n",
    "combined_price_stats = po_price_stats.merge(inv_price_stats[[\"item_name\", \"inv_highest_price\", \"inv_avg_price\", \"inv_high_minus_avg\"]], on=\"item_name\", how=\"left\")\n",
    "combined_price_stats[\"po_highest_minus_inv_avg_price\"] = combined_price_stats[\"po_highest_price\"] - combined_price_stats[\"inv_avg_price\"]\n",
    "\n",
    "# round all prices to 2 decimal places\n",
    "po_price_stats = hf.round_float_columns(po_price_stats)\n",
    "inv_price_stats = hf.round_float_columns(inv_price_stats)\n",
    "combined_price_stats = hf.round_float_columns(combined_price_stats)"
   ],
   "id": "26883f5ef45af4cd",
   "outputs": [],
   "execution_count": 6
  },
  {
   "metadata": {
    "ExecuteTime": {
     "end_time": "2025-04-28T16:31:58.977508Z",
     "start_time": "2025-04-28T16:31:58.682721Z"
    }
   },
   "cell_type": "code",
   "source": [
    "# -- get category level info for each item\n",
    "unique_items = inventory_prices[\n",
    "    ['Item', 'level_1_category', 'level_2_category', 'level_3_category', 'level_4_category', 'level_5_category',\n",
    "     'level_6_category']].drop_duplicates()\n",
    "unique_items = unique_items.rename(columns={'Item': 'item_name'})\n",
    "\n",
    "# -- sum total_sales and total_quantity by item\n",
    "sales_qty_by_item = inventory_prices.groupby('Item').agg(\n",
    "    total_sales=('total_sales', 'sum'),\n",
    "    total_quantity=('total_quantity', 'sum')\n",
    ").reset_index()\n",
    "\n",
    "sales_qty_by_item = hf.round_float_columns(sales_qty_by_item)\n",
    "\n",
    "# -- join temp dataframes\n",
    "unique_items = unique_items.merge(sales_qty_by_item.rename(columns={'Item': 'item_name'}), on='item_name', how='left')\n",
    "\n",
    "# -- add info to price stats and reorder columns\n",
    "combined_price_stats = combined_price_stats.merge(unique_items, on='item_name', how='left')\n",
    "combined_price_stats = combined_price_stats[['item_name', 'manufacturer', 'level_1_category', 'level_2_category',\n",
    "                                             'level_3_category', 'level_4_category', 'level_5_category',\n",
    "                                             'level_6_category',\n",
    "                                             'description', 'item_type', 'po_highest_price', 'po_average_price',\n",
    "                                             'po_high_minus_avg', 'inv_highest_price', 'inv_avg_price',\n",
    "                                             'inv_high_minus_avg',\n",
    "                                             'po_highest_minus_inv_avg_price', 'total_sales', 'total_quantity']]\n"
   ],
   "id": "9b7de53c84171c32",
   "outputs": [],
   "execution_count": 7
  },
  {
   "metadata": {
    "ExecuteTime": {
     "end_time": "2025-04-28T16:32:18.149022Z",
     "start_time": "2025-04-28T16:32:11.645487Z"
    }
   },
   "cell_type": "code",
   "source": [
    "# save after removing illegal Excel characters in the description field\n",
    "combined_price_stats = hf.clean_illegal_chars_in_column(combined_price_stats, 'description')\n",
    "combined_price_stats.to_excel(\"analyses/combined_price_stats.xlsx\", index=False)"
   ],
   "id": "2955a22bc556d519",
   "outputs": [],
   "execution_count": 9
  },
  {
   "metadata": {},
   "cell_type": "code",
   "outputs": [],
   "execution_count": null,
   "source": "",
   "id": "513a666e6744c410"
  }
 ],
 "metadata": {
  "kernelspec": {
   "display_name": "Python 3",
   "language": "python",
   "name": "python3"
  },
  "language_info": {
   "codemirror_mode": {
    "name": "ipython",
    "version": 2
   },
   "file_extension": ".py",
   "mimetype": "text/x-python",
   "name": "python",
   "nbconvert_exporter": "python",
   "pygments_lexer": "ipython2",
   "version": "2.7.6"
  }
 },
 "nbformat": 4,
 "nbformat_minor": 5
}
