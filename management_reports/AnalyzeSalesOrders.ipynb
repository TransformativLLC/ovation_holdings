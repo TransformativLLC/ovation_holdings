{
 "cells": [
  {
   "cell_type": "code",
   "id": "initial_id",
   "metadata": {
    "collapsed": true,
    "ExecuteTime": {
     "end_time": "2024-12-06T20:57:36.838408Z",
     "start_time": "2024-12-06T20:57:34.606058Z"
    }
   },
   "source": [
    "# Typing libraries\n",
    "from typing import Dict, Tuple, List, Literal\n",
    "\n",
    "# Azure Data Lake libraries\n",
    "import azure_data_lake_interface as adl\n",
    "\n",
    "# Data analysis libraries\n",
    "import pandas as pd\n",
    "import numpy as np\n",
    "from sklearn.linear_model import LinearRegression\n",
    "\n",
    "# Data visualization libraries\n",
    "import matplotlib.pyplot as plt\n",
    "from matplotlib.ticker import FuncFormatter\n",
    "\n",
    "# Helper function libraries\n",
    "from helper_functions import load_config"
   ],
   "outputs": [],
   "execution_count": 1
  },
  {
   "metadata": {
    "ExecuteTime": {
     "end_time": "2024-12-06T20:57:36.848056Z",
     "start_time": "2024-12-06T20:57:36.842887Z"
    }
   },
   "cell_type": "code",
   "source": [
    "# attach to the data lake\n",
    "config = load_config(\"config/datalake_config.json\", flush_cache=True)\n",
    "service_client = adl.get_azure_service_client(config[\"blob_url\"])\n",
    "file_system_client = adl.get_azure_file_system_client(service_client, \"consolidated\")"
   ],
   "id": "280fed998d959481",
   "outputs": [],
   "execution_count": 2
  },
  {
   "metadata": {
    "ExecuteTime": {
     "end_time": "2024-12-06T20:57:43.049047Z",
     "start_time": "2024-12-06T20:57:37.035870Z"
    }
   },
   "cell_type": "code",
   "source": [
    "sales_orders = adl.get_parquet_file_from_data_lake(file_system_client, \"raw/netsuite\", \"transaction/SalesOrd_raw.parquet\")\n",
    "sales_order_line_items = adl.get_parquet_file_from_data_lake(file_system_client, \"raw/netsuite\",\"transaction/SalesOrdItemLineItems_raw.parquet\")"
   ],
   "id": "61d69fad3abbbede",
   "outputs": [],
   "execution_count": 3
  },
  {
   "metadata": {
    "ExecuteTime": {
     "end_time": "2024-12-06T20:57:44.085745Z",
     "start_time": "2024-12-06T20:57:43.986980Z"
    }
   },
   "cell_type": "code",
   "source": [
    "# get customer and related data\n",
    "customers = pd.read_csv(\"data/active_customers.csv\")\n",
    "\n",
    "# change customer_id to string\n",
    "customers[\"customer_id\"] = customers[\"customer_id\"].astype(str)"
   ],
   "id": "6e036990738e795e",
   "outputs": [],
   "execution_count": 4
  },
  {
   "metadata": {
    "ExecuteTime": {
     "end_time": "2024-12-06T20:57:46.478783Z",
     "start_time": "2024-12-06T20:57:45.024265Z"
    }
   },
   "cell_type": "code",
   "source": [
    "# change created_date to datetime and coerce all dates to datetime\n",
    "sales_orders[\"created_date\"] = pd.to_datetime(sales_orders[\"created_date\"], errors=\"coerce\")\n",
    "\n",
    "# change net_amount to numeric and coerce all values to numeric\n",
    "sales_orders[\"net_amount\"] = pd.to_numeric(sales_orders[\"net_amount\"], errors=\"coerce\")\n",
    "\n",
    "# convert values to numeric\n",
    "numerics = [\"quantity\", \"unit_price\", \"est_gross_profit\", \"est_extended_cost\", \"est_gross_profit_percent\", \"labor_hours\"]\n",
    "for col in numerics:\n",
    "    sales_order_line_items[col] = pd.to_numeric(sales_order_line_items[col], errors=\"coerce\")"
   ],
   "id": "e01a4d260530db76",
   "outputs": [],
   "execution_count": 5
  },
  {
   "metadata": {
    "ExecuteTime": {
     "end_time": "2024-12-06T20:57:47.998247Z",
     "start_time": "2024-12-06T20:57:47.328144Z"
    }
   },
   "cell_type": "code",
   "source": [
    "# add sales order info to sales_order_line_items\n",
    "sales_order_line_items = sales_order_line_items.merge(sales_orders[[\"tranid\", \"created_date\", 'location', 'commission_only']], on=\"tranid\", how=\"left\")"
   ],
   "id": "86962115337351f6",
   "outputs": [],
   "execution_count": 6
  },
  {
   "metadata": {
    "ExecuteTime": {
     "end_time": "2024-12-06T20:57:50.776974Z",
     "start_time": "2024-12-06T20:57:50.085632Z"
    }
   },
   "cell_type": "code",
   "source": [
    "# remove all rows with created_date before Jan 1, 2022\n",
    "sales_orders = sales_orders[sales_orders[\"created_date\"] >= \"2022-01-01\"]\n",
    "sales_order_line_items = sales_order_line_items[sales_order_line_items[\"created_date\"] >= \"2022-01-01\"]\n",
    "\n",
    "# capture line df with NaT created_date\n",
    "line_items_with_missing_dates = sales_order_line_items[sales_order_line_items[\"created_date\"].isna()]\n",
    "\n",
    "# drop line df with NaT created_date -- assume no invoice to match line df\n",
    "sales_order_line_items = sales_order_line_items[~sales_order_line_items[\"created_date\"].isna()]"
   ],
   "id": "5358776fcfe4b7c1",
   "outputs": [],
   "execution_count": 7
  },
  {
   "metadata": {
    "ExecuteTime": {
     "end_time": "2024-12-06T20:58:00.420474Z",
     "start_time": "2024-12-06T20:58:00.414803Z"
    }
   },
   "cell_type": "code",
   "source": "sales_orders[\"net_amount\"].sum()",
   "id": "300b4685bf7c6a9",
   "outputs": [
    {
     "data": {
      "text/plain": [
       "np.float64(694757515.6300001)"
      ]
     },
     "execution_count": 8,
     "metadata": {},
     "output_type": "execute_result"
    }
   ],
   "execution_count": 8
  },
  {
   "metadata": {
    "ExecuteTime": {
     "end_time": "2024-12-06T20:58:02.302359Z",
     "start_time": "2024-12-06T20:58:02.292248Z"
    }
   },
   "cell_type": "code",
   "source": [
    "sales_order_line_items[\"total_amount\"] = -1 * sales_order_line_items[\"quantity\"] * sales_order_line_items[\"unit_price\"]\n",
    "sales_order_line_items[\"total_amount\"].sum()"
   ],
   "id": "eb90ea0a52dc7b4f",
   "outputs": [
    {
     "data": {
      "text/plain": [
       "np.float64(659866908.8790114)"
      ]
     },
     "execution_count": 9,
     "metadata": {},
     "output_type": "execute_result"
    }
   ],
   "execution_count": 9
  },
  {
   "metadata": {
    "ExecuteTime": {
     "end_time": "2024-12-06T20:58:23.505383Z",
     "start_time": "2024-12-06T20:58:23.438642Z"
    }
   },
   "cell_type": "code",
   "source": [
    "sales_orders_ids = sales_orders[\"tranid\"].unique()\n",
    "line_items_ids = sales_order_line_items[\"tranid\"].unique()\n",
    "\n",
    "# find all sales orders that do not have line df\n",
    "missing_line_items = sales_orders[~sales_orders[\"tranid\"].isin(line_items_ids)]\n",
    "missing_line_items"
   ],
   "id": "6f4dc1f9ff05ad6f",
   "outputs": [
    {
     "data": {
      "text/plain": [
       "       links actual_ship_date ai_order_type amount_paid amount_unpaid  \\\n",
       "24921     []         1/4/2022          null           0             0   \n",
       "24924     []        1/13/2022          null           0             0   \n",
       "24925     []        1/10/2022          null           0             0   \n",
       "24931     []         1/1/1800          null           0             0   \n",
       "24934     []         1/1/1800          null           0             0   \n",
       "...      ...              ...           ...         ...           ...   \n",
       "50653     []        11/3/2022          null           0             0   \n",
       "50654     []        11/3/2022          null           0             0   \n",
       "50655     []        1/12/2023          null           0             0   \n",
       "50656     []        11/2/2022          null           0             0   \n",
       "106489    []         1/1/1800          null           0             0   \n",
       "\n",
       "                                          billing_address close_date  \\\n",
       "24921   SDI, Inc.\\r\\n1414 Radcliffe Street\\r\\nSuite 30...   4/5/2022   \n",
       "24924   Mertec Engineering\\r\\n1232 Monte Vista Ave\\r\\n...  1/13/2022   \n",
       "24925   MEC-TRIC CONTROL COMPANY\\r\\nP.O. BOX 221918\\r\\...  1/10/2022   \n",
       "24931   KIMBERLY CLARK - MARINETTE\\nPO BOX 59099\\nKNOX...  1/10/2023   \n",
       "24934   MADISON GAS & ELECTRIC CO\\r\\nPO BOX 1231\\r\\nMA...  1/16/2023   \n",
       "...                                                   ...        ...   \n",
       "50653   Trilogy Industrial Sales\\r\\nPO Box 4182\\r\\nLak...  11/3/2022   \n",
       "50654   M.G. Waldbaum - Wakefield\\r\\n105 North Main\\r\\...  11/3/2022   \n",
       "50655   Protech Sales USA Corp.\\r\\n12340 Mead Way\\r\\nL...  1/12/2023   \n",
       "50656   Clearwater Paper Corporation\\r\\nATTN: Accounts...  11/2/2022   \n",
       "106489  Minnesota State University Moorhead\\r\\n1104 Se...  2/22/2024   \n",
       "\n",
       "       commission_only                     company_email  \\\n",
       "24921                F                              null   \n",
       "24924                F               invoices@mertec.net   \n",
       "24925                F             payables@mec-tric.com   \n",
       "24931                F                              null   \n",
       "24934                F                  invoices@mge.com   \n",
       "...                ...                               ...   \n",
       "50653                F          AP@trilogyindustrial.com   \n",
       "50654                F  vendor.invoices@michaelfoods.com   \n",
       "50655                F                      ap@ptsusa.co   \n",
       "50656                F     apinvoice@clearwaterpaper.com   \n",
       "106489               F                schmdt@mnstate.edu   \n",
       "\n",
       "                               company_name  ...  ship_date  \\\n",
       "24921                      SDI c/o Cascades  ...  1/18/2022   \n",
       "24924                    Mertec Engineering  ...  1/18/2022   \n",
       "24925             Mec-Tric Controls Company  ...  1/18/2022   \n",
       "24931            Kimberly Clark - Marinette  ...   1/4/2022   \n",
       "24934                Madison Gas & Electric  ...   1/4/2022   \n",
       "...                                     ...  ...        ...   \n",
       "50653              Trilogy Industrial Sales  ...  11/3/2022   \n",
       "50654             Michael Foods - Wakefield  ...  11/3/2022   \n",
       "50655    ProTech Sales USA Corp - Littleton  ...  1/12/2023   \n",
       "50656           Clearwater Paper - Lewiston  ...  11/3/2022   \n",
       "106489  Minnesota State University Moorhead  ...  1/30/2024   \n",
       "\n",
       "                                         shipping_address start_date  \\\n",
       "24921   SDI c/o Cascades\\r\\n285 MIDFIELD RD\\r\\nBARNWEL...   1/1/1800   \n",
       "24924   Mertec Engineering\\r\\n1232 Monte Vista Ave\\r\\n...   1/1/1800   \n",
       "24925   Mec-Tric Control Company\\r\\n4110 Monroe Road\\r...   1/1/1800   \n",
       "24931   KIMBERLY CLARK - MARINETTE\\n3120 Riverside Ave...   1/1/1800   \n",
       "24934   MADISON GAS & ELECTRIC CO\\r\\n120 S. BALDWIN ST...   1/1/1800   \n",
       "...                                                   ...        ...   \n",
       "50653   Trilogy Industrial Sales, LLC\\r\\n2885 Hwy 14 E...   1/1/1800   \n",
       "50654   MGW Wakefield Main Plant\\r\\n105 North Main Str...   1/1/1800   \n",
       "50655   WINSUPPLY RIVERTON WY CO\\r\\n390 WEBBWOOD RD\\r\\...   1/1/1800   \n",
       "50656   Clearwater Paper Corporation\\r\\n803 Mill Road\\...   1/1/1800   \n",
       "106489  Minnesota State University Moorhead\\r\\n1104 Se...   1/1/1800   \n",
       "\n",
       "                      status total_cost_estimate   tran_date  tranid  \\\n",
       "24921   Sales Order : Closed                   0    1/4/2022  288623   \n",
       "24924   Sales Order : Billed                   0    1/4/2022  288633   \n",
       "24925   Sales Order : Billed                   0    1/4/2022  288627   \n",
       "24931   Sales Order : Closed                   0    1/4/2022  288630   \n",
       "24934   Sales Order : Closed                   0    1/4/2022  288636   \n",
       "...                      ...                 ...         ...     ...   \n",
       "50653   Sales Order : Billed                   0  10/20/2022  314615   \n",
       "50654   Sales Order : Billed                   0  10/20/2022  314608   \n",
       "50655   Sales Order : Billed                   0  10/20/2022  314597   \n",
       "50656   Sales Order : Billed                   0  10/20/2022  314606   \n",
       "106489  Sales Order : Billed               877.9   1/30/2024  370617   \n",
       "\n",
       "       transaction_number      type voided  \n",
       "24921              288626  SalesOrd      F  \n",
       "24924              288636  SalesOrd      F  \n",
       "24925              288630  SalesOrd      F  \n",
       "24931              288633  SalesOrd      F  \n",
       "24934              288639  SalesOrd      F  \n",
       "...                   ...       ...    ...  \n",
       "50653              314618  SalesOrd      F  \n",
       "50654              314611  SalesOrd      F  \n",
       "50655              314600  SalesOrd      F  \n",
       "50656              314609  SalesOrd      F  \n",
       "106489             370620  SalesOrd      F  \n",
       "\n",
       "[4833 rows x 53 columns]"
      ],
      "text/html": [
       "<div>\n",
       "<style scoped>\n",
       "    .dataframe tbody tr th:only-of-type {\n",
       "        vertical-align: middle;\n",
       "    }\n",
       "\n",
       "    .dataframe tbody tr th {\n",
       "        vertical-align: top;\n",
       "    }\n",
       "\n",
       "    .dataframe thead th {\n",
       "        text-align: right;\n",
       "    }\n",
       "</style>\n",
       "<table border=\"1\" class=\"dataframe\">\n",
       "  <thead>\n",
       "    <tr style=\"text-align: right;\">\n",
       "      <th></th>\n",
       "      <th>links</th>\n",
       "      <th>actual_ship_date</th>\n",
       "      <th>ai_order_type</th>\n",
       "      <th>amount_paid</th>\n",
       "      <th>amount_unpaid</th>\n",
       "      <th>billing_address</th>\n",
       "      <th>close_date</th>\n",
       "      <th>commission_only</th>\n",
       "      <th>company_email</th>\n",
       "      <th>company_name</th>\n",
       "      <th>...</th>\n",
       "      <th>ship_date</th>\n",
       "      <th>shipping_address</th>\n",
       "      <th>start_date</th>\n",
       "      <th>status</th>\n",
       "      <th>total_cost_estimate</th>\n",
       "      <th>tran_date</th>\n",
       "      <th>tranid</th>\n",
       "      <th>transaction_number</th>\n",
       "      <th>type</th>\n",
       "      <th>voided</th>\n",
       "    </tr>\n",
       "  </thead>\n",
       "  <tbody>\n",
       "    <tr>\n",
       "      <th>24921</th>\n",
       "      <td>[]</td>\n",
       "      <td>1/4/2022</td>\n",
       "      <td>null</td>\n",
       "      <td>0</td>\n",
       "      <td>0</td>\n",
       "      <td>SDI, Inc.\\r\\n1414 Radcliffe Street\\r\\nSuite 30...</td>\n",
       "      <td>4/5/2022</td>\n",
       "      <td>F</td>\n",
       "      <td>null</td>\n",
       "      <td>SDI c/o Cascades</td>\n",
       "      <td>...</td>\n",
       "      <td>1/18/2022</td>\n",
       "      <td>SDI c/o Cascades\\r\\n285 MIDFIELD RD\\r\\nBARNWEL...</td>\n",
       "      <td>1/1/1800</td>\n",
       "      <td>Sales Order : Closed</td>\n",
       "      <td>0</td>\n",
       "      <td>1/4/2022</td>\n",
       "      <td>288623</td>\n",
       "      <td>288626</td>\n",
       "      <td>SalesOrd</td>\n",
       "      <td>F</td>\n",
       "    </tr>\n",
       "    <tr>\n",
       "      <th>24924</th>\n",
       "      <td>[]</td>\n",
       "      <td>1/13/2022</td>\n",
       "      <td>null</td>\n",
       "      <td>0</td>\n",
       "      <td>0</td>\n",
       "      <td>Mertec Engineering\\r\\n1232 Monte Vista Ave\\r\\n...</td>\n",
       "      <td>1/13/2022</td>\n",
       "      <td>F</td>\n",
       "      <td>invoices@mertec.net</td>\n",
       "      <td>Mertec Engineering</td>\n",
       "      <td>...</td>\n",
       "      <td>1/18/2022</td>\n",
       "      <td>Mertec Engineering\\r\\n1232 Monte Vista Ave\\r\\n...</td>\n",
       "      <td>1/1/1800</td>\n",
       "      <td>Sales Order : Billed</td>\n",
       "      <td>0</td>\n",
       "      <td>1/4/2022</td>\n",
       "      <td>288633</td>\n",
       "      <td>288636</td>\n",
       "      <td>SalesOrd</td>\n",
       "      <td>F</td>\n",
       "    </tr>\n",
       "    <tr>\n",
       "      <th>24925</th>\n",
       "      <td>[]</td>\n",
       "      <td>1/10/2022</td>\n",
       "      <td>null</td>\n",
       "      <td>0</td>\n",
       "      <td>0</td>\n",
       "      <td>MEC-TRIC CONTROL COMPANY\\r\\nP.O. BOX 221918\\r\\...</td>\n",
       "      <td>1/10/2022</td>\n",
       "      <td>F</td>\n",
       "      <td>payables@mec-tric.com</td>\n",
       "      <td>Mec-Tric Controls Company</td>\n",
       "      <td>...</td>\n",
       "      <td>1/18/2022</td>\n",
       "      <td>Mec-Tric Control Company\\r\\n4110 Monroe Road\\r...</td>\n",
       "      <td>1/1/1800</td>\n",
       "      <td>Sales Order : Billed</td>\n",
       "      <td>0</td>\n",
       "      <td>1/4/2022</td>\n",
       "      <td>288627</td>\n",
       "      <td>288630</td>\n",
       "      <td>SalesOrd</td>\n",
       "      <td>F</td>\n",
       "    </tr>\n",
       "    <tr>\n",
       "      <th>24931</th>\n",
       "      <td>[]</td>\n",
       "      <td>1/1/1800</td>\n",
       "      <td>null</td>\n",
       "      <td>0</td>\n",
       "      <td>0</td>\n",
       "      <td>KIMBERLY CLARK - MARINETTE\\nPO BOX 59099\\nKNOX...</td>\n",
       "      <td>1/10/2023</td>\n",
       "      <td>F</td>\n",
       "      <td>null</td>\n",
       "      <td>Kimberly Clark - Marinette</td>\n",
       "      <td>...</td>\n",
       "      <td>1/4/2022</td>\n",
       "      <td>KIMBERLY CLARK - MARINETTE\\n3120 Riverside Ave...</td>\n",
       "      <td>1/1/1800</td>\n",
       "      <td>Sales Order : Closed</td>\n",
       "      <td>0</td>\n",
       "      <td>1/4/2022</td>\n",
       "      <td>288630</td>\n",
       "      <td>288633</td>\n",
       "      <td>SalesOrd</td>\n",
       "      <td>F</td>\n",
       "    </tr>\n",
       "    <tr>\n",
       "      <th>24934</th>\n",
       "      <td>[]</td>\n",
       "      <td>1/1/1800</td>\n",
       "      <td>null</td>\n",
       "      <td>0</td>\n",
       "      <td>0</td>\n",
       "      <td>MADISON GAS &amp; ELECTRIC CO\\r\\nPO BOX 1231\\r\\nMA...</td>\n",
       "      <td>1/16/2023</td>\n",
       "      <td>F</td>\n",
       "      <td>invoices@mge.com</td>\n",
       "      <td>Madison Gas &amp; Electric</td>\n",
       "      <td>...</td>\n",
       "      <td>1/4/2022</td>\n",
       "      <td>MADISON GAS &amp; ELECTRIC CO\\r\\n120 S. BALDWIN ST...</td>\n",
       "      <td>1/1/1800</td>\n",
       "      <td>Sales Order : Closed</td>\n",
       "      <td>0</td>\n",
       "      <td>1/4/2022</td>\n",
       "      <td>288636</td>\n",
       "      <td>288639</td>\n",
       "      <td>SalesOrd</td>\n",
       "      <td>F</td>\n",
       "    </tr>\n",
       "    <tr>\n",
       "      <th>...</th>\n",
       "      <td>...</td>\n",
       "      <td>...</td>\n",
       "      <td>...</td>\n",
       "      <td>...</td>\n",
       "      <td>...</td>\n",
       "      <td>...</td>\n",
       "      <td>...</td>\n",
       "      <td>...</td>\n",
       "      <td>...</td>\n",
       "      <td>...</td>\n",
       "      <td>...</td>\n",
       "      <td>...</td>\n",
       "      <td>...</td>\n",
       "      <td>...</td>\n",
       "      <td>...</td>\n",
       "      <td>...</td>\n",
       "      <td>...</td>\n",
       "      <td>...</td>\n",
       "      <td>...</td>\n",
       "      <td>...</td>\n",
       "      <td>...</td>\n",
       "    </tr>\n",
       "    <tr>\n",
       "      <th>50653</th>\n",
       "      <td>[]</td>\n",
       "      <td>11/3/2022</td>\n",
       "      <td>null</td>\n",
       "      <td>0</td>\n",
       "      <td>0</td>\n",
       "      <td>Trilogy Industrial Sales\\r\\nPO Box 4182\\r\\nLak...</td>\n",
       "      <td>11/3/2022</td>\n",
       "      <td>F</td>\n",
       "      <td>AP@trilogyindustrial.com</td>\n",
       "      <td>Trilogy Industrial Sales</td>\n",
       "      <td>...</td>\n",
       "      <td>11/3/2022</td>\n",
       "      <td>Trilogy Industrial Sales, LLC\\r\\n2885 Hwy 14 E...</td>\n",
       "      <td>1/1/1800</td>\n",
       "      <td>Sales Order : Billed</td>\n",
       "      <td>0</td>\n",
       "      <td>10/20/2022</td>\n",
       "      <td>314615</td>\n",
       "      <td>314618</td>\n",
       "      <td>SalesOrd</td>\n",
       "      <td>F</td>\n",
       "    </tr>\n",
       "    <tr>\n",
       "      <th>50654</th>\n",
       "      <td>[]</td>\n",
       "      <td>11/3/2022</td>\n",
       "      <td>null</td>\n",
       "      <td>0</td>\n",
       "      <td>0</td>\n",
       "      <td>M.G. Waldbaum - Wakefield\\r\\n105 North Main\\r\\...</td>\n",
       "      <td>11/3/2022</td>\n",
       "      <td>F</td>\n",
       "      <td>vendor.invoices@michaelfoods.com</td>\n",
       "      <td>Michael Foods - Wakefield</td>\n",
       "      <td>...</td>\n",
       "      <td>11/3/2022</td>\n",
       "      <td>MGW Wakefield Main Plant\\r\\n105 North Main Str...</td>\n",
       "      <td>1/1/1800</td>\n",
       "      <td>Sales Order : Billed</td>\n",
       "      <td>0</td>\n",
       "      <td>10/20/2022</td>\n",
       "      <td>314608</td>\n",
       "      <td>314611</td>\n",
       "      <td>SalesOrd</td>\n",
       "      <td>F</td>\n",
       "    </tr>\n",
       "    <tr>\n",
       "      <th>50655</th>\n",
       "      <td>[]</td>\n",
       "      <td>1/12/2023</td>\n",
       "      <td>null</td>\n",
       "      <td>0</td>\n",
       "      <td>0</td>\n",
       "      <td>Protech Sales USA Corp.\\r\\n12340 Mead Way\\r\\nL...</td>\n",
       "      <td>1/12/2023</td>\n",
       "      <td>F</td>\n",
       "      <td>ap@ptsusa.co</td>\n",
       "      <td>ProTech Sales USA Corp - Littleton</td>\n",
       "      <td>...</td>\n",
       "      <td>1/12/2023</td>\n",
       "      <td>WINSUPPLY RIVERTON WY CO\\r\\n390 WEBBWOOD RD\\r\\...</td>\n",
       "      <td>1/1/1800</td>\n",
       "      <td>Sales Order : Billed</td>\n",
       "      <td>0</td>\n",
       "      <td>10/20/2022</td>\n",
       "      <td>314597</td>\n",
       "      <td>314600</td>\n",
       "      <td>SalesOrd</td>\n",
       "      <td>F</td>\n",
       "    </tr>\n",
       "    <tr>\n",
       "      <th>50656</th>\n",
       "      <td>[]</td>\n",
       "      <td>11/2/2022</td>\n",
       "      <td>null</td>\n",
       "      <td>0</td>\n",
       "      <td>0</td>\n",
       "      <td>Clearwater Paper Corporation\\r\\nATTN: Accounts...</td>\n",
       "      <td>11/2/2022</td>\n",
       "      <td>F</td>\n",
       "      <td>apinvoice@clearwaterpaper.com</td>\n",
       "      <td>Clearwater Paper - Lewiston</td>\n",
       "      <td>...</td>\n",
       "      <td>11/3/2022</td>\n",
       "      <td>Clearwater Paper Corporation\\r\\n803 Mill Road\\...</td>\n",
       "      <td>1/1/1800</td>\n",
       "      <td>Sales Order : Billed</td>\n",
       "      <td>0</td>\n",
       "      <td>10/20/2022</td>\n",
       "      <td>314606</td>\n",
       "      <td>314609</td>\n",
       "      <td>SalesOrd</td>\n",
       "      <td>F</td>\n",
       "    </tr>\n",
       "    <tr>\n",
       "      <th>106489</th>\n",
       "      <td>[]</td>\n",
       "      <td>1/1/1800</td>\n",
       "      <td>null</td>\n",
       "      <td>0</td>\n",
       "      <td>0</td>\n",
       "      <td>Minnesota State University Moorhead\\r\\n1104 Se...</td>\n",
       "      <td>2/22/2024</td>\n",
       "      <td>F</td>\n",
       "      <td>schmdt@mnstate.edu</td>\n",
       "      <td>Minnesota State University Moorhead</td>\n",
       "      <td>...</td>\n",
       "      <td>1/30/2024</td>\n",
       "      <td>Minnesota State University Moorhead\\r\\n1104 Se...</td>\n",
       "      <td>1/1/1800</td>\n",
       "      <td>Sales Order : Billed</td>\n",
       "      <td>877.9</td>\n",
       "      <td>1/30/2024</td>\n",
       "      <td>370617</td>\n",
       "      <td>370620</td>\n",
       "      <td>SalesOrd</td>\n",
       "      <td>F</td>\n",
       "    </tr>\n",
       "  </tbody>\n",
       "</table>\n",
       "<p>4833 rows × 53 columns</p>\n",
       "</div>"
      ]
     },
     "execution_count": 10,
     "metadata": {},
     "output_type": "execute_result"
    }
   ],
   "execution_count": 10
  },
  {
   "metadata": {
    "ExecuteTime": {
     "end_time": "2024-12-06T20:58:25.181451Z",
     "start_time": "2024-12-06T20:58:25.178357Z"
    }
   },
   "cell_type": "code",
   "source": "len(missing_line_items), missing_line_items[\"net_amount\"].sum()",
   "id": "643f3e0697809704",
   "outputs": [
    {
     "data": {
      "text/plain": [
       "(4833, np.float64(21877628.64))"
      ]
     },
     "execution_count": 11,
     "metadata": {},
     "output_type": "execute_result"
    }
   ],
   "execution_count": 11
  },
  {
   "metadata": {
    "ExecuteTime": {
     "end_time": "2024-12-06T20:58:39.098798Z",
     "start_time": "2024-12-06T20:58:37.623642Z"
    }
   },
   "cell_type": "code",
   "source": [
    "cust_ids = customers[\"customer_id\"].unique()\n",
    "line_items_ids = sales_order_line_items[\"customer_id\"].unique()\n",
    "\n",
    "# find all line_items_ids that are not in cust_ids\n",
    "line_items_ids_not_in_cust_ids = [line_item_id for line_item_id in line_items_ids if line_item_id not in cust_ids]\n",
    "len(line_items_ids_not_in_cust_ids)"
   ],
   "id": "a1928fd315dd5bc8",
   "outputs": [
    {
     "data": {
      "text/plain": [
       "36"
      ]
     },
     "execution_count": 12,
     "metadata": {},
     "output_type": "execute_result"
    }
   ],
   "execution_count": 12
  },
  {
   "metadata": {
    "ExecuteTime": {
     "end_time": "2024-12-06T20:59:17.378568Z",
     "start_time": "2024-12-06T20:59:17.350698Z"
    }
   },
   "cell_type": "code",
   "source": [
    "# find all line df with customer_id that are not in customers\n",
    "missing_customers = sales_order_line_items[~sales_order_line_items[\"customer_id\"].isin(customers[\"customer_id\"])]\n",
    "len(missing_customers)"
   ],
   "id": "d2373e3602ce5c09",
   "outputs": [
    {
     "data": {
      "text/plain": [
       "914"
      ]
     },
     "execution_count": 13,
     "metadata": {},
     "output_type": "execute_result"
    }
   ],
   "execution_count": 13
  },
  {
   "metadata": {
    "ExecuteTime": {
     "end_time": "2024-12-06T20:59:24.553031Z",
     "start_time": "2024-12-06T20:59:24.395618Z"
    }
   },
   "cell_type": "code",
   "source": [
    "# add customer information to sales_order_line_items\n",
    "augmented_line_items = sales_order_line_items.merge(customers[[\"customer_id\", \"company_name\", \"subsidiary_name\", \"end_market\", \"sales_rep\"]], on=\"customer_id\", how=\"left\")"
   ],
   "id": "a9d3d0e53f906057",
   "outputs": [],
   "execution_count": 14
  },
  {
   "metadata": {
    "ExecuteTime": {
     "end_time": "2024-12-06T21:04:19.456340Z",
     "start_time": "2024-12-06T21:04:19.437334Z"
    }
   },
   "cell_type": "code",
   "source": [
    "# find all line df with no subsidiary_name\n",
    "missing_subsidiary = augmented_line_items[augmented_line_items[\"subsidiary_name\"].isna()]\n",
    "len(missing_subsidiary)"
   ],
   "id": "7e9d26ff107827ec",
   "outputs": [
    {
     "data": {
      "text/plain": [
       "0"
      ]
     },
     "execution_count": 17,
     "metadata": {},
     "output_type": "execute_result"
    }
   ],
   "execution_count": 17
  },
  {
   "metadata": {
    "ExecuteTime": {
     "end_time": "2024-12-06T21:03:46.339865Z",
     "start_time": "2024-12-06T21:03:46.280904Z"
    }
   },
   "cell_type": "code",
   "source": [
    "# use unique location values to determine subsidiary_name via a dictionary with locations as keys and subsidiaries as values\n",
    "locations_subsidiary_map = {\n",
    "    'Riverdale Shop': 'Allied Valve',\n",
    "    'Joliet-AV Shop': 'Allied Valve',\n",
    "    'North Dakota': 'Allied Valve',\n",
    "    'Tulsa': 'Valve Sales Inc.',\n",
    "    'Portage': 'Allied Valve',\n",
    "    'Cannon Falls': 'Allied Valve',\n",
    "    'Appleton': 'Allied Valve',\n",
    "    'Norwich': 'Allied Valve',\n",
    "    'Casper': 'Valve Sales Inc.',\n",
    "    'Highland': 'Allied Instrumentation',\n",
    "    'Detroit': 'Allied Instrumentation',\n",
    "    'Kansas City': 'Allied Instrumentation',\n",
    "    'Fenton': 'Allied Instrumentation',\n",
    "    'St. Louis': 'Allied Instrumentation',\n",
    "    'Peoria': 'Allied Instrumentation',\n",
    "    'Indianapolis': 'Allied Instrumentation',\n",
    "    'Carlsbad': 'Valve Sales Inc.',\n",
    "    'Kent': 'Valve Sales Inc.',\n",
    "    'New England-Instrumentation': 'Allied Instrumentation',\n",
    "    'Oak Park': 'Allied Instrumentation',\n",
    "    'Hastings': 'Allied Valve',\n",
    "    'Monroe': 'Allied Valve',\n",
    "    'New Berlin': 'Allied Valve',\n",
    "    'Lytle': 'Valve Sales Inc.',\n",
    "    'Sutton': 'Allied Instrumentation'\n",
    "}\n",
    "\n",
    "# update augmented_line_items with subsidiary_name based on location\n",
    "augmented_line_items[\"subsidiary_name\"] = augmented_line_items[\"location\"].map(locations_subsidiary_map)"
   ],
   "id": "c2d82aa09558acf3",
   "outputs": [],
   "execution_count": 16
  },
  {
   "metadata": {
    "ExecuteTime": {
     "end_time": "2024-12-06T21:04:40.922801Z",
     "start_time": "2024-12-06T21:04:40.775709Z"
    }
   },
   "cell_type": "code",
   "source": [
    "# drop item types that are not related to products/services\n",
    "drop_list = [\"Description\", \"Markup\", \"Item Group\", \"Other Charge\", \"Payment\", \"Discount\"]\n",
    "augmented_line_items = augmented_line_items[~augmented_line_items[\"item_type\"].isin(drop_list)]"
   ],
   "id": "b149609b06a548c3",
   "outputs": [],
   "execution_count": 18
  },
  {
   "metadata": {
    "ExecuteTime": {
     "end_time": "2024-12-06T21:04:42.697625Z",
     "start_time": "2024-12-06T21:04:42.677996Z"
    }
   },
   "cell_type": "code",
   "source": "augmented_line_items['item_type'].value_counts()",
   "id": "c220a16848bf7ec2",
   "outputs": [
    {
     "data": {
      "text/plain": [
       "item_type\n",
       "Inventory Item                262262\n",
       "Service                        92560\n",
       "Non-inventory Item             45069\n",
       "Assembly/Bill of Materials      3540\n",
       "Kit/Package                        7\n",
       "Name: count, dtype: int64"
      ]
     },
     "execution_count": 19,
     "metadata": {},
     "output_type": "execute_result"
    }
   ],
   "execution_count": 19
  },
  {
   "metadata": {
    "ExecuteTime": {
     "end_time": "2024-12-06T21:04:44.510484Z",
     "start_time": "2024-12-06T21:04:44.477008Z"
    }
   },
   "cell_type": "code",
   "source": [
    "# resolve custom_manufacturer and manufacturer columns\n",
    "augmented_line_items[\"custom_manufacturer\"] = augmented_line_items[\"custom_manufacturer\"].fillna(augmented_line_items[\"manufacturer\"])\n",
    "augmented_line_items[\"manufacturer\"] = augmented_line_items[\"manufacturer\"].fillna(augmented_line_items[\"custom_manufacturer\"])"
   ],
   "id": "9ffc514d8ce5dd2",
   "outputs": [],
   "execution_count": 20
  },
  {
   "metadata": {
    "ExecuteTime": {
     "end_time": "2024-12-06T21:04:51.070795Z",
     "start_time": "2024-12-06T21:04:51.043232Z"
    }
   },
   "cell_type": "code",
   "source": [
    "# change \"null\" values in manufacturer to \"Not Specified\"\n",
    "augmented_line_items[\"manufacturer\"] = augmented_line_items[\"manufacturer\"].replace(\"null\", \"Not Specified\")"
   ],
   "id": "b1249eda101aae58",
   "outputs": [],
   "execution_count": 21
  },
  {
   "metadata": {
    "ExecuteTime": {
     "end_time": "2024-12-06T21:04:52.406210Z",
     "start_time": "2024-12-06T21:04:52.386401Z"
    }
   },
   "cell_type": "code",
   "source": "augmented_line_items[\"manufacturer\"].value_counts()",
   "id": "f13d655787bf4cc6",
   "outputs": [
    {
     "data": {
      "text/plain": [
       "manufacturer\n",
       "Not Specified               297896\n",
       "Consolidated                 37053\n",
       "Kunkle                       19884\n",
       "Peaktronics                   5213\n",
       "Fisher                        4971\n",
       "                             ...  \n",
       "HAM-LET                          1\n",
       "Aftermarket                      1\n",
       "Cyrus Shank                      1\n",
       "Panametrics Gas FlowComp         1\n",
       "MID-WEST INSTRUMENT              1\n",
       "Name: count, Length: 448, dtype: int64"
      ]
     },
     "execution_count": 22,
     "metadata": {},
     "output_type": "execute_result"
    }
   ],
   "execution_count": 22
  },
  {
   "metadata": {
    "ExecuteTime": {
     "end_time": "2024-12-06T21:04:55.482905Z",
     "start_time": "2024-12-06T21:04:55.392186Z"
    }
   },
   "cell_type": "code",
   "source": [
    "# drop unnecessary columns\n",
    "dropped_cols = ['links', 'assembly_component', 'cost_estimate_type', 'created_from', 'custom_manufacturer', 'est_gross_profit', 'est_gross_profit_percent',\n",
    "                'handling_cost', 'id', 'item_base_price', 'line_number', 'mainline', 'purchased_price', 'special_order', 'tax_line', 'transaction_table_id',\n",
    "                'last_purchase_price']\n",
    "augmented_line_items = augmented_line_items.drop(columns=dropped_cols)"
   ],
   "id": "b37e9a1730537ab5",
   "outputs": [],
   "execution_count": 23
  },
  {
   "metadata": {
    "ExecuteTime": {
     "end_time": "2024-12-06T21:04:57.028409Z",
     "start_time": "2024-12-06T21:04:57.016148Z"
    }
   },
   "cell_type": "code",
   "source": [
    "# calculate total amount for each line item, quantities are negative, so multiply by -1\n",
    "augmented_line_items[\"total_amount\"] = -1 * augmented_line_items[\"quantity\"] * augmented_line_items[\"unit_price\"]\n",
    "augmented_line_items[\"total_cost\"] = -1 * augmented_line_items[\"quantity\"] * augmented_line_items[\"est_extended_cost\"]\n",
    "augmented_line_items[\"gross_profit\"] = augmented_line_items[\"total_amount\"] - augmented_line_items[\"total_cost\"]\n",
    "augmented_line_items[\"gross_profit_percent\"] = augmented_line_items[\"gross_profit\"] / augmented_line_items[\"total_amount\"]"
   ],
   "id": "3761649b36291a8d",
   "outputs": [],
   "execution_count": 24
  },
  {
   "metadata": {
    "ExecuteTime": {
     "end_time": "2024-12-06T21:05:02.400307Z",
     "start_time": "2024-12-06T21:05:02.394832Z"
    }
   },
   "cell_type": "code",
   "source": "augmented_line_items.dtypes",
   "id": "234164845beab101",
   "outputs": [
    {
     "data": {
      "text/plain": [
       "customer_id                          object\n",
       "description                          object\n",
       "display_name                         object\n",
       "est_extended_cost                   float64\n",
       "item_name                            object\n",
       "item_type                            object\n",
       "labor_hours                         float64\n",
       "level_1_category                     object\n",
       "level_2_category                     object\n",
       "level_3_category                     object\n",
       "manufacturer                         object\n",
       "quantity                            float64\n",
       "sku                                  object\n",
       "tranid                               object\n",
       "unit_price                          float64\n",
       "valve_spec_size                      object\n",
       "vendor_commission_percent            object\n",
       "created_date                 datetime64[ns]\n",
       "location                             object\n",
       "commission_only                      object\n",
       "total_amount                        float64\n",
       "company_name                         object\n",
       "subsidiary_name                      object\n",
       "end_market                           object\n",
       "sales_rep                            object\n",
       "total_cost                          float64\n",
       "gross_profit                        float64\n",
       "gross_profit_percent                float64\n",
       "dtype: object"
      ]
     },
     "execution_count": 25,
     "metadata": {},
     "output_type": "execute_result"
    }
   ],
   "execution_count": 25
  },
  {
   "metadata": {
    "ExecuteTime": {
     "end_time": "2024-12-06T21:05:10.402307Z",
     "start_time": "2024-12-06T21:05:05.132339Z"
    }
   },
   "cell_type": "code",
   "source": "augmented_line_items.to_csv(\"data/augmented_line_items.csv\", index=False)",
   "id": "7d4f5b7241cca5ea",
   "outputs": [],
   "execution_count": 26
  },
  {
   "metadata": {
    "ExecuteTime": {
     "end_time": "2024-12-06T21:05:17.773981Z",
     "start_time": "2024-12-06T21:05:15.472885Z"
    }
   },
   "cell_type": "code",
   "source": "augmented_line_items = pd.read_csv(\"data/augmented_line_items.csv\")",
   "id": "b939d976cf3c8c6e",
   "outputs": [],
   "execution_count": 27
  },
  {
   "metadata": {},
   "cell_type": "code",
   "source": "augmented_line_items[\"created_date\"] = pd.to_datetime(augmented_line_items[\"created_date\"], errors=\"coerce\")",
   "id": "d7f18f2722cfe7c9",
   "outputs": [],
   "execution_count": null
  },
  {
   "metadata": {},
   "cell_type": "code",
   "outputs": [],
   "execution_count": null,
   "source": [
    "total_booked_sales_by_customer = calculate_total_booked_sales_by_customer(augmented_line_items)\n",
    "top_customers_by_subsidiary = get_top_customers_by_subsidiary(total_booked_sales_by_customer)"
   ],
   "id": "4a96173bbe06823c"
  },
  {
   "metadata": {},
   "cell_type": "code",
   "source": [
    "# drop rows of each subsidiary, except Automation Service\n",
    "top_customers_by_subsidiary = top_customers_by_subsidiary.groupby(\"subsidiary_name\").apply(lambda x: x.iloc[:-2] if x[\"subsidiary_name\"].values[0] != \"Automation Service\" else x).reset_index(drop=True)\n",
    "\n",
    "# drop company name that contains \"Valve Sales, Inc.\" or \"Allied Value\" from Automation Service\n",
    "top_customers_by_subsidiary = top_customers_by_subsidiary[~top_customers_by_subsidiary[\"company_name\"].str.contains(\"Valve Sales, Inc.|Allied Valve\")]"
   ],
   "id": "985ea895dc4f4ef5",
   "outputs": [],
   "execution_count": null
  },
  {
   "metadata": {},
   "cell_type": "code",
   "source": "top_customers_by_subsidiary",
   "id": "556cf21e73c473c3",
   "outputs": [],
   "execution_count": null
  },
  {
   "metadata": {},
   "cell_type": "code",
   "source": [
    "# convert to dictionary with subsidiary as key and list of tuples with related customer_ids and company names as value\n",
    "subsidiary_customers = top_customers_by_subsidiary.groupby(\"subsidiary_name\")[[\"customer_id\", \"company_name\"]].apply(lambda x: list(zip(x[\"customer_id\"], x[\"company_name\"]))).to_dict()"
   ],
   "id": "69476ba543bdcb7a",
   "outputs": [],
   "execution_count": null
  },
  {
   "metadata": {},
   "cell_type": "code",
   "source": "subsidiary_customers",
   "id": "bf413929d51b20f5",
   "outputs": [],
   "execution_count": null
  },
  {
   "metadata": {},
   "cell_type": "code",
   "source": [
    "monthly_booked_product_sales_by_customer = calculate_total_booked_sales_by_customer(augmented_line_items, include='Products', by_month=True)\n",
    "monthly_booked_service_sales_by_customer = calculate_total_booked_sales_by_customer(augmented_line_items, include='Services', by_month=True)"
   ],
   "id": "235131c2e39f0725",
   "outputs": [],
   "execution_count": null
  },
  {
   "metadata": {},
   "cell_type": "code",
   "source": [
    "def filter_and_sort_by_subsidiary(df: pd.DataFrame, subsidiary: str, subsidiary_customers: Dict[str, list]) -> pd.DataFrame:\n",
    "    \"\"\"\n",
    "    Filter and sort a DataFrame for a given subsidiary.\n",
    "\n",
    "    Args:\n",
    "        df (pd.DataFrame): The input DataFrame containing customer sales data.\n",
    "        subsidiary (str): The name of the subsidiary to filter the data for.\n",
    "        subsidiary_customers (Dict[str, list]): A dictionary mapping subsidiaries to lists of customer tuples.\n",
    "\n",
    "    Returns:\n",
    "        pd.DataFrame: The filtered and sorted DataFrame.\n",
    "    \"\"\"\n",
    "    # Filter out all rows that do not have a company ID that is in subsidiary_customers\n",
    "    filtered_df = df[df[\"customer_id\"].isin([customer[0] for customer in subsidiary_customers[subsidiary]])]\n",
    "\n",
    "    # Sort by company name and then by created date\n",
    "    filtered_sorted_df = filtered_df.sort_values([\"company_name\", \"created_date\"])\n",
    "\n",
    "    return filtered_sorted_df"
   ],
   "id": "55d01ff1a69a96d6",
   "outputs": [],
   "execution_count": null
  },
  {
   "metadata": {},
   "cell_type": "code",
   "source": [
    "def plot_booked_sales_and_gross_profit(df: pd.DataFrame, subsidiary: str, subsidiary_customers: Dict[str, List[Tuple[int, str]]], subset: Literal[\"Product\", \"Service\", \"Product & Service\"] = \"Products & Services\", figsize: Tuple[int, int] = (12, 6)) -> None:\n",
    "    \"\"\"\n",
    "    Plot bar charts of booked sales and gross profit for each customer of a given subsidiary.\n",
    "\n",
    "    Args:\n",
    "        df (pd.DataFrame): The input DataFrame containing customer sales data.\n",
    "        subsidiary (str): The name of the subsidiary to plot the data for.\n",
    "        subsidiary_customers (Dict[str, List[Tuple[int, str]]]): A dictionary mapping subsidiaries to lists of customer tuples (customer_id, company_name).\n",
    "        figsize (Tuple[int, int], optional): The size of the figure for each chart. Defaults to (12, 6).\n",
    "\n",
    "    Returns:\n",
    "        None\n",
    "    \"\"\"\n",
    "    # Plot bar chart for each specific customer\n",
    "    for customer in subsidiary_customers[subsidiary]:\n",
    "        customer_id, company_name = customer\n",
    "        customer_data = df[df[\"customer_id\"] == customer_id]\n",
    "        customer_data = customer_data.set_index(\"created_date\")\n",
    "        \n",
    "        # Plotting booked sales and gross profit\n",
    "        if not customer_data.empty:\n",
    "            customer_data[[\"total_booked_sales\", \"total_gross_profit\"]].plot(\n",
    "                kind=\"bar\",\n",
    "                title=f\"{subsidiary}: {company_name} - Booked {subset} Sales & Gross Profit\",\n",
    "                ylabel=\"Amount ($)\",\n",
    "                xlabel=\"Month\",\n",
    "                figsize=figsize\n",
    "            )\n",
    "            plt.show()\n",
    "        else:\n",
    "            print(f\"No data available for {subsidiary}: {company_name}\")"
   ],
   "id": "916d4ab6c3069dca",
   "outputs": [],
   "execution_count": null
  },
  {
   "metadata": {},
   "cell_type": "code",
   "source": [
    "def plot_avg_gross_margin_pct(df: pd.DataFrame, subsidiary: str, subsidiary_customers: Dict[str, List[Tuple[int, str]]], subset: Literal[\"Product\", \"Service\", \"Product & Service\"] = \"Products & Services\", figsize: Tuple[int, int] = (12, 6)) -> None:\n",
    "    \"\"\"\n",
    "    Plot a line chart of average gross margin percentage for each customer of a given subsidiary.\n",
    "\n",
    "    Args:\n",
    "        df (pd.DataFrame): The input DataFrame containing customer sales data.\n",
    "        subsidiary (str): The name of the subsidiary to plot the data for.\n",
    "        subsidiary_customers (Dict[str, List[Tuple[int, str]]]): A dictionary mapping subsidiaries to lists of customer tuples (customer_id, company_name).\n",
    "        figsize (Tuple[int, int], optional): The size of the figure for each chart. Defaults to (12, 6).\n",
    "\n",
    "    Returns:\n",
    "        None\n",
    "    \"\"\"\n",
    "    # Plot line chart for each specific customer\n",
    "    for customer in subsidiary_customers[subsidiary]:\n",
    "        customer_id, company_name = customer\n",
    "        customer_data = df[df[\"customer_id\"] == customer_id]\n",
    "        customer_data = customer_data.set_index(\"created_date\")\n",
    "        \n",
    "        # Plotting average gross margin percentage\n",
    "        if not customer_data.empty:\n",
    "            customer_data[\"avg_gross_margin_pct\"].plot(\n",
    "                kind=\"line\",\n",
    "                title=f\"{subsidiary}: {company_name} - Average {subset} Gross Margin (%)\",\n",
    "                ylabel=\"Percent (%)\",\n",
    "                xlabel=\"Month\",\n",
    "                figsize=figsize\n",
    "            )\n",
    "            plt.show()\n",
    "        else:\n",
    "            print(f\"No data available for {subsidiary}: {company_name}\")"
   ],
   "id": "cd922087e3fe90b3",
   "outputs": [],
   "execution_count": null
  },
  {
   "metadata": {},
   "cell_type": "code",
   "source": [
    "def analysis_pipeline(df: pd.DataFrame, subsidiary: str, subsidiary_customers: Dict[str, List[Tuple[int, str]]], subset: Literal[\"Product\", \"Service\", \"Product & Service\"] = \"Products & Services\", figsize: Tuple[int, int] = (12, 6)) -> None:\n",
    "    \"\"\"\n",
    "    Execute a pipeline of analysis functions to filter, sort, and visualize sales data for a specific subsidiary.\n",
    "    \n",
    "    Args:\n",
    "        df (pd.DataFrame): The input DataFrame containing customer sales data.\n",
    "        subsidiary (str): The name of the subsidiary to perform the analysis on.\n",
    "        subsidiary_customers (Dict[str, List[Tuple[int, str]]]): A dictionary mapping subsidiaries to lists of customer tuples (customer_id, company_name).\n",
    "        figsize (Tuple[int, int], optional): The size of the figure for each chart. Defaults to (12, 6).\n",
    "\n",
    "    Returns:\n",
    "        None\n",
    "    \"\"\"\n",
    "    # Step 1: Filter and Sort by Subsidiary\n",
    "    filtered_sorted_df = filter_and_sort_by_subsidiary(df, subsidiary, subsidiary_customers)\n",
    "\n",
    "    # Step 2: Plot Booked Sales and Gross Profit for each customer\n",
    "    plot_booked_sales_and_gross_profit(filtered_sorted_df, subsidiary, subsidiary_customers, subset, figsize)\n",
    "\n",
    "    # Step 3: Plot Average Gross Margin Percentage for each customer\n",
    "    plot_avg_gross_margin_pct(filtered_sorted_df, subsidiary, subsidiary_customers, subset, figsize)"
   ],
   "id": "6d94c77a157d6cd4",
   "outputs": [],
   "execution_count": null
  },
  {
   "metadata": {},
   "cell_type": "code",
   "source": [
    "subsidiaries = list(subsidiary_customers.keys())\n",
    "for subsidiary in subsidiaries:\n",
    "    analysis_pipeline(monthly_booked_product_sales_by_customer, subsidiary, subsidiary_customers,\"Product\")"
   ],
   "id": "fbb74e118629658b",
   "outputs": [],
   "execution_count": null
  },
  {
   "metadata": {},
   "cell_type": "code",
   "source": [
    "for subsidiary in subsidiaries:\n",
    "    analysis_pipeline(monthly_booked_service_sales_by_customer, subsidiary, subsidiary_customers,\"Service\")"
   ],
   "id": "6b849b91ae8c280e",
   "outputs": [],
   "execution_count": null
  },
  {
   "metadata": {},
   "cell_type": "code",
   "source": [
    "# analyze monthly booked product or service sales, profit, and margin % by subsidiary and explain trends for each subsidiary for all customers (no filtering)\n",
    "def analyze_monthly_booked_sales_profit_margin_by_subsidiary(df: pd.DataFrame, subsidiary: str, subset: Literal[\"Product\", \"Service\", \"Product & Service\"] = \"Products & Services\") -> None:\n",
    "    \"\"\"\n",
    "    Analyze the monthly booked sales, profit, and margin percentage for a given subsidiary.\n",
    "\n",
    "    Args:\n",
    "        df (pd.DataFrame): The input DataFrame containing customer sales data.\n",
    "        subsidiary (str): The name of the subsidiary to analyze.\n",
    "        subset (Literal[\"Product\", \"Service\", \"Product & Service\"], optional): The subset of data to analyze. Defaults to \"Products & Services\".\n",
    "\n",
    "    Returns:\n",
    "        None\n",
    "    \"\"\"\n",
    "    # Filter the DataFrame for the given subsidiary\n",
    "    df_filtered = df[df[\"subsidiary_name\"] == subsidiary]\n",
    "\n",
    "    # Plot the monthly booked sales, profit, and margin percentage\n",
    "    fig, ax = plt.subplots(3, 1, figsize=(12, 12))\n",
    "\n",
    "    df_filtered[\"total_booked_sales\"].plot(kind=\"bar\", ax=ax[0], title=f\"{subsidiary}: Monthly Booked {subset} Sales\", ylabel=\"Amount ($)\")\n",
    "    df_filtered[\"total_gross_profit\"].plot(kind=\"bar\", ax=ax[1], title=f\"{subsidiary}: Monthly Gross Profit\", ylabel=\"Amount ($)\")\n",
    "    df_filtered[\"avg_gross_margin_pct\"].plot(kind=\"line\", ax=ax[2], title=f\"{subsidiary}: Monthly Average Gross Margin (%)\", ylabel=\"Percent (%)\")\n",
    "\n",
    "    plt.tight_layout()\n",
    "    plt.show()\n"
   ],
   "id": "7c658367989f309c",
   "outputs": [],
   "execution_count": null
  },
  {
   "metadata": {},
   "cell_type": "code",
   "source": "subsidiaries = monthly_booked_service_sales_by_customer[\"subsidiary_name\"].unique()",
   "id": "907d45a0f508697a",
   "outputs": [],
   "execution_count": null
  },
  {
   "metadata": {},
   "cell_type": "code",
   "source": "monthly_booked_product_sales_by_customer",
   "id": "88f96fa2fcc89d36",
   "outputs": [],
   "execution_count": null
  },
  {
   "metadata": {},
   "cell_type": "code",
   "source": [
    "for subsidiary in subsidiaries:\n",
    "    analyze_monthly_booked_sales_profit_margin_by_subsidiary(monthly_booked_product_sales_by_customer, subsidiary, \"Product\")"
   ],
   "id": "8caa0dbc4c03256f",
   "outputs": [],
   "execution_count": null
  },
  {
   "metadata": {},
   "cell_type": "code",
   "source": [
    "# calculate total booked sales and gross profit for each sku and count number of orders of each sku\n",
    "def calculate_total_booked_sales_by_sku(df: pd.DataFrame, by_month: bool = False) -> pd.DataFrame:\n",
    "    \"\"\"\n",
    "    Calculate the total booked sales and gross profit for each SKU and count the number of orders for each SKU.\n",
    "\n",
    "    Args:\n",
    "        df (pd.DataFrame): The input DataFrame containing line item data.\n",
    "        by_month (bool, optional): Whether to calculate totals by month. Defaults to False.\n",
    "\n",
    "    Returns:\n",
    "        pd.DataFrame: A DataFrame with total booked sales, gross profit, and order count for each SKU.\n",
    "    \"\"\"\n",
    "    \n",
    "    # Group by SKU and calculate total booked sales, gross profit, and order count\n",
    "    grouped_df = df.groupby([\"sku\", \"item_name\", \"display_name\"]).agg(\n",
    "        total_booked_sales=('total_amount', 'sum'),\n",
    "        total_gross_profit=('gross_profit', 'sum'),\n",
    "        order_count=('sku', 'count'),\n",
    "        qty_sold=('quantity', 'sum')\n",
    "    ).reset_index()\n",
    "\n",
    "    grouped_df[\"qty_sold\"] = -1 * grouped_df[\"qty_sold\"]\n",
    "    grouped_df[\"avg_gross_profit\"] = grouped_df[\"total_gross_profit\"] / grouped_df[\"order_count\"]\n",
    "    grouped_df[\"avg_gross_margin_pct\"] = grouped_df[\"total_gross_profit\"] / grouped_df[\"total_booked_sales\"]\n",
    "    \n",
    "    # sort by total booked sales in descending order    \n",
    "    return grouped_df.sort_values(\"total_booked_sales\", ascending=False)"
   ],
   "id": "27f170971982a883",
   "outputs": [],
   "execution_count": null
  },
  {
   "metadata": {},
   "cell_type": "code",
   "source": "total_booked_sales_by_sku = calculate_total_booked_sales_by_sku(augmented_line_items)",
   "id": "8b5333119e7817",
   "outputs": [],
   "execution_count": null
  },
  {
   "metadata": {},
   "cell_type": "code",
   "source": "total_booked_sales_by_sku",
   "id": "58df19f07cc0144b",
   "outputs": [],
   "execution_count": null
  },
  {
   "metadata": {},
   "cell_type": "code",
   "source": [
    "# find all skus that do not have a material impact on margin calcs\n",
    "non_material_skus = total_booked_sales_by_sku[\n",
    "    (total_booked_sales_by_sku['avg_gross_profit'] <= 100) & \n",
    "    (total_booked_sales_by_sku['order_count'] <= 50)\n",
    "]"
   ],
   "id": "c89d84819b504960",
   "outputs": [],
   "execution_count": null
  },
  {
   "metadata": {},
   "cell_type": "code",
   "source": [
    "# remove all skus from augmented_line_items that are not in meaningful_skus\n",
    "material_line_items = augmented_line_items[~augmented_line_items[\"sku\"].isin(non_material_skus[\"sku\"])]\n",
    "\n",
    "# remove rows with zero quantity\n",
    "material_line_items = material_line_items[material_line_items[\"quantity\"] != 0]\n",
    "\n",
    "# remove rows with both zero total_amount and zero total_cost\n",
    "material_line_items = material_line_items[~((material_line_items[\"total_amount\"] == 0) & (material_line_items[\"total_cost\"] == 0))]\n",
    "\n",
    "# remove rows with gross profit percent less than -100%\n",
    "material_line_items = material_line_items[material_line_items[\"gross_profit_percent\"] >= -1.5]"
   ],
   "id": "8ea742d33d23f67c",
   "outputs": [],
   "execution_count": null
  },
  {
   "metadata": {},
   "cell_type": "code",
   "source": "material_line_items",
   "id": "dafdb0ebcc693a88",
   "outputs": [],
   "execution_count": null
  },
  {
   "metadata": {},
   "cell_type": "code",
   "source": [
    "# find top 200 skus by total booked sales for each subsidiary\n",
    "top_skus_by_subsidiary = material_line_items.groupby(\"subsidiary_name\").apply(lambda x: x.nlargest(200, \"total_amount\")).reset_index(drop=True)"
   ],
   "id": "b4f0f13ca19e4b24",
   "outputs": [],
   "execution_count": null
  },
  {
   "metadata": {},
   "cell_type": "code",
   "source": "top_skus_by_subsidiary",
   "id": "6bd380a5ebf74412",
   "outputs": [],
   "execution_count": null
  },
  {
   "metadata": {},
   "cell_type": "code",
   "source": "# calculate monthy sales, profit and margin for each top 200 sku by subsidiary\n",
   "id": "b7684ff3c05e55f6",
   "outputs": [],
   "execution_count": null
  },
  {
   "metadata": {},
   "cell_type": "code",
   "source": [
    "# calculate monthly total amount and total gross profit for each top 200 sku by subsidiary\n",
    "monthly_top_sku_sales_by_subsidiary = top_skus_by_subsidiary.groupby([top_skus_by_subsidiary[\"created_date\"].dt.to_period(\"M\"),\"subsidiary_name\", \"sku\", \"custom_manufacturer\", \"manufacturer\", \"item_name\", \"display_name\"]).agg(\n",
    "    total_amount=('total_amount', 'sum'),\n",
    "    total_gross_profit=('gross_profit', 'sum')\n",
    ").reset_index()\n",
    "\n",
    "monthly_top_sku_sales_by_subsidiary[\"avg_gross_margin_pct\"] = monthly_top_sku_sales_by_subsidiary[\"total_gross_profit\"] / monthly_top_sku_sales_by_subsidiary[\"total_amount\"]"
   ],
   "id": "cf78ba9f6af9aaa5",
   "outputs": [],
   "execution_count": null
  },
  {
   "metadata": {},
   "cell_type": "code",
   "source": "monthly_top_sku_sales_by_subsidiary",
   "id": "6aa67e470a97746b",
   "outputs": [],
   "execution_count": null
  },
  {
   "metadata": {},
   "cell_type": "code",
   "source": [
    "def calculate_ttm_avg(df: pd.DataFrame) -> pd.DataFrame:\n",
    "    \"\"\"\n",
    "    Calculate trailing twelve months (TTM) average gross margin percentage for each SKU.\n",
    "    \n",
    "    Args:\n",
    "        df (pd.DataFrame): The DataFrame containing monthly gross margin data.\n",
    "    \n",
    "    Returns:\n",
    "        pd.DataFrame: The original DataFrame with an additional 'ttm_avg_gross_margin_percent' column.\n",
    "    \"\"\"\n",
    "    # Sort the DataFrame\n",
    "    df = df.sort_values(by=[\"subsidiary_name\", \"sku\", \"created_date\"])\n",
    "    \n",
    "    # Calculate TTM average using rolling window\n",
    "    df[\"ttm_avg_gross_margin_percent\"] = (\n",
    "        df.groupby([\"subsidiary_name\", \"sku\"])[\"avg_gross_margin_pct\"]\n",
    "        .rolling(window=12, min_periods=1)\n",
    "        .mean()\n",
    "        .reset_index(level=[0, 1], drop=True)\n",
    "    )\n",
    "    \n",
    "    return df"
   ],
   "id": "a7337b64080a68f3",
   "outputs": [],
   "execution_count": null
  },
  {
   "metadata": {},
   "cell_type": "code",
   "source": "monthly_top_sku_sales_by_subsidiary = calculate_ttm_avg(monthly_top_sku_sales_by_subsidiary)",
   "id": "bc0cf4145620e825",
   "outputs": [],
   "execution_count": null
  },
  {
   "metadata": {},
   "cell_type": "code",
   "source": "monthly_top_sku_sales_by_subsidiary",
   "id": "1e8dc78a1bf1210d",
   "outputs": [],
   "execution_count": null
  },
  {
   "metadata": {},
   "cell_type": "code",
   "source": [
    "def fill_missing_months(df: pd.DataFrame) -> pd.DataFrame:\n",
    "    \"\"\"\n",
    "    Fill in missing months for each SKU and carry forward the avg_gross_margin_percent.\n",
    "\n",
    "    Args:\n",
    "        df (pd.DataFrame): The input DataFrame containing monthly gross margin data.\n",
    "\n",
    "    Returns:\n",
    "        pd.DataFrame: A DataFrame with missing months filled in and avg_gross_margin_percent carried forward.\n",
    "    \"\"\"\n",
    "\n",
    "    # Ensure created_date is a datetime type\n",
    "    if df[\"created_date\"].dtype == \"period[M]\":  # Check if created_date is a period type\n",
    "        df[\"created_date\"] = df[\"created_date\"].dt.to_timestamp()  # Convert Period to Timestamp\n",
    "\n",
    "    # Set up a complete date range for the 36 months\n",
    "    full_date_range = pd.date_range(start=df[\"created_date\"].min(), end=df[\"created_date\"].max(), freq='MS')\n",
    "\n",
    "    # Create an empty list to hold the filled data for each SKU and subsidiary combination\n",
    "    filled_data = []\n",
    "\n",
    "    # Iterate over each SKU and subsidiary combination\n",
    "    for (subsidiary, sku), group in df.groupby([\"subsidiary_name\", \"sku\"]):\n",
    "        # Set created_date as the index for reindexing\n",
    "        group = group.set_index(\"created_date\")\n",
    "\n",
    "        # Reindex to the full date range\n",
    "        group = group.reindex(full_date_range)\n",
    "\n",
    "        # Set subsidiary_name and sku columns after reindexing\n",
    "        group[\"subsidiary_name\"] = subsidiary\n",
    "        group[\"sku\"] = sku\n",
    "\n",
    "        # Forward fill missing avg_gross_margin_percent values\n",
    "        group[\"avg_gross_margin_percent\"] = group[\"avg_gross_margin_pct\"].ffill()\n",
    "\n",
    "        # Fill other missing columns with appropriate values\n",
    "        group[\"total_amount\"] = group[\"total_amount\"].fillna(0)  # Fill missing total_amount with 0\n",
    "        group[\"total_gross_profit\"] = group[\"total_gross_profit\"].fillna(0)  # Fill missing total_gross_profit with 0\n",
    "\n",
    "        # Reset the index back to created_date\n",
    "        group = group.reset_index().rename(columns={\"index\": \"created_date\"})\n",
    "\n",
    "        # Append the filled group to the list\n",
    "        filled_data.append(group)\n",
    "\n",
    "    # Concatenate all the filled groups back together\n",
    "    filled_df = pd.concat(filled_data, ignore_index=True)\n",
    "\n",
    "    return filled_df"
   ],
   "id": "efac6d9e8c9ae42c",
   "outputs": [],
   "execution_count": null
  },
  {
   "metadata": {},
   "cell_type": "code",
   "source": "monthly_top_sku_sales_by_subsidiary = fill_missing_months(monthly_top_sku_sales_by_subsidiary)",
   "id": "6c2c9304ee0a6ff",
   "outputs": [],
   "execution_count": null
  },
  {
   "metadata": {},
   "cell_type": "code",
   "source": "monthly_top_sku_sales_by_subsidiary",
   "id": "d86311bc9c5cf7e3",
   "outputs": [],
   "execution_count": null
  },
  {
   "metadata": {},
   "cell_type": "code",
   "source": [
    "def identify_trend(df: pd.DataFrame) -> pd.DataFrame:\n",
    "    \"\"\"\n",
    "    Identify SKUs with upward or downward trends in average gross margin percent over TTM.\n",
    "    \n",
    "    Args:\n",
    "        df (pd.DataFrame): The DataFrame with TTM average gross margin percentage.\n",
    "    \n",
    "    Returns:\n",
    "        pd.DataFrame: A DataFrame containing SKUs with trend information.\n",
    "    \"\"\"\n",
    "    trend_results = []\n",
    "\n",
    "    # Iterate over each SKU in each subsidiary\n",
    "    for (subsidiary, sku), group in df.groupby([\"subsidiary_name\", \"sku\"]):\n",
    "        group = group[-12:]  # Take the last 12 months (TTM)\n",
    "\n",
    "        # Prepare data for linear regression\n",
    "        X = np.arange(len(group)).reshape(-1, 1)  # Time index as the feature\n",
    "        y = group[\"ttm_avg_gross_margin_percent\"].values\n",
    "\n",
    "        if len(X) < 2:  # Skip if there are not enough data points\n",
    "            continue\n",
    "\n",
    "        # Fit Linear Regression\n",
    "        model = LinearRegression()\n",
    "        model.fit(X, y)\n",
    "        slope = model.coef_[0]  # The slope of the regression line\n",
    "\n",
    "        trend_direction = \"upward\" if slope > 0 else \"downward\" if slope < 0 else \"stable\"\n",
    "        margin_change = y[-1] - y[0]  # Calculate the change in margin over the TTM\n",
    "\n",
    "        # Append the results\n",
    "        trend_results.append({\n",
    "            \"subsidiary_name\": subsidiary,\n",
    "            \"sku\": sku,\n",
    "            \"trend_direction\": trend_direction,\n",
    "            \"margin_change\": margin_change,\n",
    "            \"slope\": slope\n",
    "        })\n",
    "\n",
    "    # Convert results to a DataFrame\n",
    "    trend_df = pd.DataFrame(trend_results)\n",
    "    \n",
    "    return trend_df"
   ],
   "id": "91d34e08929860d7",
   "outputs": [],
   "execution_count": null
  },
  {
   "metadata": {},
   "cell_type": "code",
   "source": "trend_results = identify_trend(monthly_top_sku_sales_by_subsidiary)",
   "id": "d27e727f81fc497e",
   "outputs": [],
   "execution_count": null
  },
  {
   "metadata": {},
   "cell_type": "code",
   "source": "trend_results",
   "id": "77d11475f113f7b6",
   "outputs": [],
   "execution_count": null
  },
  {
   "metadata": {},
   "cell_type": "code",
   "source": "",
   "id": "c2e779d743beb109",
   "outputs": [],
   "execution_count": null
  }
 ],
 "metadata": {
  "kernelspec": {
   "display_name": "Python 3",
   "language": "python",
   "name": "python3"
  },
  "language_info": {
   "codemirror_mode": {
    "name": "ipython",
    "version": 2
   },
   "file_extension": ".py",
   "mimetype": "text/x-python",
   "name": "python",
   "nbconvert_exporter": "python",
   "pygments_lexer": "ipython2",
   "version": "2.7.6"
  }
 },
 "nbformat": 4,
 "nbformat_minor": 5
}
