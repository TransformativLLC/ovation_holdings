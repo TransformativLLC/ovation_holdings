{
 "cells": [
  {
   "metadata": {
    "ExecuteTime": {
     "end_time": "2025-05-07T19:38:02.954707Z",
     "start_time": "2025-05-07T19:38:02.234895Z"
    }
   },
   "cell_type": "code",
   "source": [
    "# import libraries\n",
    "\n",
    "# Azure Data Lake libraries\n",
    "import common.utils.azure_data_lake_interface as adl\n",
    "\n",
    "# config file reader\n",
    "from common.utils.configuration_management import load_config"
   ],
   "id": "a45d1baa756199ec",
   "outputs": [],
   "execution_count": 1
  },
  {
   "metadata": {
    "ExecuteTime": {
     "end_time": "2025-05-07T19:38:49.231408Z",
     "start_time": "2025-05-07T19:38:49.227400Z"
    }
   },
   "cell_type": "code",
   "source": [
    "# connect to datalake\n",
    "config = load_config(\"../../common/config/datalake_config.json\")\n",
    "service_client = adl.get_azure_service_client(config[\"blob_url\"])\n",
    "file_system_client = adl.get_azure_file_system_client(service_client, config[\"target_container\"])"
   ],
   "id": "a8db56a6c264e15f",
   "outputs": [],
   "execution_count": 3
  },
  {
   "metadata": {
    "ExecuteTime": {
     "end_time": "2025-05-07T21:45:22.108711Z",
     "start_time": "2025-05-07T19:40:47.967619Z"
    }
   },
   "cell_type": "code",
   "source": [
    "\"\"\"\n",
    "convert_json_to_parquet(service_client: DataLakeServiceClient, source_container_name: str, \n",
    "                        source_directory: str, target_container_name: str = \"consolidated\", target_directory: str = \"raw\")\n",
    "\"\"\"\n",
    "\n",
    "transactions = [\"Estimate\", \"SalesOrd\", \"CustInvc\", \"PurchOrd\"]\n",
    "other = [\"customer\", \"vendor\", \"item\"]\n",
    "all = transactions + other\n",
    "\n",
    "data_to_convert = all   # or unique subset as list (e.g., [\"customer\", \"Estimate\"])\n",
    "\n",
    "for json_source in data_to_convert:\n",
    "    if json_source in other:\n",
    "        adl.convert_json_to_parquet(service_client, \"netsuite\", json_source)\n",
    "    else:\n",
    "        # Convert both main transaction and its line df\n",
    "        adl.convert_json_to_parquet(service_client, \"netsuite\", f\"transaction/{json_source}\")\n",
    "        adl.convert_json_to_parquet(service_client, \"netsuite\", f\"transaction/{json_source}ItemLineItems\")"
   ],
   "id": "da9d91ccd7834736",
   "outputs": [
    {
     "name": "stderr",
     "output_type": "stream",
     "text": [
      "Processing transaction/Estimate Files: 100%|██████████| 141855/141855 [12:06<00:00, 195.21it/s]\n",
      "Processing transaction/EstimateItemLineItems Files: 100%|██████████| 141846/141846 [11:52<00:00, 199.16it/s]\n",
      "Processing transaction/SalesOrd Files: 100%|██████████| 192373/192373 [16:23<00:00, 195.69it/s]\n",
      "Processing transaction/SalesOrdItemLineItems Files: 100%|██████████| 171700/171700 [16:29<00:00, 173.58it/s] \n",
      "Processing transaction/CustInvc Files: 100%|██████████| 185418/185418 [16:55<00:00, 182.54it/s]\n",
      "Processing transaction/CustInvcItemLineItems Files: 100%|██████████| 185510/185510 [15:48<00:00, 195.61it/s]\n",
      "Processing transaction/PurchOrd Files: 100%|██████████| 72407/72407 [06:26<00:00, 187.13it/s]\n",
      "Processing transaction/PurchOrdItemLineItems Files: 100%|██████████| 72390/72390 [06:12<00:00, 194.25it/s]\n",
      "Processing customer Files: 100%|██████████| 47053/47053 [04:20<00:00, 180.60it/s]\n",
      "Processing vendor Files: 100%|██████████| 7090/7090 [00:34<00:00, 206.54it/s]\n",
      "Processing item Files: 100%|██████████| 102497/102497 [08:42<00:00, 196.14it/s]\n"
     ]
    }
   ],
   "execution_count": 4
  },
  {
   "metadata": {},
   "cell_type": "code",
   "outputs": [],
   "execution_count": null,
   "source": "",
   "id": "3a30c3e25cf06cfc"
  }
 ],
 "metadata": {
  "kernelspec": {
   "display_name": "Python 3",
   "language": "python",
   "name": "python3"
  },
  "language_info": {
   "codemirror_mode": {
    "name": "ipython",
    "version": 2
   },
   "file_extension": ".py",
   "mimetype": "text/x-python",
   "name": "python",
   "nbconvert_exporter": "python",
   "pygments_lexer": "ipython2",
   "version": "2.7.6"
  }
 },
 "nbformat": 4,
 "nbformat_minor": 5
}
