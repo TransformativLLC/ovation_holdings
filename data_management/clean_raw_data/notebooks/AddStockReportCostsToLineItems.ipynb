{
 "cells": [
  {
   "cell_type": "code",
   "id": "initial_id",
   "metadata": {
    "collapsed": true,
    "ExecuteTime": {
     "end_time": "2025-04-23T18:38:16.406835Z",
     "start_time": "2025-04-23T18:38:12.944345Z"
    }
   },
   "source": [
    "# Azure Data Lake libraries\n",
    "import azure_data_lake_interface as adl\n",
    "\n",
    "# Data analysis libraries\n",
    "import pandas as pd\n",
    "\n",
    "# Helper function libraries\n",
    "from helper_functions import load_config"
   ],
   "outputs": [],
   "execution_count": 1
  },
  {
   "metadata": {
    "ExecuteTime": {
     "end_time": "2025-04-23T18:38:18.516590Z",
     "start_time": "2025-04-23T18:38:18.512204Z"
    }
   },
   "cell_type": "code",
   "source": [
    "# attach to the data lake\n",
    "config = load_config(\"config/datalake_config.json\", flush_cache=True)\n",
    "service_client = adl.get_azure_service_client(config[\"blob_url\"])\n",
    "file_system_client = adl.get_azure_file_system_client(service_client, \"consolidated\")"
   ],
   "id": "280fed998d959481",
   "outputs": [],
   "execution_count": 2
  },
  {
   "metadata": {
    "ExecuteTime": {
     "end_time": "2025-04-23T18:38:38.336503Z",
     "start_time": "2025-04-23T18:38:19.608847Z"
    }
   },
   "cell_type": "code",
   "source": [
    "# get transactions and line items\n",
    "transaction_type = \"CustInvc\"\n",
    "transactions, line_items = adl.get_transactions_and_line_items(file_system_client, transaction_type)\n",
    "len(transactions), len(line_items)"
   ],
   "id": "7c8b1dd0e2f84735",
   "outputs": [
    {
     "data": {
      "text/plain": [
       "(182825, 636870)"
      ]
     },
     "execution_count": 3,
     "metadata": {},
     "output_type": "execute_result"
    }
   ],
   "execution_count": 3
  },
  {
   "metadata": {
    "ExecuteTime": {
     "end_time": "2025-04-23T18:38:57.871671Z",
     "start_time": "2025-04-23T18:38:53.548975Z"
    }
   },
   "cell_type": "code",
   "source": [
    "# get the stock report data\n",
    "inventory_costs = adl.get_parquet_file_from_data_lake(file_system_client, \"cleaned/netsuite\", \"monthly_stock_reports_2022-01-2025-03_cleaned.parquet\")\n",
    "len(inventory_costs)"
   ],
   "id": "1332558c781cb8ad",
   "outputs": [
    {
     "data": {
      "text/plain": [
       "567910"
      ]
     },
     "execution_count": 4,
     "metadata": {},
     "output_type": "execute_result"
    }
   ],
   "execution_count": 4
  },
  {
   "metadata": {},
   "cell_type": "code",
   "outputs": [],
   "execution_count": null,
   "source": "",
   "id": "72be6fd89dcf3f36"
  }
 ],
 "metadata": {
  "kernelspec": {
   "display_name": "Python 3",
   "language": "python",
   "name": "python3"
  },
  "language_info": {
   "codemirror_mode": {
    "name": "ipython",
    "version": 2
   },
   "file_extension": ".py",
   "mimetype": "text/x-python",
   "name": "python",
   "nbconvert_exporter": "python",
   "pygments_lexer": "ipython2",
   "version": "2.7.6"
  }
 },
 "nbformat": 4,
 "nbformat_minor": 5
}
