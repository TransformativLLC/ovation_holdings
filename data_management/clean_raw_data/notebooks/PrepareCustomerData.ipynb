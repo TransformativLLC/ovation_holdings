{
 "cells": [
  {
   "cell_type": "code",
   "id": "initial_id",
   "metadata": {
    "collapsed": true,
    "ExecuteTime": {
     "end_time": "2025-05-04T22:29:45.394539Z",
     "start_time": "2025-05-04T22:29:44.582409Z"
    }
   },
   "source": [
    "# Standard libraries\n",
    "import datetime\n",
    "\n",
    "# Azure Data Lake libraries\n",
    "import common.utils.azure_data_lake_interface as adl\n",
    "\n",
    "# Data analysis libraries\n",
    "import pandas as pd\n",
    "\n",
    "# Data manipulation libraries\n",
    "from common.utils.data_modifications import convert_json_strings_to_python_types\n",
    "\n",
    "# config\n",
    "from common.utils.configuration_management import load_config"
   ],
   "outputs": [],
   "execution_count": 1
  },
  {
   "metadata": {
    "ExecuteTime": {
     "end_time": "2025-05-04T22:29:51.567167Z",
     "start_time": "2025-05-04T22:29:51.564393Z"
    }
   },
   "cell_type": "code",
   "source": [
    "def clean_and_filter_trans_dataframe(df, start_date, end_date, customers_df):\n",
    "    # Convert to datetime and float\n",
    "    df['created_date'] = pd.to_datetime(df['created_date'], errors='coerce')\n",
    "    df['net_amount'] = df['net_amount'].astype(float)\n",
    "\n",
    "    # Filter rows in-place\n",
    "    df = df[(df['created_date'] >= start_date) & (df['created_date'] <= end_date)]\n",
    "\n",
    "    # Drop transactions with customer id's that are not in customers table\n",
    "    df = df[df[\"customer_id\"].isin(customers_df[\"id\"])]\n",
    "\n",
    "    return df"
   ],
   "id": "a99cbc25e999e02c",
   "outputs": [],
   "execution_count": 3
  },
  {
   "metadata": {
    "ExecuteTime": {
     "end_time": "2025-05-04T22:30:00.005405Z",
     "start_time": "2025-05-04T22:30:00.000586Z"
    }
   },
   "cell_type": "code",
   "source": [
    "def clean_and_filter_customer_data(customers: pd.DataFrame, active_cust_ids: list) -> pd.DataFrame:\n",
    "\n",
    "    # get customers with ids that appear in active_customer_ids\n",
    "    active_customers = customers[customers['id'].isin(active_cust_ids)].copy()\n",
    "\n",
    "    # replace null values with something more descriptive\n",
    "    active_customers.loc[active_customers['company_name'] == 'null', 'company_name'] = 'Unknown'\n",
    "    active_customers.loc[active_customers['end_market'] == 'null', 'end_market'] = 'Not Assigned'\n",
    "\n",
    "    # if primary sales rep is null and ai sales rep is null, set primary sales rep to 'Not Assigned'\n",
    "    active_customers.loc[(active_customers['primary_sales_rep'] == 'null') & (active_customers['ai_sales_rep'] == 'null'), 'primary_sales_rep'] = 'Not Assigned'\n",
    "\n",
    "    # if either primary sales rep or ai sales rep is not null, set the value of new column 'sales_rep' to the non-null value, but if they are both non null and don't match, set to 'Multiple'\n",
    "    active_customers['sales_rep'] = 'Not Assigned'\n",
    "    active_customers.loc[(active_customers['primary_sales_rep'] != 'null') & (active_customers['ai_sales_rep'] == 'null'), 'sales_rep'] = active_customers['primary_sales_rep']\n",
    "    active_customers.loc[(active_customers['primary_sales_rep'] == 'null') & (active_customers['ai_sales_rep'] != 'null'), 'sales_rep'] = active_customers['ai_sales_rep']\n",
    "    active_customers.loc[(active_customers['primary_sales_rep'] != 'null') & (active_customers['ai_sales_rep'] != 'null') & (active_customers['primary_sales_rep'] != active_customers['ai_sales_rep']), 'sales_rep'] = 'Multiple'\n",
    "\n",
    "    # fill in values for category that are 'null'\n",
    "    active_customers.loc[active_customers['category'] == 'null', 'category'] = 'Not Assigned'\n",
    "\n",
    "    # rename id to customer_id so it can be joined more easily with transaction data\n",
    "    active_customers.rename(columns={'id': 'customer_id'}, inplace=True)\n",
    "\n",
    "    # drop column that are all null\n",
    "    drop_cols = ['links', 'account_number', 'as_cust_serv_rep', 'control_tech_sales_rep', 'glpc_sales_rep', 'jmi_sales_rep',\n",
    "                 'promac_sales_rep', 'psi_sales_rep', 'shipping_item', 'url']\n",
    "    active_customers.drop(drop_cols, axis=1, inplace=True)\n",
    "\n",
    "    active_customers = convert_json_strings_to_python_types(active_customers)\n",
    "\n",
    "    return active_customers"
   ],
   "id": "f8ec37ebbd05446e",
   "outputs": [],
   "execution_count": 4
  },
  {
   "metadata": {
    "ExecuteTime": {
     "end_time": "2025-05-04T22:30:06.066336Z",
     "start_time": "2025-05-04T22:30:06.062641Z"
    }
   },
   "cell_type": "code",
   "source": [
    "# attach to the data lake\n",
    "config = load_config(\"common/config/datalake_config.json\", flush_cache=True)\n",
    "service_client = adl.get_azure_service_client(config[\"blob_url\"])\n",
    "\n",
    "container_name = \"consolidated\"\n",
    "file_system_client = adl.get_azure_file_system_client(service_client, container_name)"
   ],
   "id": "280fed998d959481",
   "outputs": [],
   "execution_count": 5
  },
  {
   "metadata": {
    "ExecuteTime": {
     "end_time": "2025-05-04T22:30:09.176385Z",
     "start_time": "2025-05-04T22:30:07.536125Z"
    }
   },
   "cell_type": "code",
   "source": [
    "# get customer data\n",
    "source_folder = \"raw/netsuite\"\n",
    "customers = adl.get_parquet_file_from_data_lake(file_system_client, source_folder, \"customer_raw.parquet\")"
   ],
   "id": "cdd5e9a60b7a777b",
   "outputs": [],
   "execution_count": 6
  },
  {
   "metadata": {
    "ExecuteTime": {
     "end_time": "2025-05-04T22:30:40.787605Z",
     "start_time": "2025-05-04T22:30:28.338660Z"
    }
   },
   "cell_type": "code",
   "source": [
    "# get transaction data\n",
    "estimates = adl.get_parquet_file_from_data_lake(file_system_client, source_folder, \"transaction/Estimate_raw.parquet\")\n",
    "sales_orders = adl.get_parquet_file_from_data_lake(file_system_client, source_folder, \"transaction/SalesOrd_raw.parquet\")\n",
    "invoices = adl.get_parquet_file_from_data_lake(file_system_client, source_folder, \"transaction/CustInvc_raw.parquet\")"
   ],
   "id": "7c8b1dd0e2f84735",
   "outputs": [],
   "execution_count": 7
  },
  {
   "metadata": {
    "ExecuteTime": {
     "end_time": "2025-05-04T22:30:42.342694Z",
     "start_time": "2025-05-04T22:30:41.758557Z"
    }
   },
   "cell_type": "code",
   "source": [
    "# clean and filter all transactions\n",
    "start_date = '2022-01-01'\n",
    "end_date = datetime.date.today().strftime('%Y-%m-%d')\n",
    "\n",
    "estimates = clean_and_filter_trans_dataframe(estimates, start_date, end_date, customers)\n",
    "sales_orders = clean_and_filter_trans_dataframe(sales_orders, start_date, end_date, customers)\n",
    "invoices = clean_and_filter_trans_dataframe(invoices, start_date, end_date, customers)"
   ],
   "id": "582186027579e0e0",
   "outputs": [],
   "execution_count": 8
  },
  {
   "metadata": {
    "ExecuteTime": {
     "end_time": "2025-05-04T22:35:48.411781Z",
     "start_time": "2025-05-04T22:35:48.265505Z"
    }
   },
   "cell_type": "code",
   "source": [
    "# combine customer ids in transaction to id active customers\n",
    "active_customer_ids = set(estimates[\"customer_id\"].unique()).union(\n",
    "    sales_orders[\"customer_id\"].unique(), invoices[\"customer_id\"].unique()\n",
    ")\n",
    "\n",
    "active_customers = clean_and_filter_customer_data(customers, active_customer_ids)"
   ],
   "id": "dd89f5a536736ae2",
   "outputs": [],
   "execution_count": 16
  },
  {
   "metadata": {
    "ExecuteTime": {
     "end_time": "2025-05-04T22:35:53.295867Z",
     "start_time": "2025-05-04T22:35:52.410621Z"
    }
   },
   "cell_type": "code",
   "source": [
    "# save in the data lake\n",
    "adl.save_df_as_parquet_in_data_lake(active_customers, file_system_client, \"cleaned/netsuite\", \"customer_cleaned.parquet\")"
   ],
   "id": "d10b384b5e120e7d",
   "outputs": [],
   "execution_count": 17
  },
  {
   "metadata": {},
   "cell_type": "code",
   "source": "",
   "id": "56f78c86e875c9ba",
   "outputs": [],
   "execution_count": null
  }
 ],
 "metadata": {
  "kernelspec": {
   "display_name": "Python 3",
   "language": "python",
   "name": "python3"
  },
  "language_info": {
   "codemirror_mode": {
    "name": "ipython",
    "version": 2
   },
   "file_extension": ".py",
   "mimetype": "text/x-python",
   "name": "python",
   "nbconvert_exporter": "python",
   "pygments_lexer": "ipython2",
   "version": "2.7.6"
  }
 },
 "nbformat": 4,
 "nbformat_minor": 5
}
