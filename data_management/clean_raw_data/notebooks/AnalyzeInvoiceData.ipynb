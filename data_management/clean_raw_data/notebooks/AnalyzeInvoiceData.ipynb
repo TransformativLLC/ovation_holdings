{
 "cells": [
  {
   "cell_type": "code",
   "id": "71bae9641139fac5",
   "metadata": {
    "ExecuteTime": {
     "end_time": "2025-05-09T03:46:13.110195Z",
     "start_time": "2025-05-09T03:46:12.240863Z"
    }
   },
   "source": [
    "# Azure Data Lake libraries\n",
    "import common.utils.azure_data_lake_interface as adl\n",
    "\n",
    "# Data analysis libraries\n",
    "import pandas as pd\n",
    "\n",
    "# Helper function libraries\n",
    "from importlib.resources import files\n",
    "from common.utils.configuration_management import load_config"
   ],
   "outputs": [],
   "execution_count": 1
  },
  {
   "metadata": {
    "ExecuteTime": {
     "end_time": "2025-05-09T03:46:13.778763Z",
     "start_time": "2025-05-09T03:46:13.773969Z"
    }
   },
   "cell_type": "code",
   "source": [
    "# attach to the data lake\n",
    "file_path = files(\"common.config\") / \"datalake_config.json\"\n",
    "config = load_config(str(file_path))\n",
    "service_client = adl.get_azure_service_client(config[\"blob_url\"])\n",
    "file_system_client = adl.get_azure_file_system_client(service_client, \"consolidated\")"
   ],
   "id": "b43d58c126011244",
   "outputs": [],
   "execution_count": 2
  },
  {
   "metadata": {
    "ExecuteTime": {
     "end_time": "2025-05-09T03:46:17.551070Z",
     "start_time": "2025-05-09T03:46:16.343538Z"
    }
   },
   "cell_type": "code",
   "source": [
    "# get data\n",
    "customers = adl.get_parquet_file_from_data_lake(file_system_client, \"cleaned/netsuite\", \"customer_cleaned.parquet\")"
   ],
   "id": "a17d31ff46f49cb",
   "outputs": [],
   "execution_count": 3
  },
  {
   "metadata": {
    "ExecuteTime": {
     "end_time": "2025-05-09T03:46:25.569160Z",
     "start_time": "2025-05-09T03:46:18.515024Z"
    }
   },
   "cell_type": "code",
   "source": "transactions = adl.get_parquet_file_from_data_lake(file_system_client, \"raw/netsuite\", \"transaction/CustInvc_raw.parquet\")",
   "id": "573c537797b65df5",
   "outputs": [],
   "execution_count": 4
  },
  {
   "metadata": {
    "ExecuteTime": {
     "end_time": "2025-05-09T03:46:30.032444Z",
     "start_time": "2025-05-09T03:46:30.012695Z"
    }
   },
   "cell_type": "code",
   "source": "transactions['customer_id'] = transactions['customer_id'].astype(int)",
   "id": "fd1459966a930c52",
   "outputs": [],
   "execution_count": 5
  },
  {
   "metadata": {
    "ExecuteTime": {
     "end_time": "2025-05-09T03:46:31.256738Z",
     "start_time": "2025-05-09T03:46:31.082060Z"
    }
   },
   "cell_type": "code",
   "source": "save_transactions = transactions.copy()",
   "id": "initial_id",
   "outputs": [],
   "execution_count": 6
  },
  {
   "metadata": {
    "ExecuteTime": {
     "end_time": "2025-05-09T03:46:34.237067Z",
     "start_time": "2025-05-09T03:46:34.223224Z"
    }
   },
   "cell_type": "code",
   "source": [
    "missing = customers[customers.subsidiary_name.isna()]\n",
    "missing"
   ],
   "id": "edbea387b2d84128",
   "outputs": [
    {
     "data": {
      "text/plain": [
       "Empty DataFrame\n",
       "Columns: [ai_sales_rep, category, company_name, credit_limit, customer_number, customer_priority, datecreated, default_billing_address, email, end_market, entityid, first_order_date, first_sale_date, customer_id, inactive, last_order_date, last_sale_date, lastmodifieddate, lead_source, on_credit_hold, overdue_balance, parent_company, phone, primary_sales_rep, primary_service_location, subsidiary_name, total_balance, unbilled_orders, sales_rep]\n",
       "Index: []\n",
       "\n",
       "[0 rows x 29 columns]"
      ],
      "text/html": [
       "<div>\n",
       "<style scoped>\n",
       "    .dataframe tbody tr th:only-of-type {\n",
       "        vertical-align: middle;\n",
       "    }\n",
       "\n",
       "    .dataframe tbody tr th {\n",
       "        vertical-align: top;\n",
       "    }\n",
       "\n",
       "    .dataframe thead th {\n",
       "        text-align: right;\n",
       "    }\n",
       "</style>\n",
       "<table border=\"1\" class=\"dataframe\">\n",
       "  <thead>\n",
       "    <tr style=\"text-align: right;\">\n",
       "      <th></th>\n",
       "      <th>ai_sales_rep</th>\n",
       "      <th>category</th>\n",
       "      <th>company_name</th>\n",
       "      <th>credit_limit</th>\n",
       "      <th>customer_number</th>\n",
       "      <th>customer_priority</th>\n",
       "      <th>datecreated</th>\n",
       "      <th>default_billing_address</th>\n",
       "      <th>email</th>\n",
       "      <th>end_market</th>\n",
       "      <th>...</th>\n",
       "      <th>on_credit_hold</th>\n",
       "      <th>overdue_balance</th>\n",
       "      <th>parent_company</th>\n",
       "      <th>phone</th>\n",
       "      <th>primary_sales_rep</th>\n",
       "      <th>primary_service_location</th>\n",
       "      <th>subsidiary_name</th>\n",
       "      <th>total_balance</th>\n",
       "      <th>unbilled_orders</th>\n",
       "      <th>sales_rep</th>\n",
       "    </tr>\n",
       "  </thead>\n",
       "  <tbody>\n",
       "  </tbody>\n",
       "</table>\n",
       "<p>0 rows × 29 columns</p>\n",
       "</div>"
      ]
     },
     "execution_count": 7,
     "metadata": {},
     "output_type": "execute_result"
    }
   ],
   "execution_count": 7
  },
  {
   "metadata": {
    "ExecuteTime": {
     "end_time": "2025-05-09T03:47:45.747370Z",
     "start_time": "2025-05-09T03:47:45.655974Z"
    }
   },
   "cell_type": "code",
   "source": "transactions = transactions[transactions.customer_id.isin(customers.customer_id)]",
   "id": "f79a886f832e7441",
   "outputs": [],
   "execution_count": 8
  },
  {
   "metadata": {
    "ExecuteTime": {
     "end_time": "2025-05-09T03:47:48.686990Z",
     "start_time": "2025-05-09T03:47:48.467434Z"
    }
   },
   "cell_type": "code",
   "source": [
    "transactions = transactions.merge(\n",
    "    customers[[\"customer_id\", \"company_name\", \"subsidiary_name\", \"end_market\", \"sales_rep\"]],\n",
    "    on=\"customer_id\",\n",
    "    how=\"left\")"
   ],
   "id": "8a89bea61b2e103c",
   "outputs": [],
   "execution_count": 9
  },
  {
   "metadata": {
    "ExecuteTime": {
     "end_time": "2025-05-09T03:47:50.615694Z",
     "start_time": "2025-05-09T03:47:50.604770Z"
    }
   },
   "cell_type": "code",
   "source": "transactions.subsidiary_name.isna().sum()",
   "id": "1ad3b1dc996086f5",
   "outputs": [
    {
     "data": {
      "text/plain": [
       "np.int64(0)"
      ]
     },
     "execution_count": 10,
     "metadata": {},
     "output_type": "execute_result"
    }
   ],
   "execution_count": 10
  },
  {
   "metadata": {},
   "cell_type": "code",
   "source": [
    "top_buy_resale_manufacturers = buy_resales.manufacturer.value_counts()[0:20]\n",
    "top_buy_resale_manufacturers"
   ],
   "id": "3dc4f8b6882832e1",
   "outputs": [],
   "execution_count": null
  },
  {
   "metadata": {},
   "cell_type": "code",
   "source": "top_buy_resale_mfr_line_items = buy_resales[buy_resales.manufacturer.isin(top_buy_resale_manufacturers.index.to_list())]",
   "id": "ec8e43a6e7654bf0",
   "outputs": [],
   "execution_count": null
  },
  {
   "metadata": {},
   "cell_type": "code",
   "source": [
    "top_buy_resale_mfr_line_items = top_buy_resale_mfr_line_items[(top_buy_resale_mfr_line_items.highest_recent_cost != 0) &\n",
    "                                                              (top_buy_resale_mfr_line_items.highest_quoted_cost != 0)]"
   ],
   "id": "f2e311cb299be827",
   "outputs": [],
   "execution_count": null
  },
  {
   "metadata": {},
   "cell_type": "code",
   "source": [
    "top_buy_resale_mfr_line_items['highest_cost'] = top_buy_resale_mfr_line_items.apply(\n",
    "    lambda x: x.highest_quoted_cost if pd.isna(x.highest_recent_cost)\n",
    "    else x.highest_recent_cost if pd.isna(x.highest_quoted_cost)\n",
    "    else max(x.highest_recent_cost, x.highest_quoted_cost), axis=1)"
   ],
   "id": "5945f9d5bf529e60",
   "outputs": [],
   "execution_count": null
  },
  {
   "metadata": {},
   "cell_type": "code",
   "source": "top_buy_resale_mfr_line_items",
   "id": "fc634a41d2611c68",
   "outputs": [],
   "execution_count": null
  },
  {
   "metadata": {},
   "cell_type": "code",
   "source": "top_buy_resale_mfr_line_items['Month'] = pd.to_datetime(top_buy_resale_mfr_line_items.created_date).dt.to_period('M')",
   "id": "cc778a5e21a9badd",
   "outputs": [],
   "execution_count": null
  },
  {
   "metadata": {},
   "cell_type": "code",
   "source": "top_buy_resale_mfr_line_items = top_buy_resale_mfr_line_items[top_buy_resale_mfr_line_items.unit_price > 0]",
   "id": "e7e62fcf1f64660",
   "outputs": [],
   "execution_count": null
  },
  {
   "metadata": {},
   "cell_type": "code",
   "source": [
    "top_buy_resale_mfr_line_items.loc[:, \"gross_unit_margin_pct\"] = round(((top_buy_resale_mfr_line_items.unit_price - top_buy_resale_mfr_line_items.highest_cost) / top_buy_resale_mfr_line_items.unit_price) * 100, 2)\n",
    "top_buy_resale_mfr_line_items"
   ],
   "id": "e44a50b5a0d4d472",
   "outputs": [],
   "execution_count": null
  },
  {
   "metadata": {},
   "cell_type": "code",
   "source": [
    "top_buy_resale_mfr_line_items = top_buy_resale_mfr_line_items[~top_buy_resale_mfr_line_items.item_name.str.startswith(\"Inactivated\")]\n",
    "top_buy_resale_mfr_line_items = top_buy_resale_mfr_line_items[~top_buy_resale_mfr_line_items.item_name.str.startswith(\"EXPEDITE\")]\n",
    "top_buy_resale_mfr_line_items = top_buy_resale_mfr_line_items[top_buy_resale_mfr_line_items.gross_unit_margin_pct >= 0]\n",
    "top_buy_resale_mfr_line_items"
   ],
   "id": "2f6a41e25272d1c7",
   "outputs": [],
   "execution_count": null
  },
  {
   "metadata": {},
   "cell_type": "code",
   "source": [
    "mfg_monthly_margin = top_buy_resale_mfr_line_items.groupby(['Month', 'manufacturer', 'level_2_category']).agg(\n",
    "    item_name=('item_name', 'first'),\n",
    "    item_type=('item_type', 'first'),\n",
    "    quantity=('quantity', 'sum'),\n",
    "    level_3_category=('level_3_category', 'first'),\n",
    "    total_sales=('total_amount', 'sum'),\n",
    "    avg_margin_pct=('gross_unit_margin_pct', 'mean'),\n",
    ").sort_index()\n",
    "\n",
    "assert isinstance(mfg_monthly_margin.index.levels[0], pd.PeriodIndex)"
   ],
   "id": "9767185a9806e2f1",
   "outputs": [],
   "execution_count": null
  },
  {
   "metadata": {},
   "cell_type": "code",
   "source": "mfg_monthly_margin",
   "id": "460716fb0fc5c79b",
   "outputs": [],
   "execution_count": null
  },
  {
   "metadata": {},
   "cell_type": "code",
   "source": [
    "import matplotlib.pyplot as plt\n",
    "from matplotlib.backends.backend_pdf import PdfPages\n",
    "\n",
    "# Create PDF file\n",
    "with PdfPages('analyses/buy_resale_margins_by_mfr_and_level2_category.pdf') as pdf:\n",
    "    # Loop through each manufacturer\n",
    "    for manufacturer in mfg_monthly_margin.index.get_level_values('manufacturer').unique():\n",
    "        # Get data for current manufacturer\n",
    "        mfg_data = mfg_monthly_margin.xs(manufacturer, level='manufacturer')\n",
    "\n",
    "        # Create plot\n",
    "        plt.figure(figsize=(12, 10))\n",
    "        for category in mfg_data.index.get_level_values('level_2_category').unique():\n",
    "            cat_data = mfg_data.xs(category, level='level_2_category')\n",
    "            plt.plot(cat_data.index.to_timestamp(), cat_data['avg_margin_pct'], marker='o', label=category)\n",
    "\n",
    "        plt.title(f'Monthly Margins by Category for {manufacturer}')\n",
    "        plt.xlabel('Month')\n",
    "        plt.ylabel('Average Margin %')\n",
    "        plt.xticks(rotation=45)\n",
    "        plt.grid(True)\n",
    "        plt.ylim(0, max(mfg_data['avg_margin_pct']) + (5 - max(mfg_data['avg_margin_pct']) % 5))\n",
    "        plt.yticks(np.arange(0, plt.ylim()[1], 5))\n",
    "        plt.legend(bbox_to_anchor=(1.05, 1), loc='upper left')\n",
    "        plt.tight_layout()\n",
    "\n",
    "        # Save current figure to PDF\n",
    "        pdf.savefig()\n",
    "        plt.close()"
   ],
   "id": "99a577e04afb040c",
   "outputs": [],
   "execution_count": null
  },
  {
   "metadata": {},
   "cell_type": "code",
   "source": [
    "c_sales = line_items[line_items.commission_or_mfr_direct == False]\n",
    "c_sales.total_amount.sum()"
   ],
   "id": "c4166ed8b6d1102c",
   "outputs": [],
   "execution_count": null
  },
  {
   "metadata": {},
   "cell_type": "code",
   "source": [
    "last_month = line_items['created_date'].max().to_period('M')\n",
    "last_month_line_items = line_items[\n",
    "    (pd.to_datetime(line_items['created_date']).dt.to_period('M') == last_month) &\n",
    "    (line_items['item_type'] == 'Non-inventory Item')\n",
    "    ]\n",
    "last_month_line_items.total_amount.sum()"
   ],
   "id": "edb15d60d34ce94",
   "outputs": [],
   "execution_count": null
  },
  {
   "metadata": {},
   "cell_type": "code",
   "source": "line_items.item_type.value_counts()",
   "id": "75467b8da5532692",
   "outputs": [],
   "execution_count": null
  },
  {
   "metadata": {},
   "cell_type": "code",
   "source": [
    "# calculate the total number of invoices\n",
    "num_invoices = transactions.groupby('customer_id').agg(\n",
    "    num_invoices=('customer_id', 'size'),\n",
    ").reset_index()\n",
    "\n",
    "# calculate the total sales and gross profit\n",
    "customer_totals = line_items.groupby('customer_id').agg(\n",
    "    num_invoice_line_items=('customer_id', 'size'),\n",
    "    total_net_sales=('total_amount', 'sum'),\n",
    "    total_gross_profit=('gross_profit', 'sum')\n",
    ").reset_index()\n",
    "\n",
    "# combine info\n",
    "customer_totals = pd.merge(customer_totals, num_invoices, on='customer_id', how='left')"
   ],
   "id": "5e47395309686c95",
   "outputs": [],
   "execution_count": null
  },
  {
   "metadata": {},
   "cell_type": "code",
   "source": [
    "# get info from customer table\n",
    "customer_info_subset = customers[[\"company_name\", \"primary_sales_rep\", \"primary_service_location\", \"end_market\"]]\n",
    "\n",
    "# merge customer info and invoice totals\n",
    "merged_data = pd.merge(customer_totals, customer_info_subset, on='customer_id', how='left')\n",
    "\n",
    "# add subsidiary info via primary location\n",
    "merged_data.rename(columns={'primary_service_location': 'location'}, inplace=True)\n",
    "merged_data = hf.set_subsidiary_by_location(merged_data)\n"
   ],
   "id": "d10a5f74b3ed2c70",
   "outputs": [],
   "execution_count": null
  },
  {
   "metadata": {},
   "cell_type": "code",
   "source": "merged_data",
   "id": "201cc523acbd89cf",
   "outputs": [],
   "execution_count": null
  },
  {
   "metadata": {},
   "cell_type": "code",
   "source": [
    "# Save to Excel\n",
    "output_file = 'analyses/invoice_totals_by_customer.xlsx'\n",
    "merged_data.to_excel(output_file, index=False)"
   ],
   "id": "616237ac402df298",
   "outputs": [],
   "execution_count": null
  },
  {
   "metadata": {},
   "cell_type": "code",
   "source": [
    "# Step 1: Extract the transaction created month\n",
    "transactions['transaction_month'] = transactions['created_date'].dt.to_period('M')\n",
    "\n",
    "# Group by 'transaction_month' and calculate total net sales and gross profit\n",
    "# Group by 'YearMonth' and calculate total net sales, gross profit, and number of invoices\n",
    "monthly_summary = transactions.groupby('transaction_month').agg(\n",
    "    total_net_sales=('net_amount', 'sum'),\n",
    "    total_gross_profit=('estimated_gross_profit', 'sum'),\n",
    "    num_invoices=('created_date', 'size')  # Count of invoices\n",
    ").reset_index()"
   ],
   "id": "63deb9d828dfeb60",
   "outputs": [],
   "execution_count": null
  },
  {
   "metadata": {},
   "cell_type": "code",
   "source": [
    "# imporve column names\n",
    "monthly_summary = monthly_summary.rename(columns={\n",
    "    'transaction_month': 'Month Created',\n",
    "    'num_invoices': 'Num Invoices',\n",
    "    'total_net_sales': 'Total Net Sales',\n",
    "    'total_gross_profit': 'Total Gross Profit'\n",
    "})\n",
    "\n",
    "# use month as index\n",
    "monthly_summary = monthly_summary.set_index(\"Month Created\")\n",
    "\n",
    "# move num_invoices to the first column\n",
    "cols = monthly_summary.columns.tolist()\n",
    "cols = cols[-1:] + cols[:-1]\n",
    "monthly_summary = monthly_summary[cols]"
   ],
   "id": "c6bacfaaf277d0c6",
   "outputs": [],
   "execution_count": null
  },
  {
   "metadata": {},
   "cell_type": "code",
   "source": "monthly_summary",
   "id": "1c5446e8744d1f4c",
   "outputs": [],
   "execution_count": null
  },
  {
   "metadata": {},
   "cell_type": "code",
   "source": [
    "# Save to Excel\n",
    "output_file = 'analyses/invoices_by_month.xlsx'\n",
    "monthly_summary.to_excel(output_file, index=True)"
   ],
   "id": "60bfde81e519695e",
   "outputs": [],
   "execution_count": null
  },
  {
   "metadata": {},
   "cell_type": "code",
   "source": [
    "entered_by_totals = transactions.groupby('created_by').agg(\n",
    "    num_invoices=('created_by', 'size'),            # Count the number of invoices\n",
    "    total_net_sales=('net_amount', 'sum'),                 # Sum of net amount\n",
    "    total_gross_profit=('estimated_gross_profit', 'sum')         # Sum of gross profit\n",
    ").reset_index()"
   ],
   "id": "bf5d3c978c35d5af",
   "outputs": [],
   "execution_count": null
  },
  {
   "metadata": {},
   "cell_type": "code",
   "source": [
    "# imporve column names\n",
    "entered_by_totals = entered_by_totals.rename(columns={\n",
    "    'num_invoices': 'Num Invoices',\n",
    "    'total_net_sales': 'Total Net Sales',\n",
    "    'total_gross_profit': 'Total Gross Profit'\n",
    "})"
   ],
   "id": "6921e079dd836ce1",
   "outputs": [],
   "execution_count": null
  },
  {
   "metadata": {},
   "cell_type": "code",
   "source": "entered_by_totals",
   "id": "cdd8db9660be20bc",
   "outputs": [],
   "execution_count": null
  },
  {
   "metadata": {},
   "cell_type": "code",
   "source": [
    "# Save to Excel\n",
    "output_file = 'analyses/invoices_by_who_entered_them.xlsx'\n",
    "entered_by_totals.to_excel(output_file, index=False)"
   ],
   "id": "21faf31d378d0a8e",
   "outputs": [],
   "execution_count": null
  },
  {
   "metadata": {},
   "cell_type": "code",
   "source": [
    "# merge data from customers to get sales rep name\n",
    "transactions = pd.merge(transactions, customer_info_subset, on='customer_id', how='left')\n",
    "\n",
    "# Replace NaN values in 'primary sales rep' with \"No Sales Rep\"\n",
    "transactions['primary_sales_rep'] = transactions['primary_sales_rep'].fillna(\"Not Specified\")"
   ],
   "id": "7549d89976118dc1",
   "outputs": [],
   "execution_count": null
  },
  {
   "metadata": {},
   "cell_type": "code",
   "source": [
    "sales_rep_totals = transactions.groupby('primary_sales_rep').agg(\n",
    "    num_invoices=('primary_sales_rep', 'size'),            # Count the number of invoices\n",
    "    total_net_sales=('net_amount', 'sum'),                 # Sum of net amount\n",
    "    total_gross_profit=('estimated_gross_profit', 'sum')         # Sum of gross profit\n",
    ").reset_index()"
   ],
   "id": "6551aa08a6ad9952",
   "outputs": [],
   "execution_count": null
  },
  {
   "metadata": {},
   "cell_type": "code",
   "source": [
    "# imporve column names\n",
    "sales_rep_totals = sales_rep_totals.rename(columns={\n",
    "    'num_invoices': 'Num Invoices',\n",
    "    'total_net_sales': 'Total Net Sales',\n",
    "    'total_gross_profit': 'Total Gross Profit'\n",
    "})"
   ],
   "id": "46e6b1222776e88e",
   "outputs": [],
   "execution_count": null
  },
  {
   "metadata": {},
   "cell_type": "code",
   "source": "sales_rep_totals",
   "id": "604b2740b32c42a4",
   "outputs": [],
   "execution_count": null
  },
  {
   "metadata": {},
   "cell_type": "code",
   "source": [
    "# Save to Excel\n",
    "output_file = 'analyses/invoices_by_sales_rep.xlsx'\n",
    "sales_rep_totals.to_excel(output_file, index=False)"
   ],
   "id": "d86c6e96f9ebe500",
   "outputs": [],
   "execution_count": null
  },
  {
   "metadata": {},
   "cell_type": "code",
   "source": "date_fields = transactions[['actual_ship_date', 'created_date', 'deliver_by_date', 'promised_date', 'ship_date']].copy()",
   "id": "1213054b24f4e30f",
   "outputs": [],
   "execution_count": null
  },
  {
   "metadata": {},
   "cell_type": "code",
   "source": "len(date_fields)",
   "id": "10811b7fc32d417b",
   "outputs": [],
   "execution_count": null
  },
  {
   "metadata": {},
   "cell_type": "code",
   "source": [
    "for date_field in date_fields.columns:\n",
    "    date_fields[date_field] = pd.to_datetime(date_fields[date_field], errors=\"coerce\")"
   ],
   "id": "45b12ffb8f637f1a",
   "outputs": [],
   "execution_count": null
  },
  {
   "metadata": {},
   "cell_type": "code",
   "source": "date_fields[\"deliver_by_date\"].value_counts()",
   "id": "a2c02431943dff35",
   "outputs": [],
   "execution_count": null
  },
  {
   "metadata": {},
   "cell_type": "code",
   "source": "date_fields[\"created_to_shipped\"] = date_fields[\"actual_ship_date\"] - date_fields[\"created_date\"]",
   "id": "8c36b37f8ca10729",
   "outputs": [],
   "execution_count": null
  },
  {
   "metadata": {},
   "cell_type": "code",
   "source": "trans_2024 = transactions[(transactions[\"created_date\"] >= '2024-01-01') & (transactions[\"created_date\"] <= '2024-12-31')]",
   "id": "1ffecfd633dccbf7",
   "outputs": [],
   "execution_count": null
  },
  {
   "metadata": {},
   "cell_type": "code",
   "source": "trans_2024[\"net_amount\"].sum()",
   "id": "6cc807c43d6aea2",
   "outputs": [],
   "execution_count": null
  },
  {
   "metadata": {},
   "cell_type": "code",
   "source": "len(trans_2024)",
   "id": "9c18aa61ac817088",
   "outputs": [],
   "execution_count": null
  },
  {
   "metadata": {},
   "cell_type": "code",
   "source": "",
   "id": "60b47c6e46bd7102",
   "outputs": [],
   "execution_count": null
  }
 ],
 "metadata": {
  "kernelspec": {
   "display_name": "Python 3",
   "language": "python",
   "name": "python3"
  },
  "language_info": {
   "codemirror_mode": {
    "name": "ipython",
    "version": 2
   },
   "file_extension": ".py",
   "mimetype": "text/x-python",
   "name": "python",
   "nbconvert_exporter": "python",
   "pygments_lexer": "ipython2",
   "version": "2.7.6"
  }
 },
 "nbformat": 4,
 "nbformat_minor": 5
}
