{
 "cells": [
  {
   "metadata": {
    "ExecuteTime": {
     "end_time": "2025-04-28T20:13:36.437482Z",
     "start_time": "2025-04-28T20:13:35.701385Z"
    }
   },
   "cell_type": "code",
   "source": [
    "# add path to custom python code for accessing data lake and working with dataframes\n",
    "import sys\n",
    "OH_base_path = '/Users/markbills/Library/CloudStorage/OneDrive-Transformativ,LLC/Clients/Ovation Holdings'\n",
    "sys.path.append(f'{OH_base_path}/src')\n",
    "\n",
    "# Azure Data Lake libraries\n",
    "import azure_data_lake_interface as adl\n",
    "\n",
    "# Data analysis libraries\n",
    "import pandas as pd\n",
    "\n",
    "# Helper function libraries\n",
    "import helper_functions as hf"
   ],
   "id": "b4c5e02f7c68fe04",
   "outputs": [],
   "execution_count": 1
  },
  {
   "metadata": {
    "ExecuteTime": {
     "end_time": "2025-04-28T20:13:38.355948Z",
     "start_time": "2025-04-28T20:13:37.138611Z"
    }
   },
   "cell_type": "code",
   "source": [
    "# read spreadsheet\n",
    "new_item_categories = pd.read_excel(f'{OH_base_path}/client_data/NewItemLevels.xlsx')\n",
    "\n",
    "# make sure everything is interpreted as a string\n",
    "new_item_categories = new_item_categories.astype(str)"
   ],
   "id": "f83e1f68e13aa64e",
   "outputs": [],
   "execution_count": 2
  },
  {
   "metadata": {
    "ExecuteTime": {
     "end_time": "2025-04-28T20:13:40.127269Z",
     "start_time": "2025-04-28T20:13:40.124290Z"
    }
   },
   "cell_type": "code",
   "source": [
    "# rename columns to match NetSuite naming convention\n",
    "renames = {\n",
    "    'Type': 'item_type',\n",
    "    'Manufacturer': 'manufacturer',\n",
    "    'Level 1': 'level_1_category',\n",
    "    'Level 2': 'level_2_category',\n",
    "    'Level 3': 'level_3_category',\n",
    "    'Level 4': 'level_4_category',\n",
    "    'Level 5': 'level_5_category',\n",
    "    'Level 6': 'level_6_category',\n",
    "    'Name': 'item_name',\n",
    "    'Description': 'description',\n",
    "}\n",
    "new_item_categories.rename(columns=renames, inplace=True)"
   ],
   "id": "9d3b4b58efd9f24b",
   "outputs": [],
   "execution_count": 3
  },
  {
   "metadata": {
    "ExecuteTime": {
     "end_time": "2025-04-28T20:13:59.753493Z",
     "start_time": "2025-04-28T20:13:57.641859Z"
    }
   },
   "cell_type": "code",
   "source": [
    "# attach to the data lake\n",
    "config = hf.load_config(\"config/datalake_config.json\", flush_cache=True)\n",
    "service_client = adl.get_azure_service_client(config[\"blob_url\"])\n",
    "file_system_client = adl.get_azure_file_system_client(service_client, \"consolidated\")\n",
    "\n",
    "# save in the data lake\n",
    "adl.save_df_as_parquet_in_data_lake(new_item_categories, file_system_client, \"enhanced/netsuite\", \"new_item_categories.parquet\")"
   ],
   "id": "7b60bbee9420ba69",
   "outputs": [],
   "execution_count": 4
  },
  {
   "metadata": {},
   "cell_type": "code",
   "outputs": [],
   "execution_count": null,
   "source": "",
   "id": "8e9f57cbf31ebf19"
  }
 ],
 "metadata": {
  "kernelspec": {
   "display_name": "Python 3",
   "language": "python",
   "name": "python3"
  },
  "language_info": {
   "codemirror_mode": {
    "name": "ipython",
    "version": 2
   },
   "file_extension": ".py",
   "mimetype": "text/x-python",
   "name": "python",
   "nbconvert_exporter": "python",
   "pygments_lexer": "ipython2",
   "version": "2.7.6"
  }
 },
 "nbformat": 4,
 "nbformat_minor": 5
}
